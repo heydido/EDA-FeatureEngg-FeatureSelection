{
 "cells": [
  {
   "cell_type": "markdown",
   "id": "abcd664f",
   "metadata": {
    "_cell_guid": "b1076dfc-b9ad-4769-8c92-a6c4dae69d19",
    "_uuid": "8f2839f25d086af736a60e9eeb907d3b93b6e0e5",
    "papermill": {
     "duration": 0.022524,
     "end_time": "2023-10-13T19:20:47.464504",
     "exception": false,
     "start_time": "2023-10-13T19:20:47.441980",
     "status": "completed"
    },
    "tags": []
   },
   "source": [
    "## ▶ Data cleaning, EDA, Feature Engineering on Titanic Datatset"
   ]
  },
  {
   "cell_type": "markdown",
   "id": "1e04be4a",
   "metadata": {
    "papermill": {
     "duration": 0.021049,
     "end_time": "2023-10-13T19:20:47.508440",
     "exception": false,
     "start_time": "2023-10-13T19:20:47.487391",
     "status": "completed"
    },
    "tags": []
   },
   "source": [
    "### Import necessary libraries"
   ]
  },
  {
   "cell_type": "code",
   "execution_count": 1,
   "id": "f1d51b29",
   "metadata": {
    "execution": {
     "iopub.execute_input": "2023-10-13T19:20:47.552941Z",
     "iopub.status.busy": "2023-10-13T19:20:47.552349Z",
     "iopub.status.idle": "2023-10-13T19:20:49.842919Z",
     "shell.execute_reply": "2023-10-13T19:20:49.842083Z"
    },
    "papermill": {
     "duration": 2.315104,
     "end_time": "2023-10-13T19:20:49.845237",
     "exception": false,
     "start_time": "2023-10-13T19:20:47.530133",
     "status": "completed"
    },
    "tags": []
   },
   "outputs": [],
   "source": [
    "import json\n",
    "import pandas as pd\n",
    "import numpy as np\n",
    "import seaborn as sns\n",
    "import matplotlib.pyplot as plt\n",
    "%matplotlib inline\n",
    "\n",
    "import warnings\n",
    "warnings.filterwarnings(\"ignore\")"
   ]
  },
  {
   "cell_type": "markdown",
   "id": "b352f5ca",
   "metadata": {
    "papermill": {
     "duration": 0.080367,
     "end_time": "2023-10-13T19:20:49.947090",
     "exception": false,
     "start_time": "2023-10-13T19:20:49.866723",
     "status": "completed"
    },
    "tags": []
   },
   "source": [
    "### load dataset and perform some initial checks"
   ]
  },
  {
   "cell_type": "code",
   "execution_count": 2,
   "id": "884038dc",
   "metadata": {
    "execution": {
     "iopub.execute_input": "2023-10-13T19:20:49.991458Z",
     "iopub.status.busy": "2023-10-13T19:20:49.990658Z",
     "iopub.status.idle": "2023-10-13T19:20:50.012264Z",
     "shell.execute_reply": "2023-10-13T19:20:50.011227Z"
    },
    "papermill": {
     "duration": 0.046499,
     "end_time": "2023-10-13T19:20:50.014601",
     "exception": false,
     "start_time": "2023-10-13T19:20:49.968102",
     "status": "completed"
    },
    "tags": []
   },
   "outputs": [],
   "source": [
    "df = pd.read_csv('/kaggle/input/titanic/train.csv')"
   ]
  },
  {
   "cell_type": "code",
   "execution_count": 3,
   "id": "30ed0ffe",
   "metadata": {
    "execution": {
     "iopub.execute_input": "2023-10-13T19:20:50.058841Z",
     "iopub.status.busy": "2023-10-13T19:20:50.058460Z",
     "iopub.status.idle": "2023-10-13T19:20:50.083742Z",
     "shell.execute_reply": "2023-10-13T19:20:50.082683Z"
    },
    "papermill": {
     "duration": 0.050202,
     "end_time": "2023-10-13T19:20:50.086296",
     "exception": false,
     "start_time": "2023-10-13T19:20:50.036094",
     "status": "completed"
    },
    "tags": []
   },
   "outputs": [
    {
     "data": {
      "text/html": [
       "<div>\n",
       "<style scoped>\n",
       "    .dataframe tbody tr th:only-of-type {\n",
       "        vertical-align: middle;\n",
       "    }\n",
       "\n",
       "    .dataframe tbody tr th {\n",
       "        vertical-align: top;\n",
       "    }\n",
       "\n",
       "    .dataframe thead th {\n",
       "        text-align: right;\n",
       "    }\n",
       "</style>\n",
       "<table border=\"1\" class=\"dataframe\">\n",
       "  <thead>\n",
       "    <tr style=\"text-align: right;\">\n",
       "      <th></th>\n",
       "      <th>PassengerId</th>\n",
       "      <th>Survived</th>\n",
       "      <th>Pclass</th>\n",
       "      <th>Name</th>\n",
       "      <th>Sex</th>\n",
       "      <th>Age</th>\n",
       "      <th>SibSp</th>\n",
       "      <th>Parch</th>\n",
       "      <th>Ticket</th>\n",
       "      <th>Fare</th>\n",
       "      <th>Cabin</th>\n",
       "      <th>Embarked</th>\n",
       "    </tr>\n",
       "  </thead>\n",
       "  <tbody>\n",
       "    <tr>\n",
       "      <th>0</th>\n",
       "      <td>1</td>\n",
       "      <td>0</td>\n",
       "      <td>3</td>\n",
       "      <td>Braund, Mr. Owen Harris</td>\n",
       "      <td>male</td>\n",
       "      <td>22.0</td>\n",
       "      <td>1</td>\n",
       "      <td>0</td>\n",
       "      <td>A/5 21171</td>\n",
       "      <td>7.2500</td>\n",
       "      <td>NaN</td>\n",
       "      <td>S</td>\n",
       "    </tr>\n",
       "    <tr>\n",
       "      <th>1</th>\n",
       "      <td>2</td>\n",
       "      <td>1</td>\n",
       "      <td>1</td>\n",
       "      <td>Cumings, Mrs. John Bradley (Florence Briggs Th...</td>\n",
       "      <td>female</td>\n",
       "      <td>38.0</td>\n",
       "      <td>1</td>\n",
       "      <td>0</td>\n",
       "      <td>PC 17599</td>\n",
       "      <td>71.2833</td>\n",
       "      <td>C85</td>\n",
       "      <td>C</td>\n",
       "    </tr>\n",
       "    <tr>\n",
       "      <th>2</th>\n",
       "      <td>3</td>\n",
       "      <td>1</td>\n",
       "      <td>3</td>\n",
       "      <td>Heikkinen, Miss. Laina</td>\n",
       "      <td>female</td>\n",
       "      <td>26.0</td>\n",
       "      <td>0</td>\n",
       "      <td>0</td>\n",
       "      <td>STON/O2. 3101282</td>\n",
       "      <td>7.9250</td>\n",
       "      <td>NaN</td>\n",
       "      <td>S</td>\n",
       "    </tr>\n",
       "    <tr>\n",
       "      <th>3</th>\n",
       "      <td>4</td>\n",
       "      <td>1</td>\n",
       "      <td>1</td>\n",
       "      <td>Futrelle, Mrs. Jacques Heath (Lily May Peel)</td>\n",
       "      <td>female</td>\n",
       "      <td>35.0</td>\n",
       "      <td>1</td>\n",
       "      <td>0</td>\n",
       "      <td>113803</td>\n",
       "      <td>53.1000</td>\n",
       "      <td>C123</td>\n",
       "      <td>S</td>\n",
       "    </tr>\n",
       "    <tr>\n",
       "      <th>4</th>\n",
       "      <td>5</td>\n",
       "      <td>0</td>\n",
       "      <td>3</td>\n",
       "      <td>Allen, Mr. William Henry</td>\n",
       "      <td>male</td>\n",
       "      <td>35.0</td>\n",
       "      <td>0</td>\n",
       "      <td>0</td>\n",
       "      <td>373450</td>\n",
       "      <td>8.0500</td>\n",
       "      <td>NaN</td>\n",
       "      <td>S</td>\n",
       "    </tr>\n",
       "  </tbody>\n",
       "</table>\n",
       "</div>"
      ],
      "text/plain": [
       "   PassengerId  Survived  Pclass  \\\n",
       "0            1         0       3   \n",
       "1            2         1       1   \n",
       "2            3         1       3   \n",
       "3            4         1       1   \n",
       "4            5         0       3   \n",
       "\n",
       "                                                Name     Sex   Age  SibSp  \\\n",
       "0                            Braund, Mr. Owen Harris    male  22.0      1   \n",
       "1  Cumings, Mrs. John Bradley (Florence Briggs Th...  female  38.0      1   \n",
       "2                             Heikkinen, Miss. Laina  female  26.0      0   \n",
       "3       Futrelle, Mrs. Jacques Heath (Lily May Peel)  female  35.0      1   \n",
       "4                           Allen, Mr. William Henry    male  35.0      0   \n",
       "\n",
       "   Parch            Ticket     Fare Cabin Embarked  \n",
       "0      0         A/5 21171   7.2500   NaN        S  \n",
       "1      0          PC 17599  71.2833   C85        C  \n",
       "2      0  STON/O2. 3101282   7.9250   NaN        S  \n",
       "3      0            113803  53.1000  C123        S  \n",
       "4      0            373450   8.0500   NaN        S  "
      ]
     },
     "execution_count": 3,
     "metadata": {},
     "output_type": "execute_result"
    }
   ],
   "source": [
    "df.head()"
   ]
  },
  {
   "cell_type": "code",
   "execution_count": 4,
   "id": "4d14effe",
   "metadata": {
    "execution": {
     "iopub.execute_input": "2023-10-13T19:20:50.133113Z",
     "iopub.status.busy": "2023-10-13T19:20:50.132433Z",
     "iopub.status.idle": "2023-10-13T19:20:50.137793Z",
     "shell.execute_reply": "2023-10-13T19:20:50.136463Z"
    },
    "papermill": {
     "duration": 0.030001,
     "end_time": "2023-10-13T19:20:50.139703",
     "exception": false,
     "start_time": "2023-10-13T19:20:50.109702",
     "status": "completed"
    },
    "tags": []
   },
   "outputs": [
    {
     "name": "stdout",
     "output_type": "stream",
     "text": [
      "Shape: (891, 12) | Rows: 891, Columns: 12\n"
     ]
    }
   ],
   "source": [
    "print('Shape:', df.shape, f'| Rows: {df.shape[0]}, Columns: {df.shape[1]}')"
   ]
  },
  {
   "cell_type": "code",
   "execution_count": 5,
   "id": "8e98b347",
   "metadata": {
    "execution": {
     "iopub.execute_input": "2023-10-13T19:20:50.184728Z",
     "iopub.status.busy": "2023-10-13T19:20:50.184035Z",
     "iopub.status.idle": "2023-10-13T19:20:50.213988Z",
     "shell.execute_reply": "2023-10-13T19:20:50.213134Z"
    },
    "papermill": {
     "duration": 0.05491,
     "end_time": "2023-10-13T19:20:50.216153",
     "exception": false,
     "start_time": "2023-10-13T19:20:50.161243",
     "status": "completed"
    },
    "tags": []
   },
   "outputs": [
    {
     "name": "stdout",
     "output_type": "stream",
     "text": [
      "<class 'pandas.core.frame.DataFrame'>\n",
      "RangeIndex: 891 entries, 0 to 890\n",
      "Data columns (total 12 columns):\n",
      " #   Column       Non-Null Count  Dtype  \n",
      "---  ------       --------------  -----  \n",
      " 0   PassengerId  891 non-null    int64  \n",
      " 1   Survived     891 non-null    int64  \n",
      " 2   Pclass       891 non-null    int64  \n",
      " 3   Name         891 non-null    object \n",
      " 4   Sex          891 non-null    object \n",
      " 5   Age          714 non-null    float64\n",
      " 6   SibSp        891 non-null    int64  \n",
      " 7   Parch        891 non-null    int64  \n",
      " 8   Ticket       891 non-null    object \n",
      " 9   Fare         891 non-null    float64\n",
      " 10  Cabin        204 non-null    object \n",
      " 11  Embarked     889 non-null    object \n",
      "dtypes: float64(2), int64(5), object(5)\n",
      "memory usage: 83.7+ KB\n"
     ]
    }
   ],
   "source": [
    "df.info()"
   ]
  },
  {
   "cell_type": "markdown",
   "id": "bec858ef",
   "metadata": {
    "papermill": {
     "duration": 0.021729,
     "end_time": "2023-10-13T19:20:50.259298",
     "exception": false,
     "start_time": "2023-10-13T19:20:50.237569",
     "status": "completed"
    },
    "tags": []
   },
   "source": [
    "The Dtype assignments looks good."
   ]
  },
  {
   "cell_type": "code",
   "execution_count": 6,
   "id": "51caeaeb",
   "metadata": {
    "execution": {
     "iopub.execute_input": "2023-10-13T19:20:50.304768Z",
     "iopub.status.busy": "2023-10-13T19:20:50.303730Z",
     "iopub.status.idle": "2023-10-13T19:20:50.315568Z",
     "shell.execute_reply": "2023-10-13T19:20:50.314591Z"
    },
    "papermill": {
     "duration": 0.036644,
     "end_time": "2023-10-13T19:20:50.317698",
     "exception": false,
     "start_time": "2023-10-13T19:20:50.281054",
     "status": "completed"
    },
    "tags": []
   },
   "outputs": [
    {
     "data": {
      "text/plain": [
       "PassengerId    891\n",
       "Survived         2\n",
       "Pclass           3\n",
       "Name           891\n",
       "Sex              2\n",
       "Age             88\n",
       "SibSp            7\n",
       "Parch            7\n",
       "Ticket         681\n",
       "Fare           248\n",
       "Cabin          147\n",
       "Embarked         3\n",
       "dtype: int64"
      ]
     },
     "execution_count": 6,
     "metadata": {},
     "output_type": "execute_result"
    }
   ],
   "source": [
    "df.nunique()"
   ]
  },
  {
   "cell_type": "code",
   "execution_count": 7,
   "id": "cebb1869",
   "metadata": {
    "execution": {
     "iopub.execute_input": "2023-10-13T19:20:50.364204Z",
     "iopub.status.busy": "2023-10-13T19:20:50.363787Z",
     "iopub.status.idle": "2023-10-13T19:20:50.395994Z",
     "shell.execute_reply": "2023-10-13T19:20:50.395228Z"
    },
    "papermill": {
     "duration": 0.057718,
     "end_time": "2023-10-13T19:20:50.397839",
     "exception": false,
     "start_time": "2023-10-13T19:20:50.340121",
     "status": "completed"
    },
    "tags": []
   },
   "outputs": [
    {
     "data": {
      "text/html": [
       "<div>\n",
       "<style scoped>\n",
       "    .dataframe tbody tr th:only-of-type {\n",
       "        vertical-align: middle;\n",
       "    }\n",
       "\n",
       "    .dataframe tbody tr th {\n",
       "        vertical-align: top;\n",
       "    }\n",
       "\n",
       "    .dataframe thead th {\n",
       "        text-align: right;\n",
       "    }\n",
       "</style>\n",
       "<table border=\"1\" class=\"dataframe\">\n",
       "  <thead>\n",
       "    <tr style=\"text-align: right;\">\n",
       "      <th></th>\n",
       "      <th>count</th>\n",
       "      <th>mean</th>\n",
       "      <th>std</th>\n",
       "      <th>min</th>\n",
       "      <th>25%</th>\n",
       "      <th>50%</th>\n",
       "      <th>75%</th>\n",
       "      <th>max</th>\n",
       "    </tr>\n",
       "  </thead>\n",
       "  <tbody>\n",
       "    <tr>\n",
       "      <th>PassengerId</th>\n",
       "      <td>891.0</td>\n",
       "      <td>446.000000</td>\n",
       "      <td>257.353842</td>\n",
       "      <td>1.00</td>\n",
       "      <td>223.5000</td>\n",
       "      <td>446.0000</td>\n",
       "      <td>668.5</td>\n",
       "      <td>891.0000</td>\n",
       "    </tr>\n",
       "    <tr>\n",
       "      <th>Survived</th>\n",
       "      <td>891.0</td>\n",
       "      <td>0.383838</td>\n",
       "      <td>0.486592</td>\n",
       "      <td>0.00</td>\n",
       "      <td>0.0000</td>\n",
       "      <td>0.0000</td>\n",
       "      <td>1.0</td>\n",
       "      <td>1.0000</td>\n",
       "    </tr>\n",
       "    <tr>\n",
       "      <th>Pclass</th>\n",
       "      <td>891.0</td>\n",
       "      <td>2.308642</td>\n",
       "      <td>0.836071</td>\n",
       "      <td>1.00</td>\n",
       "      <td>2.0000</td>\n",
       "      <td>3.0000</td>\n",
       "      <td>3.0</td>\n",
       "      <td>3.0000</td>\n",
       "    </tr>\n",
       "    <tr>\n",
       "      <th>Age</th>\n",
       "      <td>714.0</td>\n",
       "      <td>29.699118</td>\n",
       "      <td>14.526497</td>\n",
       "      <td>0.42</td>\n",
       "      <td>20.1250</td>\n",
       "      <td>28.0000</td>\n",
       "      <td>38.0</td>\n",
       "      <td>80.0000</td>\n",
       "    </tr>\n",
       "    <tr>\n",
       "      <th>SibSp</th>\n",
       "      <td>891.0</td>\n",
       "      <td>0.523008</td>\n",
       "      <td>1.102743</td>\n",
       "      <td>0.00</td>\n",
       "      <td>0.0000</td>\n",
       "      <td>0.0000</td>\n",
       "      <td>1.0</td>\n",
       "      <td>8.0000</td>\n",
       "    </tr>\n",
       "    <tr>\n",
       "      <th>Parch</th>\n",
       "      <td>891.0</td>\n",
       "      <td>0.381594</td>\n",
       "      <td>0.806057</td>\n",
       "      <td>0.00</td>\n",
       "      <td>0.0000</td>\n",
       "      <td>0.0000</td>\n",
       "      <td>0.0</td>\n",
       "      <td>6.0000</td>\n",
       "    </tr>\n",
       "    <tr>\n",
       "      <th>Fare</th>\n",
       "      <td>891.0</td>\n",
       "      <td>32.204208</td>\n",
       "      <td>49.693429</td>\n",
       "      <td>0.00</td>\n",
       "      <td>7.9104</td>\n",
       "      <td>14.4542</td>\n",
       "      <td>31.0</td>\n",
       "      <td>512.3292</td>\n",
       "    </tr>\n",
       "  </tbody>\n",
       "</table>\n",
       "</div>"
      ],
      "text/plain": [
       "             count        mean         std   min       25%       50%    75%  \\\n",
       "PassengerId  891.0  446.000000  257.353842  1.00  223.5000  446.0000  668.5   \n",
       "Survived     891.0    0.383838    0.486592  0.00    0.0000    0.0000    1.0   \n",
       "Pclass       891.0    2.308642    0.836071  1.00    2.0000    3.0000    3.0   \n",
       "Age          714.0   29.699118   14.526497  0.42   20.1250   28.0000   38.0   \n",
       "SibSp        891.0    0.523008    1.102743  0.00    0.0000    0.0000    1.0   \n",
       "Parch        891.0    0.381594    0.806057  0.00    0.0000    0.0000    0.0   \n",
       "Fare         891.0   32.204208   49.693429  0.00    7.9104   14.4542   31.0   \n",
       "\n",
       "                  max  \n",
       "PassengerId  891.0000  \n",
       "Survived       1.0000  \n",
       "Pclass         3.0000  \n",
       "Age           80.0000  \n",
       "SibSp          8.0000  \n",
       "Parch          6.0000  \n",
       "Fare         512.3292  "
      ]
     },
     "execution_count": 7,
     "metadata": {},
     "output_type": "execute_result"
    }
   ],
   "source": [
    "df.describe().T"
   ]
  },
  {
   "cell_type": "code",
   "execution_count": 8,
   "id": "bbf46d3c",
   "metadata": {
    "execution": {
     "iopub.execute_input": "2023-10-13T19:20:50.443943Z",
     "iopub.status.busy": "2023-10-13T19:20:50.443315Z",
     "iopub.status.idle": "2023-10-13T19:20:50.454232Z",
     "shell.execute_reply": "2023-10-13T19:20:50.453432Z"
    },
    "papermill": {
     "duration": 0.03609,
     "end_time": "2023-10-13T19:20:50.456065",
     "exception": false,
     "start_time": "2023-10-13T19:20:50.419975",
     "status": "completed"
    },
    "tags": []
   },
   "outputs": [
    {
     "data": {
      "text/plain": [
       "0"
      ]
     },
     "execution_count": 8,
     "metadata": {},
     "output_type": "execute_result"
    }
   ],
   "source": [
    "df.duplicated().sum()"
   ]
  },
  {
   "cell_type": "markdown",
   "id": "63109d40",
   "metadata": {
    "papermill": {
     "duration": 0.021906,
     "end_time": "2023-10-13T19:20:50.500269",
     "exception": false,
     "start_time": "2023-10-13T19:20:50.478363",
     "status": "completed"
    },
    "tags": []
   },
   "source": [
    "No duplication found!"
   ]
  },
  {
   "cell_type": "markdown",
   "id": "1afaf845",
   "metadata": {
    "papermill": {
     "duration": 0.022344,
     "end_time": "2023-10-13T19:20:50.544819",
     "exception": false,
     "start_time": "2023-10-13T19:20:50.522475",
     "status": "completed"
    },
    "tags": []
   },
   "source": [
    "### Fill missing values"
   ]
  },
  {
   "cell_type": "code",
   "execution_count": 9,
   "id": "6187bd54",
   "metadata": {
    "execution": {
     "iopub.execute_input": "2023-10-13T19:20:50.592562Z",
     "iopub.status.busy": "2023-10-13T19:20:50.591847Z",
     "iopub.status.idle": "2023-10-13T19:20:50.599776Z",
     "shell.execute_reply": "2023-10-13T19:20:50.598682Z"
    },
    "papermill": {
     "duration": 0.033652,
     "end_time": "2023-10-13T19:20:50.601831",
     "exception": false,
     "start_time": "2023-10-13T19:20:50.568179",
     "status": "completed"
    },
    "tags": []
   },
   "outputs": [
    {
     "data": {
      "text/plain": [
       "PassengerId      0\n",
       "Survived         0\n",
       "Pclass           0\n",
       "Name             0\n",
       "Sex              0\n",
       "Age            177\n",
       "SibSp            0\n",
       "Parch            0\n",
       "Ticket           0\n",
       "Fare             0\n",
       "Cabin          687\n",
       "Embarked         2\n",
       "dtype: int64"
      ]
     },
     "execution_count": 9,
     "metadata": {},
     "output_type": "execute_result"
    }
   ],
   "source": [
    "df.isnull().sum()"
   ]
  },
  {
   "cell_type": "markdown",
   "id": "a8d8043f",
   "metadata": {
    "papermill": {
     "duration": 0.021826,
     "end_time": "2023-10-13T19:20:50.645875",
     "exception": false,
     "start_time": "2023-10-13T19:20:50.624049",
     "status": "completed"
    },
    "tags": []
   },
   "source": [
    "There are missing values. Let's check percentage missing."
   ]
  },
  {
   "cell_type": "code",
   "execution_count": 10,
   "id": "c51114ba",
   "metadata": {
    "execution": {
     "iopub.execute_input": "2023-10-13T19:20:50.692092Z",
     "iopub.status.busy": "2023-10-13T19:20:50.691685Z",
     "iopub.status.idle": "2023-10-13T19:20:50.696462Z",
     "shell.execute_reply": "2023-10-13T19:20:50.695717Z"
    },
    "papermill": {
     "duration": 0.030067,
     "end_time": "2023-10-13T19:20:50.698357",
     "exception": false,
     "start_time": "2023-10-13T19:20:50.668290",
     "status": "completed"
    },
    "tags": []
   },
   "outputs": [],
   "source": [
    "def perecnt_missing(df):\n",
    "    missing = {}\n",
    "    for column in list(df.columns):\n",
    "        missing[column] = round(100*df[column].isnull().sum()/len(df), 2)\n",
    "    return json.dumps(missing, indent=4)"
   ]
  },
  {
   "cell_type": "code",
   "execution_count": 11,
   "id": "5f4c4eac",
   "metadata": {
    "execution": {
     "iopub.execute_input": "2023-10-13T19:20:50.744776Z",
     "iopub.status.busy": "2023-10-13T19:20:50.744117Z",
     "iopub.status.idle": "2023-10-13T19:20:50.751880Z",
     "shell.execute_reply": "2023-10-13T19:20:50.750593Z"
    },
    "papermill": {
     "duration": 0.033674,
     "end_time": "2023-10-13T19:20:50.754145",
     "exception": false,
     "start_time": "2023-10-13T19:20:50.720471",
     "status": "completed"
    },
    "tags": []
   },
   "outputs": [
    {
     "name": "stdout",
     "output_type": "stream",
     "text": [
      "{\n",
      "    \"PassengerId\": 0.0,\n",
      "    \"Survived\": 0.0,\n",
      "    \"Pclass\": 0.0,\n",
      "    \"Name\": 0.0,\n",
      "    \"Sex\": 0.0,\n",
      "    \"Age\": 19.87,\n",
      "    \"SibSp\": 0.0,\n",
      "    \"Parch\": 0.0,\n",
      "    \"Ticket\": 0.0,\n",
      "    \"Fare\": 0.0,\n",
      "    \"Cabin\": 77.1,\n",
      "    \"Embarked\": 0.22\n",
      "}\n"
     ]
    }
   ],
   "source": [
    "missing_percentage_all_col = perecnt_missing(df)\n",
    "print(missing_percentage_all_col)"
   ]
  },
  {
   "cell_type": "markdown",
   "id": "1799aac7",
   "metadata": {
    "papermill": {
     "duration": 0.022067,
     "end_time": "2023-10-13T19:20:50.798668",
     "exception": false,
     "start_time": "2023-10-13T19:20:50.776601",
     "status": "completed"
    },
    "tags": []
   },
   "source": [
    "`Cabin` is missing in 77% of data. This can be removed. Also, `Name` and `Ticket` is not useful for ML model building. So let's remove that."
   ]
  },
  {
   "cell_type": "code",
   "execution_count": 12,
   "id": "96030ed6",
   "metadata": {
    "execution": {
     "iopub.execute_input": "2023-10-13T19:20:50.844989Z",
     "iopub.status.busy": "2023-10-13T19:20:50.844600Z",
     "iopub.status.idle": "2023-10-13T19:20:50.853379Z",
     "shell.execute_reply": "2023-10-13T19:20:50.852269Z"
    },
    "papermill": {
     "duration": 0.034317,
     "end_time": "2023-10-13T19:20:50.855450",
     "exception": false,
     "start_time": "2023-10-13T19:20:50.821133",
     "status": "completed"
    },
    "tags": []
   },
   "outputs": [],
   "source": [
    "df = df.drop(['Cabin', 'Name', 'Ticket'], axis=1)"
   ]
  },
  {
   "cell_type": "code",
   "execution_count": 13,
   "id": "33f4fcba",
   "metadata": {
    "execution": {
     "iopub.execute_input": "2023-10-13T19:20:50.901890Z",
     "iopub.status.busy": "2023-10-13T19:20:50.901333Z",
     "iopub.status.idle": "2023-10-13T19:20:50.909286Z",
     "shell.execute_reply": "2023-10-13T19:20:50.908281Z"
    },
    "papermill": {
     "duration": 0.03367,
     "end_time": "2023-10-13T19:20:50.911257",
     "exception": false,
     "start_time": "2023-10-13T19:20:50.877587",
     "status": "completed"
    },
    "tags": []
   },
   "outputs": [
    {
     "data": {
      "text/plain": [
       "PassengerId      0\n",
       "Survived         0\n",
       "Pclass           0\n",
       "Sex              0\n",
       "Age            177\n",
       "SibSp            0\n",
       "Parch            0\n",
       "Fare             0\n",
       "Embarked         2\n",
       "dtype: int64"
      ]
     },
     "execution_count": 13,
     "metadata": {},
     "output_type": "execute_result"
    }
   ],
   "source": [
    "df.isnull().sum()"
   ]
  },
  {
   "cell_type": "markdown",
   "id": "71952d9d",
   "metadata": {
    "papermill": {
     "duration": 0.022189,
     "end_time": "2023-10-13T19:20:50.956303",
     "exception": false,
     "start_time": "2023-10-13T19:20:50.934114",
     "status": "completed"
    },
    "tags": []
   },
   "source": [
    "`Embarked` is also missing in two line items. Let's check this."
   ]
  },
  {
   "cell_type": "code",
   "execution_count": 14,
   "id": "65b0d1ec",
   "metadata": {
    "execution": {
     "iopub.execute_input": "2023-10-13T19:20:51.002626Z",
     "iopub.status.busy": "2023-10-13T19:20:51.002298Z",
     "iopub.status.idle": "2023-10-13T19:20:51.009239Z",
     "shell.execute_reply": "2023-10-13T19:20:51.008169Z"
    },
    "papermill": {
     "duration": 0.032794,
     "end_time": "2023-10-13T19:20:51.011541",
     "exception": false,
     "start_time": "2023-10-13T19:20:50.978747",
     "status": "completed"
    },
    "tags": []
   },
   "outputs": [
    {
     "data": {
      "text/plain": [
       "array(['S', 'C', 'Q', nan], dtype=object)"
      ]
     },
     "execution_count": 14,
     "metadata": {},
     "output_type": "execute_result"
    }
   ],
   "source": [
    "df['Embarked'].unique()"
   ]
  },
  {
   "cell_type": "code",
   "execution_count": 15,
   "id": "ad15d6cb",
   "metadata": {
    "execution": {
     "iopub.execute_input": "2023-10-13T19:20:51.059497Z",
     "iopub.status.busy": "2023-10-13T19:20:51.058596Z",
     "iopub.status.idle": "2023-10-13T19:20:51.072681Z",
     "shell.execute_reply": "2023-10-13T19:20:51.071281Z"
    },
    "papermill": {
     "duration": 0.039672,
     "end_time": "2023-10-13T19:20:51.074698",
     "exception": false,
     "start_time": "2023-10-13T19:20:51.035026",
     "status": "completed"
    },
    "tags": []
   },
   "outputs": [
    {
     "data": {
      "text/html": [
       "<div>\n",
       "<style scoped>\n",
       "    .dataframe tbody tr th:only-of-type {\n",
       "        vertical-align: middle;\n",
       "    }\n",
       "\n",
       "    .dataframe tbody tr th {\n",
       "        vertical-align: top;\n",
       "    }\n",
       "\n",
       "    .dataframe thead th {\n",
       "        text-align: right;\n",
       "    }\n",
       "</style>\n",
       "<table border=\"1\" class=\"dataframe\">\n",
       "  <thead>\n",
       "    <tr style=\"text-align: right;\">\n",
       "      <th></th>\n",
       "      <th>PassengerId</th>\n",
       "      <th>Survived</th>\n",
       "      <th>Pclass</th>\n",
       "      <th>Sex</th>\n",
       "      <th>Age</th>\n",
       "      <th>SibSp</th>\n",
       "      <th>Parch</th>\n",
       "      <th>Fare</th>\n",
       "      <th>Embarked</th>\n",
       "    </tr>\n",
       "  </thead>\n",
       "  <tbody>\n",
       "    <tr>\n",
       "      <th>61</th>\n",
       "      <td>62</td>\n",
       "      <td>1</td>\n",
       "      <td>1</td>\n",
       "      <td>female</td>\n",
       "      <td>38.0</td>\n",
       "      <td>0</td>\n",
       "      <td>0</td>\n",
       "      <td>80.0</td>\n",
       "      <td>NaN</td>\n",
       "    </tr>\n",
       "    <tr>\n",
       "      <th>829</th>\n",
       "      <td>830</td>\n",
       "      <td>1</td>\n",
       "      <td>1</td>\n",
       "      <td>female</td>\n",
       "      <td>62.0</td>\n",
       "      <td>0</td>\n",
       "      <td>0</td>\n",
       "      <td>80.0</td>\n",
       "      <td>NaN</td>\n",
       "    </tr>\n",
       "  </tbody>\n",
       "</table>\n",
       "</div>"
      ],
      "text/plain": [
       "     PassengerId  Survived  Pclass     Sex   Age  SibSp  Parch  Fare Embarked\n",
       "61            62         1       1  female  38.0      0      0  80.0      NaN\n",
       "829          830         1       1  female  62.0      0      0  80.0      NaN"
      ]
     },
     "execution_count": 15,
     "metadata": {},
     "output_type": "execute_result"
    }
   ],
   "source": [
    "df[~df['Embarked'].isin(['S', 'C', 'Q'])]"
   ]
  },
  {
   "cell_type": "markdown",
   "id": "1b9f0290",
   "metadata": {
    "papermill": {
     "duration": 0.022103,
     "end_time": "2023-10-13T19:20:51.119284",
     "exception": false,
     "start_time": "2023-10-13T19:20:51.097181",
     "status": "completed"
    },
    "tags": []
   },
   "source": [
    "`Embarked` is categorical. Let's fill it with mode for the same'"
   ]
  },
  {
   "cell_type": "code",
   "execution_count": 16,
   "id": "d711f2cc",
   "metadata": {
    "execution": {
     "iopub.execute_input": "2023-10-13T19:20:51.167034Z",
     "iopub.status.busy": "2023-10-13T19:20:51.166646Z",
     "iopub.status.idle": "2023-10-13T19:20:51.173208Z",
     "shell.execute_reply": "2023-10-13T19:20:51.172029Z"
    },
    "papermill": {
     "duration": 0.032931,
     "end_time": "2023-10-13T19:20:51.175381",
     "exception": false,
     "start_time": "2023-10-13T19:20:51.142450",
     "status": "completed"
    },
    "tags": []
   },
   "outputs": [],
   "source": [
    "df['Embarked'] = df['Embarked'].fillna(df['Embarked'].mode()[0])"
   ]
  },
  {
   "cell_type": "code",
   "execution_count": 17,
   "id": "9e6c3deb",
   "metadata": {
    "execution": {
     "iopub.execute_input": "2023-10-13T19:20:51.223225Z",
     "iopub.status.busy": "2023-10-13T19:20:51.222738Z",
     "iopub.status.idle": "2023-10-13T19:20:51.234140Z",
     "shell.execute_reply": "2023-10-13T19:20:51.232865Z"
    },
    "papermill": {
     "duration": 0.037966,
     "end_time": "2023-10-13T19:20:51.236445",
     "exception": false,
     "start_time": "2023-10-13T19:20:51.198479",
     "status": "completed"
    },
    "tags": []
   },
   "outputs": [
    {
     "data": {
      "text/plain": [
       "PassengerId      0\n",
       "Survived         0\n",
       "Pclass           0\n",
       "Sex              0\n",
       "Age            177\n",
       "SibSp            0\n",
       "Parch            0\n",
       "Fare             0\n",
       "Embarked         0\n",
       "dtype: int64"
      ]
     },
     "execution_count": 17,
     "metadata": {},
     "output_type": "execute_result"
    }
   ],
   "source": [
    "df.isnull().sum()"
   ]
  },
  {
   "cell_type": "markdown",
   "id": "97cd5a49",
   "metadata": {
    "papermill": {
     "duration": 0.023658,
     "end_time": "2023-10-13T19:20:51.296324",
     "exception": false,
     "start_time": "2023-10-13T19:20:51.272666",
     "status": "completed"
    },
    "tags": []
   },
   "source": [
    "`Age` is missing in lot of line ites, but not enough so we could it. Let's find if is is corelated to any other column."
   ]
  },
  {
   "cell_type": "code",
   "execution_count": 18,
   "id": "3c235dbf",
   "metadata": {
    "execution": {
     "iopub.execute_input": "2023-10-13T19:20:51.347825Z",
     "iopub.status.busy": "2023-10-13T19:20:51.347176Z",
     "iopub.status.idle": "2023-10-13T19:20:51.350623Z",
     "shell.execute_reply": "2023-10-13T19:20:51.349965Z"
    },
    "papermill": {
     "duration": 0.030129,
     "end_time": "2023-10-13T19:20:51.352656",
     "exception": false,
     "start_time": "2023-10-13T19:20:51.322527",
     "status": "completed"
    },
    "tags": []
   },
   "outputs": [],
   "source": [
    "# sns.heatmap(df.corr(), annot=True, cmap='coolwarm')\n",
    "# plt.show()"
   ]
  },
  {
   "cell_type": "markdown",
   "id": "3e2e81d3",
   "metadata": {
    "papermill": {
     "duration": 0.022716,
     "end_time": "2023-10-13T19:20:51.398841",
     "exception": false,
     "start_time": "2023-10-13T19:20:51.376125",
     "status": "completed"
    },
    "tags": []
   },
   "source": [
    "Looks like `Age` is somewhat corelated to `PClass` and `SibSp` here. So let's fill Age with mean of the PClass to which the missing lineitem belong to."
   ]
  },
  {
   "cell_type": "code",
   "execution_count": 19,
   "id": "5a960fa2",
   "metadata": {
    "execution": {
     "iopub.execute_input": "2023-10-13T19:20:51.446994Z",
     "iopub.status.busy": "2023-10-13T19:20:51.446319Z",
     "iopub.status.idle": "2023-10-13T19:20:51.451502Z",
     "shell.execute_reply": "2023-10-13T19:20:51.450826Z"
    },
    "papermill": {
     "duration": 0.031448,
     "end_time": "2023-10-13T19:20:51.453431",
     "exception": false,
     "start_time": "2023-10-13T19:20:51.421983",
     "status": "completed"
    },
    "tags": []
   },
   "outputs": [],
   "source": [
    "def fill_missing_age(cols):\n",
    "    Age = cols[0]\n",
    "    Pclass = cols[1]\n",
    "    \n",
    "    if pd.isnull(Age):\n",
    "        if Pclass == 1:\n",
    "            return int(df[df['Pclass'] == 1]['Age'].mean())\n",
    "        elif Pclass == 2:\n",
    "            return int(df[df['Pclass'] == 2]['Age'].mean())\n",
    "        else:\n",
    "            return int(df[df['Pclass'] == 3]['Age'].mean())\n",
    "    else:\n",
    "        return Age"
   ]
  },
  {
   "cell_type": "code",
   "execution_count": 20,
   "id": "71794f52",
   "metadata": {
    "execution": {
     "iopub.execute_input": "2023-10-13T19:20:51.508224Z",
     "iopub.status.busy": "2023-10-13T19:20:51.507531Z",
     "iopub.status.idle": "2023-10-13T19:20:51.646741Z",
     "shell.execute_reply": "2023-10-13T19:20:51.645947Z"
    },
    "papermill": {
     "duration": 0.16839,
     "end_time": "2023-10-13T19:20:51.649569",
     "exception": false,
     "start_time": "2023-10-13T19:20:51.481179",
     "status": "completed"
    },
    "tags": []
   },
   "outputs": [],
   "source": [
    "df['Age'] = df[['Age', 'Pclass']].apply(fill_missing_age, axis=1)"
   ]
  },
  {
   "cell_type": "code",
   "execution_count": 21,
   "id": "caa09f4b",
   "metadata": {
    "execution": {
     "iopub.execute_input": "2023-10-13T19:20:51.715780Z",
     "iopub.status.busy": "2023-10-13T19:20:51.715401Z",
     "iopub.status.idle": "2023-10-13T19:20:51.724156Z",
     "shell.execute_reply": "2023-10-13T19:20:51.723002Z"
    },
    "papermill": {
     "duration": 0.035921,
     "end_time": "2023-10-13T19:20:51.726603",
     "exception": false,
     "start_time": "2023-10-13T19:20:51.690682",
     "status": "completed"
    },
    "tags": []
   },
   "outputs": [
    {
     "data": {
      "text/plain": [
       "PassengerId    0\n",
       "Survived       0\n",
       "Pclass         0\n",
       "Sex            0\n",
       "Age            0\n",
       "SibSp          0\n",
       "Parch          0\n",
       "Fare           0\n",
       "Embarked       0\n",
       "dtype: int64"
      ]
     },
     "execution_count": 21,
     "metadata": {},
     "output_type": "execute_result"
    }
   ],
   "source": [
    "df.isnull().sum()"
   ]
  },
  {
   "cell_type": "markdown",
   "id": "6bc3f5a9",
   "metadata": {
    "papermill": {
     "duration": 0.023035,
     "end_time": "2023-10-13T19:20:51.772706",
     "exception": false,
     "start_time": "2023-10-13T19:20:51.749671",
     "status": "completed"
    },
    "tags": []
   },
   "source": [
    "All good now!"
   ]
  },
  {
   "cell_type": "markdown",
   "id": "c56d04db",
   "metadata": {
    "papermill": {
     "duration": 0.022983,
     "end_time": "2023-10-13T19:20:51.819857",
     "exception": false,
     "start_time": "2023-10-13T19:20:51.796874",
     "status": "completed"
    },
    "tags": []
   },
   "source": [
    "### Visualizations"
   ]
  },
  {
   "cell_type": "code",
   "execution_count": 22,
   "id": "8784c4ff",
   "metadata": {
    "execution": {
     "iopub.execute_input": "2023-10-13T19:20:51.867329Z",
     "iopub.status.busy": "2023-10-13T19:20:51.866932Z",
     "iopub.status.idle": "2023-10-13T19:20:51.873449Z",
     "shell.execute_reply": "2023-10-13T19:20:51.872736Z"
    },
    "papermill": {
     "duration": 0.032352,
     "end_time": "2023-10-13T19:20:51.875196",
     "exception": false,
     "start_time": "2023-10-13T19:20:51.842844",
     "status": "completed"
    },
    "tags": []
   },
   "outputs": [
    {
     "data": {
      "text/plain": [
       "['Pclass', 'Sex', 'Age', 'SibSp', 'Parch', 'Fare', 'Embarked']"
      ]
     },
     "execution_count": 22,
     "metadata": {},
     "output_type": "execute_result"
    }
   ],
   "source": [
    "all_dependent_columns = list(df.columns)\n",
    "all_dependent_columns.remove('PassengerId') # Remove unwanted column\n",
    "all_dependent_columns.remove('Survived') # Remove independent column\n",
    "all_dependent_columns"
   ]
  },
  {
   "cell_type": "code",
   "execution_count": 23,
   "id": "34c5c58b",
   "metadata": {
    "execution": {
     "iopub.execute_input": "2023-10-13T19:20:51.923335Z",
     "iopub.status.busy": "2023-10-13T19:20:51.922953Z",
     "iopub.status.idle": "2023-10-13T19:20:51.936531Z",
     "shell.execute_reply": "2023-10-13T19:20:51.935425Z"
    },
    "papermill": {
     "duration": 0.040988,
     "end_time": "2023-10-13T19:20:51.939370",
     "exception": false,
     "start_time": "2023-10-13T19:20:51.898382",
     "status": "completed"
    },
    "tags": []
   },
   "outputs": [
    {
     "data": {
      "text/html": [
       "<div>\n",
       "<style scoped>\n",
       "    .dataframe tbody tr th:only-of-type {\n",
       "        vertical-align: middle;\n",
       "    }\n",
       "\n",
       "    .dataframe tbody tr th {\n",
       "        vertical-align: top;\n",
       "    }\n",
       "\n",
       "    .dataframe thead th {\n",
       "        text-align: right;\n",
       "    }\n",
       "</style>\n",
       "<table border=\"1\" class=\"dataframe\">\n",
       "  <thead>\n",
       "    <tr style=\"text-align: right;\">\n",
       "      <th></th>\n",
       "      <th>PassengerId</th>\n",
       "      <th>Survived</th>\n",
       "      <th>Pclass</th>\n",
       "      <th>Sex</th>\n",
       "      <th>Age</th>\n",
       "      <th>SibSp</th>\n",
       "      <th>Parch</th>\n",
       "      <th>Fare</th>\n",
       "      <th>Embarked</th>\n",
       "    </tr>\n",
       "  </thead>\n",
       "  <tbody>\n",
       "    <tr>\n",
       "      <th>0</th>\n",
       "      <td>1</td>\n",
       "      <td>0</td>\n",
       "      <td>3</td>\n",
       "      <td>male</td>\n",
       "      <td>22.0</td>\n",
       "      <td>1</td>\n",
       "      <td>0</td>\n",
       "      <td>7.2500</td>\n",
       "      <td>S</td>\n",
       "    </tr>\n",
       "    <tr>\n",
       "      <th>1</th>\n",
       "      <td>2</td>\n",
       "      <td>1</td>\n",
       "      <td>1</td>\n",
       "      <td>female</td>\n",
       "      <td>38.0</td>\n",
       "      <td>1</td>\n",
       "      <td>0</td>\n",
       "      <td>71.2833</td>\n",
       "      <td>C</td>\n",
       "    </tr>\n",
       "    <tr>\n",
       "      <th>2</th>\n",
       "      <td>3</td>\n",
       "      <td>1</td>\n",
       "      <td>3</td>\n",
       "      <td>female</td>\n",
       "      <td>26.0</td>\n",
       "      <td>0</td>\n",
       "      <td>0</td>\n",
       "      <td>7.9250</td>\n",
       "      <td>S</td>\n",
       "    </tr>\n",
       "    <tr>\n",
       "      <th>3</th>\n",
       "      <td>4</td>\n",
       "      <td>1</td>\n",
       "      <td>1</td>\n",
       "      <td>female</td>\n",
       "      <td>35.0</td>\n",
       "      <td>1</td>\n",
       "      <td>0</td>\n",
       "      <td>53.1000</td>\n",
       "      <td>S</td>\n",
       "    </tr>\n",
       "    <tr>\n",
       "      <th>4</th>\n",
       "      <td>5</td>\n",
       "      <td>0</td>\n",
       "      <td>3</td>\n",
       "      <td>male</td>\n",
       "      <td>35.0</td>\n",
       "      <td>0</td>\n",
       "      <td>0</td>\n",
       "      <td>8.0500</td>\n",
       "      <td>S</td>\n",
       "    </tr>\n",
       "  </tbody>\n",
       "</table>\n",
       "</div>"
      ],
      "text/plain": [
       "   PassengerId  Survived  Pclass     Sex   Age  SibSp  Parch     Fare Embarked\n",
       "0            1         0       3    male  22.0      1      0   7.2500        S\n",
       "1            2         1       1  female  38.0      1      0  71.2833        C\n",
       "2            3         1       3  female  26.0      0      0   7.9250        S\n",
       "3            4         1       1  female  35.0      1      0  53.1000        S\n",
       "4            5         0       3    male  35.0      0      0   8.0500        S"
      ]
     },
     "execution_count": 23,
     "metadata": {},
     "output_type": "execute_result"
    }
   ],
   "source": [
    "df.head()"
   ]
  },
  {
   "cell_type": "code",
   "execution_count": 24,
   "id": "f5e53d8b",
   "metadata": {
    "execution": {
     "iopub.execute_input": "2023-10-13T19:20:51.992100Z",
     "iopub.status.busy": "2023-10-13T19:20:51.991232Z",
     "iopub.status.idle": "2023-10-13T19:20:51.998742Z",
     "shell.execute_reply": "2023-10-13T19:20:51.997397Z"
    },
    "papermill": {
     "duration": 0.035545,
     "end_time": "2023-10-13T19:20:52.000771",
     "exception": false,
     "start_time": "2023-10-13T19:20:51.965226",
     "status": "completed"
    },
    "tags": []
   },
   "outputs": [
    {
     "name": "stdout",
     "output_type": "stream",
     "text": [
      ">> Numerical Columns:  ['Age', 'SibSp', 'Parch', 'Fare']\n",
      ">> Categorical Columns: ['Pclass', 'Sex', 'Embarked']\n"
     ]
    }
   ],
   "source": [
    "# All numerical columns\n",
    "num_columns = [col for col in all_dependent_columns if df[col].dtype != 'O']\n",
    "num_columns.remove('Pclass') # Pclass is categorial - Ordinal\n",
    "print('>> Numerical Columns: ', num_columns)\n",
    "\n",
    "# All categorical columns\n",
    "cat_columns = [col for col in all_dependent_columns if col not in num_columns]\n",
    "print('>> Categorical Columns:', cat_columns)"
   ]
  },
  {
   "cell_type": "code",
   "execution_count": 25,
   "id": "f16ec2e9",
   "metadata": {
    "execution": {
     "iopub.execute_input": "2023-10-13T19:20:52.052822Z",
     "iopub.status.busy": "2023-10-13T19:20:52.052415Z",
     "iopub.status.idle": "2023-10-13T19:20:52.058797Z",
     "shell.execute_reply": "2023-10-13T19:20:52.057732Z"
    },
    "papermill": {
     "duration": 0.03392,
     "end_time": "2023-10-13T19:20:52.060974",
     "exception": false,
     "start_time": "2023-10-13T19:20:52.027054",
     "status": "completed"
    },
    "tags": []
   },
   "outputs": [
    {
     "name": "stdout",
     "output_type": "stream",
     "text": [
      ">> Unique categories in Pclass: [1, 2, 3]\n",
      ">> Unique categories in Sex: ['female', 'male']\n",
      ">> Unique categories in Embarked: ['C', 'Q', 'S']\n"
     ]
    }
   ],
   "source": [
    "for col in cat_columns:\n",
    "    print(f'>> Unique categories in {col}:', sorted(df[col].unique()))"
   ]
  },
  {
   "cell_type": "code",
   "execution_count": 26,
   "id": "6b4c6bac",
   "metadata": {
    "execution": {
     "iopub.execute_input": "2023-10-13T19:20:52.110744Z",
     "iopub.status.busy": "2023-10-13T19:20:52.110404Z",
     "iopub.status.idle": "2023-10-13T19:20:52.410980Z",
     "shell.execute_reply": "2023-10-13T19:20:52.409962Z"
    },
    "papermill": {
     "duration": 0.327499,
     "end_time": "2023-10-13T19:20:52.413154",
     "exception": false,
     "start_time": "2023-10-13T19:20:52.085655",
     "status": "completed"
    },
    "tags": []
   },
   "outputs": [
    {
     "name": "stdout",
     "output_type": "stream",
     "text": [
      ">>> Survived : 342, 38.38 %  | Not-survived : 549, 61.62 %\n"
     ]
    },
    {
     "data": {
      "image/png": "[encoded data removed]",
      "text/plain": [
       "<Figure size 500x400 with 1 Axes>"
      ]
     },
     "metadata": {},
     "output_type": "display_data"
    }
   ],
   "source": [
    "survived, not_survived = len(df[df['Survived'] == 1]), len(df[df['Survived'] == 0])\n",
    "print(f\">>> Survived : {survived}, {round(100*survived/len(df), 2)} %  | Not-survived : {not_survived}, {round(100*not_survived/len(df), 2)} %\")\n",
    "\n",
    "plt.figure(figsize=(5,4))\n",
    "\n",
    "sns.countplot(data=df, x='Survived', palette='Set1')\n",
    "plt.title('Countplot of \"Survived\"')\n",
    "\n",
    "plt.tight_layout()\n",
    "plt.show()"
   ]
  },
  {
   "cell_type": "markdown",
   "id": "5ac73a87",
   "metadata": {
    "papermill": {
     "duration": 0.024082,
     "end_time": "2023-10-13T19:20:52.461060",
     "exception": false,
     "start_time": "2023-10-13T19:20:52.436978",
     "status": "completed"
    },
    "tags": []
   },
   "source": [
    "#### Categorical columns"
   ]
  },
  {
   "cell_type": "code",
   "execution_count": 27,
   "id": "cad399db",
   "metadata": {
    "execution": {
     "iopub.execute_input": "2023-10-13T19:20:52.514813Z",
     "iopub.status.busy": "2023-10-13T19:20:52.514169Z",
     "iopub.status.idle": "2023-10-13T19:20:53.209713Z",
     "shell.execute_reply": "2023-10-13T19:20:53.208514Z"
    },
    "papermill": {
     "duration": 0.726607,
     "end_time": "2023-10-13T19:20:53.211814",
     "exception": false,
     "start_time": "2023-10-13T19:20:52.485207",
     "status": "completed"
    },
    "tags": []
   },
   "outputs": [
    {
     "data": {
      "image/png": "[encoded data removed]",
      "text/plain": [
       "<Figure size 1200x400 with 3 Axes>"
      ]
     },
     "metadata": {},
     "output_type": "display_data"
    }
   ],
   "source": [
    "# Countplot of categorical columns\n",
    "\n",
    "fig, axis = plt.subplots(1,3,figsize=(12,4))\n",
    "\n",
    "for i, ax in enumerate(axis.flatten()):\n",
    "    if i < len(cat_columns):\n",
    "        sns.countplot(data=df, x=cat_columns[i], ax=ax, palette='Set1', hue='Survived')\n",
    "        ax.set_title(f'Countplot of {cat_columns[i]}')\n",
    "\n",
    "plt.tight_layout()\n",
    "plt.show()"
   ]
  },
  {
   "cell_type": "markdown",
   "id": "adad19cb",
   "metadata": {
    "papermill": {
     "duration": 0.023928,
     "end_time": "2023-10-13T19:20:53.260149",
     "exception": false,
     "start_time": "2023-10-13T19:20:53.236221",
     "status": "completed"
    },
    "tags": []
   },
   "source": [
    "#### Numerical columns"
   ]
  },
  {
   "cell_type": "code",
   "execution_count": 28,
   "id": "84d35839",
   "metadata": {
    "execution": {
     "iopub.execute_input": "2023-10-13T19:20:53.314516Z",
     "iopub.status.busy": "2023-10-13T19:20:53.313761Z",
     "iopub.status.idle": "2023-10-13T19:20:54.904116Z",
     "shell.execute_reply": "2023-10-13T19:20:54.902946Z"
    },
    "papermill": {
     "duration": 1.618138,
     "end_time": "2023-10-13T19:20:54.906201",
     "exception": false,
     "start_time": "2023-10-13T19:20:53.288063",
     "status": "completed"
    },
    "tags": []
   },
   "outputs": [
    {
     "data": {
      "image/png": "[encoded data removed]",
      "text/plain": [
       "<Figure size 800x800 with 4 Axes>"
      ]
     },
     "metadata": {},
     "output_type": "display_data"
    }
   ],
   "source": [
    "fig, axis = plt.subplots(2,2,figsize=(8,8))\n",
    "\n",
    "for i, ax in enumerate(axis.flatten()):\n",
    "    if i < len(num_columns):\n",
    "        sns.histplot(data=df, x=num_columns[i], ax=ax, kde=True)\n",
    "        ax.set_title(f'Histogram of {num_columns[i]}')\n",
    "        \n",
    "plt.tight_layout()\n",
    "plt.show()"
   ]
  },
  {
   "cell_type": "code",
   "execution_count": 29,
   "id": "e55bdce5",
   "metadata": {
    "execution": {
     "iopub.execute_input": "2023-10-13T19:20:54.958795Z",
     "iopub.status.busy": "2023-10-13T19:20:54.958394Z",
     "iopub.status.idle": "2023-10-13T19:20:57.033362Z",
     "shell.execute_reply": "2023-10-13T19:20:57.032151Z"
    },
    "papermill": {
     "duration": 2.104689,
     "end_time": "2023-10-13T19:20:57.036342",
     "exception": false,
     "start_time": "2023-10-13T19:20:54.931653",
     "status": "completed"
    },
    "tags": []
   },
   "outputs": [
    {
     "data": {
      "image/png": "[encoded data removed]",
      "text/plain": [
       "<Figure size 800x800 with 4 Axes>"
      ]
     },
     "metadata": {},
     "output_type": "display_data"
    }
   ],
   "source": [
    "fig, axis = plt.subplots(2,2,figsize=(8,8))\n",
    "\n",
    "for i, ax in enumerate(axis.flatten()):\n",
    "    if i < len(num_columns):\n",
    "        sns.histplot(data=df, x=num_columns[i], ax=ax, kde=True, palette='Set1', hue='Survived')\n",
    "        ax.set_title(f'Histogram of {num_columns[i]}')\n",
    "        \n",
    "plt.tight_layout()\n",
    "plt.show()"
   ]
  },
  {
   "cell_type": "markdown",
   "id": "64ebd933",
   "metadata": {
    "papermill": {
     "duration": 0.027009,
     "end_time": "2023-10-13T19:20:57.090307",
     "exception": false,
     "start_time": "2023-10-13T19:20:57.063298",
     "status": "completed"
    },
    "tags": []
   },
   "source": [
    "## ▶ Dataset preparation"
   ]
  },
  {
   "cell_type": "code",
   "execution_count": 30,
   "id": "dec3c959",
   "metadata": {
    "execution": {
     "iopub.execute_input": "2023-10-13T19:20:57.146246Z",
     "iopub.status.busy": "2023-10-13T19:20:57.145881Z",
     "iopub.status.idle": "2023-10-13T19:20:57.152132Z",
     "shell.execute_reply": "2023-10-13T19:20:57.151164Z"
    },
    "papermill": {
     "duration": 0.036769,
     "end_time": "2023-10-13T19:20:57.154312",
     "exception": false,
     "start_time": "2023-10-13T19:20:57.117543",
     "status": "completed"
    },
    "tags": []
   },
   "outputs": [],
   "source": [
    "df = df.set_index('PassengerId')"
   ]
  },
  {
   "cell_type": "code",
   "execution_count": 31,
   "id": "222ed5f0",
   "metadata": {
    "execution": {
     "iopub.execute_input": "2023-10-13T19:20:57.210560Z",
     "iopub.status.busy": "2023-10-13T19:20:57.209925Z",
     "iopub.status.idle": "2023-10-13T19:20:57.221518Z",
     "shell.execute_reply": "2023-10-13T19:20:57.220764Z"
    },
    "papermill": {
     "duration": 0.041927,
     "end_time": "2023-10-13T19:20:57.223415",
     "exception": false,
     "start_time": "2023-10-13T19:20:57.181488",
     "status": "completed"
    },
    "tags": []
   },
   "outputs": [
    {
     "data": {
      "text/html": [
       "<div>\n",
       "<style scoped>\n",
       "    .dataframe tbody tr th:only-of-type {\n",
       "        vertical-align: middle;\n",
       "    }\n",
       "\n",
       "    .dataframe tbody tr th {\n",
       "        vertical-align: top;\n",
       "    }\n",
       "\n",
       "    .dataframe thead th {\n",
       "        text-align: right;\n",
       "    }\n",
       "</style>\n",
       "<table border=\"1\" class=\"dataframe\">\n",
       "  <thead>\n",
       "    <tr style=\"text-align: right;\">\n",
       "      <th></th>\n",
       "      <th>Survived</th>\n",
       "      <th>Pclass</th>\n",
       "      <th>Sex</th>\n",
       "      <th>Age</th>\n",
       "      <th>SibSp</th>\n",
       "      <th>Parch</th>\n",
       "      <th>Fare</th>\n",
       "      <th>Embarked</th>\n",
       "    </tr>\n",
       "    <tr>\n",
       "      <th>PassengerId</th>\n",
       "      <th></th>\n",
       "      <th></th>\n",
       "      <th></th>\n",
       "      <th></th>\n",
       "      <th></th>\n",
       "      <th></th>\n",
       "      <th></th>\n",
       "      <th></th>\n",
       "    </tr>\n",
       "  </thead>\n",
       "  <tbody>\n",
       "    <tr>\n",
       "      <th>1</th>\n",
       "      <td>0</td>\n",
       "      <td>3</td>\n",
       "      <td>male</td>\n",
       "      <td>22.0</td>\n",
       "      <td>1</td>\n",
       "      <td>0</td>\n",
       "      <td>7.2500</td>\n",
       "      <td>S</td>\n",
       "    </tr>\n",
       "    <tr>\n",
       "      <th>2</th>\n",
       "      <td>1</td>\n",
       "      <td>1</td>\n",
       "      <td>female</td>\n",
       "      <td>38.0</td>\n",
       "      <td>1</td>\n",
       "      <td>0</td>\n",
       "      <td>71.2833</td>\n",
       "      <td>C</td>\n",
       "    </tr>\n",
       "    <tr>\n",
       "      <th>3</th>\n",
       "      <td>1</td>\n",
       "      <td>3</td>\n",
       "      <td>female</td>\n",
       "      <td>26.0</td>\n",
       "      <td>0</td>\n",
       "      <td>0</td>\n",
       "      <td>7.9250</td>\n",
       "      <td>S</td>\n",
       "    </tr>\n",
       "    <tr>\n",
       "      <th>4</th>\n",
       "      <td>1</td>\n",
       "      <td>1</td>\n",
       "      <td>female</td>\n",
       "      <td>35.0</td>\n",
       "      <td>1</td>\n",
       "      <td>0</td>\n",
       "      <td>53.1000</td>\n",
       "      <td>S</td>\n",
       "    </tr>\n",
       "    <tr>\n",
       "      <th>5</th>\n",
       "      <td>0</td>\n",
       "      <td>3</td>\n",
       "      <td>male</td>\n",
       "      <td>35.0</td>\n",
       "      <td>0</td>\n",
       "      <td>0</td>\n",
       "      <td>8.0500</td>\n",
       "      <td>S</td>\n",
       "    </tr>\n",
       "  </tbody>\n",
       "</table>\n",
       "</div>"
      ],
      "text/plain": [
       "             Survived  Pclass     Sex   Age  SibSp  Parch     Fare Embarked\n",
       "PassengerId                                                                \n",
       "1                   0       3    male  22.0      1      0   7.2500        S\n",
       "2                   1       1  female  38.0      1      0  71.2833        C\n",
       "3                   1       3  female  26.0      0      0   7.9250        S\n",
       "4                   1       1  female  35.0      1      0  53.1000        S\n",
       "5                   0       3    male  35.0      0      0   8.0500        S"
      ]
     },
     "execution_count": 31,
     "metadata": {},
     "output_type": "execute_result"
    }
   ],
   "source": [
    "df.head()"
   ]
  },
  {
   "cell_type": "code",
   "execution_count": 32,
   "id": "d09177fb",
   "metadata": {
    "execution": {
     "iopub.execute_input": "2023-10-13T19:20:57.280382Z",
     "iopub.status.busy": "2023-10-13T19:20:57.279733Z",
     "iopub.status.idle": "2023-10-13T19:20:57.284774Z",
     "shell.execute_reply": "2023-10-13T19:20:57.284117Z"
    },
    "papermill": {
     "duration": 0.036694,
     "end_time": "2023-10-13T19:20:57.287608",
     "exception": false,
     "start_time": "2023-10-13T19:20:57.250914",
     "status": "completed"
    },
    "tags": []
   },
   "outputs": [],
   "source": [
    "X = df.drop('Survived', axis=1)\n",
    "y = df['Survived']"
   ]
  },
  {
   "cell_type": "code",
   "execution_count": 33,
   "id": "1e3434f8",
   "metadata": {
    "execution": {
     "iopub.execute_input": "2023-10-13T19:20:57.346538Z",
     "iopub.status.busy": "2023-10-13T19:20:57.345845Z",
     "iopub.status.idle": "2023-10-13T19:20:57.357458Z",
     "shell.execute_reply": "2023-10-13T19:20:57.356374Z"
    },
    "papermill": {
     "duration": 0.043382,
     "end_time": "2023-10-13T19:20:57.359634",
     "exception": false,
     "start_time": "2023-10-13T19:20:57.316252",
     "status": "completed"
    },
    "tags": []
   },
   "outputs": [
    {
     "data": {
      "text/html": [
       "<div>\n",
       "<style scoped>\n",
       "    .dataframe tbody tr th:only-of-type {\n",
       "        vertical-align: middle;\n",
       "    }\n",
       "\n",
       "    .dataframe tbody tr th {\n",
       "        vertical-align: top;\n",
       "    }\n",
       "\n",
       "    .dataframe thead th {\n",
       "        text-align: right;\n",
       "    }\n",
       "</style>\n",
       "<table border=\"1\" class=\"dataframe\">\n",
       "  <thead>\n",
       "    <tr style=\"text-align: right;\">\n",
       "      <th></th>\n",
       "      <th>Pclass</th>\n",
       "      <th>Sex</th>\n",
       "      <th>Age</th>\n",
       "      <th>SibSp</th>\n",
       "      <th>Parch</th>\n",
       "      <th>Fare</th>\n",
       "      <th>Embarked</th>\n",
       "    </tr>\n",
       "    <tr>\n",
       "      <th>PassengerId</th>\n",
       "      <th></th>\n",
       "      <th></th>\n",
       "      <th></th>\n",
       "      <th></th>\n",
       "      <th></th>\n",
       "      <th></th>\n",
       "      <th></th>\n",
       "    </tr>\n",
       "  </thead>\n",
       "  <tbody>\n",
       "    <tr>\n",
       "      <th>1</th>\n",
       "      <td>3</td>\n",
       "      <td>male</td>\n",
       "      <td>22.0</td>\n",
       "      <td>1</td>\n",
       "      <td>0</td>\n",
       "      <td>7.2500</td>\n",
       "      <td>S</td>\n",
       "    </tr>\n",
       "    <tr>\n",
       "      <th>2</th>\n",
       "      <td>1</td>\n",
       "      <td>female</td>\n",
       "      <td>38.0</td>\n",
       "      <td>1</td>\n",
       "      <td>0</td>\n",
       "      <td>71.2833</td>\n",
       "      <td>C</td>\n",
       "    </tr>\n",
       "    <tr>\n",
       "      <th>3</th>\n",
       "      <td>3</td>\n",
       "      <td>female</td>\n",
       "      <td>26.0</td>\n",
       "      <td>0</td>\n",
       "      <td>0</td>\n",
       "      <td>7.9250</td>\n",
       "      <td>S</td>\n",
       "    </tr>\n",
       "    <tr>\n",
       "      <th>4</th>\n",
       "      <td>1</td>\n",
       "      <td>female</td>\n",
       "      <td>35.0</td>\n",
       "      <td>1</td>\n",
       "      <td>0</td>\n",
       "      <td>53.1000</td>\n",
       "      <td>S</td>\n",
       "    </tr>\n",
       "    <tr>\n",
       "      <th>5</th>\n",
       "      <td>3</td>\n",
       "      <td>male</td>\n",
       "      <td>35.0</td>\n",
       "      <td>0</td>\n",
       "      <td>0</td>\n",
       "      <td>8.0500</td>\n",
       "      <td>S</td>\n",
       "    </tr>\n",
       "  </tbody>\n",
       "</table>\n",
       "</div>"
      ],
      "text/plain": [
       "             Pclass     Sex   Age  SibSp  Parch     Fare Embarked\n",
       "PassengerId                                                      \n",
       "1                 3    male  22.0      1      0   7.2500        S\n",
       "2                 1  female  38.0      1      0  71.2833        C\n",
       "3                 3  female  26.0      0      0   7.9250        S\n",
       "4                 1  female  35.0      1      0  53.1000        S\n",
       "5                 3    male  35.0      0      0   8.0500        S"
      ]
     },
     "execution_count": 33,
     "metadata": {},
     "output_type": "execute_result"
    }
   ],
   "source": [
    "X.head()"
   ]
  },
  {
   "cell_type": "markdown",
   "id": "d9a56192",
   "metadata": {
    "execution": {
     "iopub.execute_input": "2023-10-13T10:59:37.674329Z",
     "iopub.status.busy": "2023-10-13T10:59:37.673901Z",
     "iopub.status.idle": "2023-10-13T10:59:37.680379Z",
     "shell.execute_reply": "2023-10-13T10:59:37.679045Z",
     "shell.execute_reply.started": "2023-10-13T10:59:37.674301Z"
    },
    "papermill": {
     "duration": 0.026604,
     "end_time": "2023-10-13T19:20:57.413437",
     "exception": false,
     "start_time": "2023-10-13T19:20:57.386833",
     "status": "completed"
    },
    "tags": []
   },
   "source": [
    "#### Hanlding Categorical data:"
   ]
  },
  {
   "cell_type": "code",
   "execution_count": 34,
   "id": "127f3530",
   "metadata": {
    "execution": {
     "iopub.execute_input": "2023-10-13T19:20:57.468617Z",
     "iopub.status.busy": "2023-10-13T19:20:57.468249Z",
     "iopub.status.idle": "2023-10-13T19:20:57.477277Z",
     "shell.execute_reply": "2023-10-13T19:20:57.476311Z"
    },
    "papermill": {
     "duration": 0.039373,
     "end_time": "2023-10-13T19:20:57.479610",
     "exception": false,
     "start_time": "2023-10-13T19:20:57.440237",
     "status": "completed"
    },
    "tags": []
   },
   "outputs": [],
   "source": [
    "# Encode Categorical data\n",
    "\n",
    "is_male = pd.get_dummies(X['Sex'], drop_first=True)\n",
    "\n",
    "embarked_from = pd.get_dummies(X['Embarked'], drop_first=True)\n",
    "\n",
    "which_class = pd.get_dummies(X['Pclass'], drop_first=True)\n",
    "which_class.rename(columns = {2:'class_2', 3:'class_3'}, inplace= True)"
   ]
  },
  {
   "cell_type": "code",
   "execution_count": 35,
   "id": "e5ee0461",
   "metadata": {
    "execution": {
     "iopub.execute_input": "2023-10-13T19:20:57.537096Z",
     "iopub.status.busy": "2023-10-13T19:20:57.536106Z",
     "iopub.status.idle": "2023-10-13T19:20:57.542241Z",
     "shell.execute_reply": "2023-10-13T19:20:57.541456Z"
    },
    "papermill": {
     "duration": 0.037297,
     "end_time": "2023-10-13T19:20:57.544493",
     "exception": false,
     "start_time": "2023-10-13T19:20:57.507196",
     "status": "completed"
    },
    "tags": []
   },
   "outputs": [],
   "source": [
    "X = pd.concat([X, is_male, embarked_from, which_class], axis=1)"
   ]
  },
  {
   "cell_type": "code",
   "execution_count": 36,
   "id": "9ff1dbbd",
   "metadata": {
    "execution": {
     "iopub.execute_input": "2023-10-13T19:20:57.600630Z",
     "iopub.status.busy": "2023-10-13T19:20:57.599848Z",
     "iopub.status.idle": "2023-10-13T19:20:57.615162Z",
     "shell.execute_reply": "2023-10-13T19:20:57.614314Z"
    },
    "papermill": {
     "duration": 0.04562,
     "end_time": "2023-10-13T19:20:57.617023",
     "exception": false,
     "start_time": "2023-10-13T19:20:57.571403",
     "status": "completed"
    },
    "tags": []
   },
   "outputs": [
    {
     "data": {
      "text/html": [
       "<div>\n",
       "<style scoped>\n",
       "    .dataframe tbody tr th:only-of-type {\n",
       "        vertical-align: middle;\n",
       "    }\n",
       "\n",
       "    .dataframe tbody tr th {\n",
       "        vertical-align: top;\n",
       "    }\n",
       "\n",
       "    .dataframe thead th {\n",
       "        text-align: right;\n",
       "    }\n",
       "</style>\n",
       "<table border=\"1\" class=\"dataframe\">\n",
       "  <thead>\n",
       "    <tr style=\"text-align: right;\">\n",
       "      <th></th>\n",
       "      <th>Pclass</th>\n",
       "      <th>Sex</th>\n",
       "      <th>Age</th>\n",
       "      <th>SibSp</th>\n",
       "      <th>Parch</th>\n",
       "      <th>Fare</th>\n",
       "      <th>Embarked</th>\n",
       "      <th>male</th>\n",
       "      <th>Q</th>\n",
       "      <th>S</th>\n",
       "      <th>class_2</th>\n",
       "      <th>class_3</th>\n",
       "    </tr>\n",
       "    <tr>\n",
       "      <th>PassengerId</th>\n",
       "      <th></th>\n",
       "      <th></th>\n",
       "      <th></th>\n",
       "      <th></th>\n",
       "      <th></th>\n",
       "      <th></th>\n",
       "      <th></th>\n",
       "      <th></th>\n",
       "      <th></th>\n",
       "      <th></th>\n",
       "      <th></th>\n",
       "      <th></th>\n",
       "    </tr>\n",
       "  </thead>\n",
       "  <tbody>\n",
       "    <tr>\n",
       "      <th>1</th>\n",
       "      <td>3</td>\n",
       "      <td>male</td>\n",
       "      <td>22.0</td>\n",
       "      <td>1</td>\n",
       "      <td>0</td>\n",
       "      <td>7.2500</td>\n",
       "      <td>S</td>\n",
       "      <td>True</td>\n",
       "      <td>False</td>\n",
       "      <td>True</td>\n",
       "      <td>False</td>\n",
       "      <td>True</td>\n",
       "    </tr>\n",
       "    <tr>\n",
       "      <th>2</th>\n",
       "      <td>1</td>\n",
       "      <td>female</td>\n",
       "      <td>38.0</td>\n",
       "      <td>1</td>\n",
       "      <td>0</td>\n",
       "      <td>71.2833</td>\n",
       "      <td>C</td>\n",
       "      <td>False</td>\n",
       "      <td>False</td>\n",
       "      <td>False</td>\n",
       "      <td>False</td>\n",
       "      <td>False</td>\n",
       "    </tr>\n",
       "    <tr>\n",
       "      <th>3</th>\n",
       "      <td>3</td>\n",
       "      <td>female</td>\n",
       "      <td>26.0</td>\n",
       "      <td>0</td>\n",
       "      <td>0</td>\n",
       "      <td>7.9250</td>\n",
       "      <td>S</td>\n",
       "      <td>False</td>\n",
       "      <td>False</td>\n",
       "      <td>True</td>\n",
       "      <td>False</td>\n",
       "      <td>True</td>\n",
       "    </tr>\n",
       "    <tr>\n",
       "      <th>4</th>\n",
       "      <td>1</td>\n",
       "      <td>female</td>\n",
       "      <td>35.0</td>\n",
       "      <td>1</td>\n",
       "      <td>0</td>\n",
       "      <td>53.1000</td>\n",
       "      <td>S</td>\n",
       "      <td>False</td>\n",
       "      <td>False</td>\n",
       "      <td>True</td>\n",
       "      <td>False</td>\n",
       "      <td>False</td>\n",
       "    </tr>\n",
       "    <tr>\n",
       "      <th>5</th>\n",
       "      <td>3</td>\n",
       "      <td>male</td>\n",
       "      <td>35.0</td>\n",
       "      <td>0</td>\n",
       "      <td>0</td>\n",
       "      <td>8.0500</td>\n",
       "      <td>S</td>\n",
       "      <td>True</td>\n",
       "      <td>False</td>\n",
       "      <td>True</td>\n",
       "      <td>False</td>\n",
       "      <td>True</td>\n",
       "    </tr>\n",
       "  </tbody>\n",
       "</table>\n",
       "</div>"
      ],
      "text/plain": [
       "             Pclass     Sex   Age  SibSp  Parch     Fare Embarked   male  \\\n",
       "PassengerId                                                                \n",
       "1                 3    male  22.0      1      0   7.2500        S   True   \n",
       "2                 1  female  38.0      1      0  71.2833        C  False   \n",
       "3                 3  female  26.0      0      0   7.9250        S  False   \n",
       "4                 1  female  35.0      1      0  53.1000        S  False   \n",
       "5                 3    male  35.0      0      0   8.0500        S   True   \n",
       "\n",
       "                 Q      S  class_2  class_3  \n",
       "PassengerId                                  \n",
       "1            False   True    False     True  \n",
       "2            False  False    False    False  \n",
       "3            False   True    False     True  \n",
       "4            False   True    False    False  \n",
       "5            False   True    False     True  "
      ]
     },
     "execution_count": 36,
     "metadata": {},
     "output_type": "execute_result"
    }
   ],
   "source": [
    "X.head()"
   ]
  },
  {
   "cell_type": "code",
   "execution_count": 37,
   "id": "0983f6ef",
   "metadata": {
    "execution": {
     "iopub.execute_input": "2023-10-13T19:20:57.675093Z",
     "iopub.status.busy": "2023-10-13T19:20:57.673410Z",
     "iopub.status.idle": "2023-10-13T19:20:57.680021Z",
     "shell.execute_reply": "2023-10-13T19:20:57.679272Z"
    },
    "papermill": {
     "duration": 0.036933,
     "end_time": "2023-10-13T19:20:57.682031",
     "exception": false,
     "start_time": "2023-10-13T19:20:57.645098",
     "status": "completed"
    },
    "tags": []
   },
   "outputs": [],
   "source": [
    "X = X.drop(['Sex', 'Embarked', 'Pclass'], axis=1)"
   ]
  },
  {
   "cell_type": "markdown",
   "id": "68e92143",
   "metadata": {
    "papermill": {
     "duration": 0.027515,
     "end_time": "2023-10-13T19:20:57.736965",
     "exception": false,
     "start_time": "2023-10-13T19:20:57.709450",
     "status": "completed"
    },
    "tags": []
   },
   "source": [
    "#### Handling Numerical data:"
   ]
  },
  {
   "cell_type": "code",
   "execution_count": 38,
   "id": "9cf65b75",
   "metadata": {
    "execution": {
     "iopub.execute_input": "2023-10-13T19:20:57.794467Z",
     "iopub.status.busy": "2023-10-13T19:20:57.793464Z",
     "iopub.status.idle": "2023-10-13T19:20:57.807750Z",
     "shell.execute_reply": "2023-10-13T19:20:57.806722Z"
    },
    "papermill": {
     "duration": 0.045066,
     "end_time": "2023-10-13T19:20:57.809747",
     "exception": false,
     "start_time": "2023-10-13T19:20:57.764681",
     "status": "completed"
    },
    "tags": []
   },
   "outputs": [
    {
     "data": {
      "text/html": [
       "<div>\n",
       "<style scoped>\n",
       "    .dataframe tbody tr th:only-of-type {\n",
       "        vertical-align: middle;\n",
       "    }\n",
       "\n",
       "    .dataframe tbody tr th {\n",
       "        vertical-align: top;\n",
       "    }\n",
       "\n",
       "    .dataframe thead th {\n",
       "        text-align: right;\n",
       "    }\n",
       "</style>\n",
       "<table border=\"1\" class=\"dataframe\">\n",
       "  <thead>\n",
       "    <tr style=\"text-align: right;\">\n",
       "      <th></th>\n",
       "      <th>Age</th>\n",
       "      <th>SibSp</th>\n",
       "      <th>Parch</th>\n",
       "      <th>Fare</th>\n",
       "      <th>male</th>\n",
       "      <th>Q</th>\n",
       "      <th>S</th>\n",
       "      <th>class_2</th>\n",
       "      <th>class_3</th>\n",
       "    </tr>\n",
       "    <tr>\n",
       "      <th>PassengerId</th>\n",
       "      <th></th>\n",
       "      <th></th>\n",
       "      <th></th>\n",
       "      <th></th>\n",
       "      <th></th>\n",
       "      <th></th>\n",
       "      <th></th>\n",
       "      <th></th>\n",
       "      <th></th>\n",
       "    </tr>\n",
       "  </thead>\n",
       "  <tbody>\n",
       "    <tr>\n",
       "      <th>1</th>\n",
       "      <td>22.0</td>\n",
       "      <td>1</td>\n",
       "      <td>0</td>\n",
       "      <td>7.2500</td>\n",
       "      <td>True</td>\n",
       "      <td>False</td>\n",
       "      <td>True</td>\n",
       "      <td>False</td>\n",
       "      <td>True</td>\n",
       "    </tr>\n",
       "    <tr>\n",
       "      <th>2</th>\n",
       "      <td>38.0</td>\n",
       "      <td>1</td>\n",
       "      <td>0</td>\n",
       "      <td>71.2833</td>\n",
       "      <td>False</td>\n",
       "      <td>False</td>\n",
       "      <td>False</td>\n",
       "      <td>False</td>\n",
       "      <td>False</td>\n",
       "    </tr>\n",
       "    <tr>\n",
       "      <th>3</th>\n",
       "      <td>26.0</td>\n",
       "      <td>0</td>\n",
       "      <td>0</td>\n",
       "      <td>7.9250</td>\n",
       "      <td>False</td>\n",
       "      <td>False</td>\n",
       "      <td>True</td>\n",
       "      <td>False</td>\n",
       "      <td>True</td>\n",
       "    </tr>\n",
       "    <tr>\n",
       "      <th>4</th>\n",
       "      <td>35.0</td>\n",
       "      <td>1</td>\n",
       "      <td>0</td>\n",
       "      <td>53.1000</td>\n",
       "      <td>False</td>\n",
       "      <td>False</td>\n",
       "      <td>True</td>\n",
       "      <td>False</td>\n",
       "      <td>False</td>\n",
       "    </tr>\n",
       "    <tr>\n",
       "      <th>5</th>\n",
       "      <td>35.0</td>\n",
       "      <td>0</td>\n",
       "      <td>0</td>\n",
       "      <td>8.0500</td>\n",
       "      <td>True</td>\n",
       "      <td>False</td>\n",
       "      <td>True</td>\n",
       "      <td>False</td>\n",
       "      <td>True</td>\n",
       "    </tr>\n",
       "  </tbody>\n",
       "</table>\n",
       "</div>"
      ],
      "text/plain": [
       "              Age  SibSp  Parch     Fare   male      Q      S  class_2  \\\n",
       "PassengerId                                                              \n",
       "1            22.0      1      0   7.2500   True  False   True    False   \n",
       "2            38.0      1      0  71.2833  False  False  False    False   \n",
       "3            26.0      0      0   7.9250  False  False   True    False   \n",
       "4            35.0      1      0  53.1000  False  False   True    False   \n",
       "5            35.0      0      0   8.0500   True  False   True    False   \n",
       "\n",
       "             class_3  \n",
       "PassengerId           \n",
       "1               True  \n",
       "2              False  \n",
       "3               True  \n",
       "4              False  \n",
       "5               True  "
      ]
     },
     "execution_count": 38,
     "metadata": {},
     "output_type": "execute_result"
    }
   ],
   "source": [
    "X.head()"
   ]
  },
  {
   "cell_type": "code",
   "execution_count": 39,
   "id": "14763b3f",
   "metadata": {
    "execution": {
     "iopub.execute_input": "2023-10-13T19:20:57.867687Z",
     "iopub.status.busy": "2023-10-13T19:20:57.866549Z",
     "iopub.status.idle": "2023-10-13T19:20:57.890781Z",
     "shell.execute_reply": "2023-10-13T19:20:57.889970Z"
    },
    "papermill": {
     "duration": 0.055546,
     "end_time": "2023-10-13T19:20:57.893106",
     "exception": false,
     "start_time": "2023-10-13T19:20:57.837560",
     "status": "completed"
    },
    "tags": []
   },
   "outputs": [
    {
     "data": {
      "text/html": [
       "<div>\n",
       "<style scoped>\n",
       "    .dataframe tbody tr th:only-of-type {\n",
       "        vertical-align: middle;\n",
       "    }\n",
       "\n",
       "    .dataframe tbody tr th {\n",
       "        vertical-align: top;\n",
       "    }\n",
       "\n",
       "    .dataframe thead th {\n",
       "        text-align: right;\n",
       "    }\n",
       "</style>\n",
       "<table border=\"1\" class=\"dataframe\">\n",
       "  <thead>\n",
       "    <tr style=\"text-align: right;\">\n",
       "      <th></th>\n",
       "      <th>count</th>\n",
       "      <th>mean</th>\n",
       "      <th>std</th>\n",
       "      <th>min</th>\n",
       "      <th>25%</th>\n",
       "      <th>50%</th>\n",
       "      <th>75%</th>\n",
       "      <th>max</th>\n",
       "    </tr>\n",
       "  </thead>\n",
       "  <tbody>\n",
       "    <tr>\n",
       "      <th>Age</th>\n",
       "      <td>891.0</td>\n",
       "      <td>29.252716</td>\n",
       "      <td>13.211959</td>\n",
       "      <td>0.42</td>\n",
       "      <td>22.0000</td>\n",
       "      <td>26.0000</td>\n",
       "      <td>37.0</td>\n",
       "      <td>80.0000</td>\n",
       "    </tr>\n",
       "    <tr>\n",
       "      <th>SibSp</th>\n",
       "      <td>891.0</td>\n",
       "      <td>0.523008</td>\n",
       "      <td>1.102743</td>\n",
       "      <td>0.00</td>\n",
       "      <td>0.0000</td>\n",
       "      <td>0.0000</td>\n",
       "      <td>1.0</td>\n",
       "      <td>8.0000</td>\n",
       "    </tr>\n",
       "    <tr>\n",
       "      <th>Parch</th>\n",
       "      <td>891.0</td>\n",
       "      <td>0.381594</td>\n",
       "      <td>0.806057</td>\n",
       "      <td>0.00</td>\n",
       "      <td>0.0000</td>\n",
       "      <td>0.0000</td>\n",
       "      <td>0.0</td>\n",
       "      <td>6.0000</td>\n",
       "    </tr>\n",
       "    <tr>\n",
       "      <th>Fare</th>\n",
       "      <td>891.0</td>\n",
       "      <td>32.204208</td>\n",
       "      <td>49.693429</td>\n",
       "      <td>0.00</td>\n",
       "      <td>7.9104</td>\n",
       "      <td>14.4542</td>\n",
       "      <td>31.0</td>\n",
       "      <td>512.3292</td>\n",
       "    </tr>\n",
       "  </tbody>\n",
       "</table>\n",
       "</div>"
      ],
      "text/plain": [
       "       count       mean        std   min      25%      50%   75%       max\n",
       "Age    891.0  29.252716  13.211959  0.42  22.0000  26.0000  37.0   80.0000\n",
       "SibSp  891.0   0.523008   1.102743  0.00   0.0000   0.0000   1.0    8.0000\n",
       "Parch  891.0   0.381594   0.806057  0.00   0.0000   0.0000   0.0    6.0000\n",
       "Fare   891.0  32.204208  49.693429  0.00   7.9104  14.4542  31.0  512.3292"
      ]
     },
     "execution_count": 39,
     "metadata": {},
     "output_type": "execute_result"
    }
   ],
   "source": [
    "X[num_columns].describe().T"
   ]
  },
  {
   "cell_type": "markdown",
   "id": "609d4ef6",
   "metadata": {
    "papermill": {
     "duration": 0.027974,
     "end_time": "2023-10-13T19:20:57.948922",
     "exception": false,
     "start_time": "2023-10-13T19:20:57.920948",
     "status": "completed"
    },
    "tags": []
   },
   "source": [
    "`num_cols` needs standarization, **but before that let's do train test split to avoid data leakage.**"
   ]
  },
  {
   "cell_type": "code",
   "execution_count": 40,
   "id": "2bd6295a",
   "metadata": {
    "execution": {
     "iopub.execute_input": "2023-10-13T19:20:58.006451Z",
     "iopub.status.busy": "2023-10-13T19:20:58.006057Z",
     "iopub.status.idle": "2023-10-13T19:20:58.285524Z",
     "shell.execute_reply": "2023-10-13T19:20:58.284339Z"
    },
    "papermill": {
     "duration": 0.311486,
     "end_time": "2023-10-13T19:20:58.288308",
     "exception": false,
     "start_time": "2023-10-13T19:20:57.976822",
     "status": "completed"
    },
    "tags": []
   },
   "outputs": [],
   "source": [
    "from sklearn.model_selection import train_test_split"
   ]
  },
  {
   "cell_type": "code",
   "execution_count": 41,
   "id": "123f1342",
   "metadata": {
    "execution": {
     "iopub.execute_input": "2023-10-13T19:20:58.346766Z",
     "iopub.status.busy": "2023-10-13T19:20:58.346067Z",
     "iopub.status.idle": "2023-10-13T19:20:58.352160Z",
     "shell.execute_reply": "2023-10-13T19:20:58.351266Z"
    },
    "papermill": {
     "duration": 0.037214,
     "end_time": "2023-10-13T19:20:58.354032",
     "exception": false,
     "start_time": "2023-10-13T19:20:58.316818",
     "status": "completed"
    },
    "tags": []
   },
   "outputs": [],
   "source": [
    "X_train, X_test, y_train, y_test = train_test_split(X, y, test_size=0.33, random_state=42)"
   ]
  },
  {
   "cell_type": "code",
   "execution_count": 42,
   "id": "a5ff702f",
   "metadata": {
    "execution": {
     "iopub.execute_input": "2023-10-13T19:20:58.412195Z",
     "iopub.status.busy": "2023-10-13T19:20:58.411552Z",
     "iopub.status.idle": "2023-10-13T19:20:58.424219Z",
     "shell.execute_reply": "2023-10-13T19:20:58.423216Z"
    },
    "papermill": {
     "duration": 0.044567,
     "end_time": "2023-10-13T19:20:58.426203",
     "exception": false,
     "start_time": "2023-10-13T19:20:58.381636",
     "status": "completed"
    },
    "tags": []
   },
   "outputs": [
    {
     "data": {
      "text/html": [
       "<div>\n",
       "<style scoped>\n",
       "    .dataframe tbody tr th:only-of-type {\n",
       "        vertical-align: middle;\n",
       "    }\n",
       "\n",
       "    .dataframe tbody tr th {\n",
       "        vertical-align: top;\n",
       "    }\n",
       "\n",
       "    .dataframe thead th {\n",
       "        text-align: right;\n",
       "    }\n",
       "</style>\n",
       "<table border=\"1\" class=\"dataframe\">\n",
       "  <thead>\n",
       "    <tr style=\"text-align: right;\">\n",
       "      <th></th>\n",
       "      <th>Age</th>\n",
       "      <th>SibSp</th>\n",
       "      <th>Parch</th>\n",
       "      <th>Fare</th>\n",
       "      <th>male</th>\n",
       "      <th>Q</th>\n",
       "      <th>S</th>\n",
       "      <th>class_2</th>\n",
       "      <th>class_3</th>\n",
       "    </tr>\n",
       "    <tr>\n",
       "      <th>PassengerId</th>\n",
       "      <th></th>\n",
       "      <th></th>\n",
       "      <th></th>\n",
       "      <th></th>\n",
       "      <th></th>\n",
       "      <th></th>\n",
       "      <th></th>\n",
       "      <th></th>\n",
       "      <th></th>\n",
       "    </tr>\n",
       "  </thead>\n",
       "  <tbody>\n",
       "    <tr>\n",
       "      <th>7</th>\n",
       "      <td>54.0</td>\n",
       "      <td>0</td>\n",
       "      <td>0</td>\n",
       "      <td>51.8625</td>\n",
       "      <td>True</td>\n",
       "      <td>False</td>\n",
       "      <td>True</td>\n",
       "      <td>False</td>\n",
       "      <td>False</td>\n",
       "    </tr>\n",
       "    <tr>\n",
       "      <th>719</th>\n",
       "      <td>25.0</td>\n",
       "      <td>0</td>\n",
       "      <td>0</td>\n",
       "      <td>15.5000</td>\n",
       "      <td>True</td>\n",
       "      <td>True</td>\n",
       "      <td>False</td>\n",
       "      <td>False</td>\n",
       "      <td>True</td>\n",
       "    </tr>\n",
       "    <tr>\n",
       "      <th>686</th>\n",
       "      <td>25.0</td>\n",
       "      <td>1</td>\n",
       "      <td>2</td>\n",
       "      <td>41.5792</td>\n",
       "      <td>True</td>\n",
       "      <td>False</td>\n",
       "      <td>False</td>\n",
       "      <td>True</td>\n",
       "      <td>False</td>\n",
       "    </tr>\n",
       "    <tr>\n",
       "      <th>74</th>\n",
       "      <td>26.0</td>\n",
       "      <td>1</td>\n",
       "      <td>0</td>\n",
       "      <td>14.4542</td>\n",
       "      <td>True</td>\n",
       "      <td>False</td>\n",
       "      <td>False</td>\n",
       "      <td>False</td>\n",
       "      <td>True</td>\n",
       "    </tr>\n",
       "    <tr>\n",
       "      <th>883</th>\n",
       "      <td>22.0</td>\n",
       "      <td>0</td>\n",
       "      <td>0</td>\n",
       "      <td>10.5167</td>\n",
       "      <td>False</td>\n",
       "      <td>False</td>\n",
       "      <td>True</td>\n",
       "      <td>False</td>\n",
       "      <td>True</td>\n",
       "    </tr>\n",
       "  </tbody>\n",
       "</table>\n",
       "</div>"
      ],
      "text/plain": [
       "              Age  SibSp  Parch     Fare   male      Q      S  class_2  \\\n",
       "PassengerId                                                              \n",
       "7            54.0      0      0  51.8625   True  False   True    False   \n",
       "719          25.0      0      0  15.5000   True   True  False    False   \n",
       "686          25.0      1      2  41.5792   True  False  False     True   \n",
       "74           26.0      1      0  14.4542   True  False  False    False   \n",
       "883          22.0      0      0  10.5167  False  False   True    False   \n",
       "\n",
       "             class_3  \n",
       "PassengerId           \n",
       "7              False  \n",
       "719             True  \n",
       "686            False  \n",
       "74              True  \n",
       "883             True  "
      ]
     },
     "execution_count": 42,
     "metadata": {},
     "output_type": "execute_result"
    }
   ],
   "source": [
    "X_train.head()"
   ]
  },
  {
   "cell_type": "code",
   "execution_count": 43,
   "id": "7fb7d991",
   "metadata": {
    "execution": {
     "iopub.execute_input": "2023-10-13T19:20:58.483629Z",
     "iopub.status.busy": "2023-10-13T19:20:58.482891Z",
     "iopub.status.idle": "2023-10-13T19:20:58.489508Z",
     "shell.execute_reply": "2023-10-13T19:20:58.488342Z"
    },
    "papermill": {
     "duration": 0.037841,
     "end_time": "2023-10-13T19:20:58.491579",
     "exception": false,
     "start_time": "2023-10-13T19:20:58.453738",
     "status": "completed"
    },
    "tags": []
   },
   "outputs": [
    {
     "data": {
      "text/plain": [
       "Index(['Age', 'SibSp', 'Parch', 'Fare', 'male', 'Q', 'S', 'class_2',\n",
       "       'class_3'],\n",
       "      dtype='object')"
      ]
     },
     "execution_count": 43,
     "metadata": {},
     "output_type": "execute_result"
    }
   ],
   "source": [
    "final_columns = X_train.columns\n",
    "final_columns"
   ]
  },
  {
   "cell_type": "code",
   "execution_count": 44,
   "id": "9d22d002",
   "metadata": {
    "execution": {
     "iopub.execute_input": "2023-10-13T19:20:58.552837Z",
     "iopub.status.busy": "2023-10-13T19:20:58.552252Z",
     "iopub.status.idle": "2023-10-13T19:20:58.557589Z",
     "shell.execute_reply": "2023-10-13T19:20:58.556737Z"
    },
    "papermill": {
     "duration": 0.038998,
     "end_time": "2023-10-13T19:20:58.559385",
     "exception": false,
     "start_time": "2023-10-13T19:20:58.520387",
     "status": "completed"
    },
    "tags": []
   },
   "outputs": [
    {
     "data": {
      "text/plain": [
       "['Age', 'SibSp', 'Parch', 'Fare']"
      ]
     },
     "execution_count": 44,
     "metadata": {},
     "output_type": "execute_result"
    }
   ],
   "source": [
    "num_columns"
   ]
  },
  {
   "cell_type": "code",
   "execution_count": 45,
   "id": "32b0b439",
   "metadata": {
    "execution": {
     "iopub.execute_input": "2023-10-13T19:20:58.619613Z",
     "iopub.status.busy": "2023-10-13T19:20:58.618980Z",
     "iopub.status.idle": "2023-10-13T19:20:58.624789Z",
     "shell.execute_reply": "2023-10-13T19:20:58.624008Z"
    },
    "papermill": {
     "duration": 0.038946,
     "end_time": "2023-10-13T19:20:58.627262",
     "exception": false,
     "start_time": "2023-10-13T19:20:58.588316",
     "status": "completed"
    },
    "tags": []
   },
   "outputs": [],
   "source": [
    "X_train_num_cols = X_train[num_columns]\n",
    "X_test_num_cols = X_test[num_columns]"
   ]
  },
  {
   "cell_type": "code",
   "execution_count": 46,
   "id": "a9551f2c",
   "metadata": {
    "execution": {
     "iopub.execute_input": "2023-10-13T19:20:58.687476Z",
     "iopub.status.busy": "2023-10-13T19:20:58.687081Z",
     "iopub.status.idle": "2023-10-13T19:20:58.691339Z",
     "shell.execute_reply": "2023-10-13T19:20:58.690535Z"
    },
    "papermill": {
     "duration": 0.036577,
     "end_time": "2023-10-13T19:20:58.693410",
     "exception": false,
     "start_time": "2023-10-13T19:20:58.656833",
     "status": "completed"
    },
    "tags": []
   },
   "outputs": [],
   "source": [
    "from sklearn.preprocessing import StandardScaler"
   ]
  },
  {
   "cell_type": "code",
   "execution_count": 47,
   "id": "36ba34be",
   "metadata": {
    "execution": {
     "iopub.execute_input": "2023-10-13T19:20:58.754306Z",
     "iopub.status.busy": "2023-10-13T19:20:58.753074Z",
     "iopub.status.idle": "2023-10-13T19:20:58.757738Z",
     "shell.execute_reply": "2023-10-13T19:20:58.757035Z"
    },
    "papermill": {
     "duration": 0.036751,
     "end_time": "2023-10-13T19:20:58.759757",
     "exception": false,
     "start_time": "2023-10-13T19:20:58.723006",
     "status": "completed"
    },
    "tags": []
   },
   "outputs": [],
   "source": [
    "scalar = StandardScaler()"
   ]
  },
  {
   "cell_type": "code",
   "execution_count": 48,
   "id": "041f7001",
   "metadata": {
    "execution": {
     "iopub.execute_input": "2023-10-13T19:20:58.819247Z",
     "iopub.status.busy": "2023-10-13T19:20:58.818830Z",
     "iopub.status.idle": "2023-10-13T19:20:58.829341Z",
     "shell.execute_reply": "2023-10-13T19:20:58.828379Z"
    },
    "papermill": {
     "duration": 0.042923,
     "end_time": "2023-10-13T19:20:58.831241",
     "exception": false,
     "start_time": "2023-10-13T19:20:58.788318",
     "status": "completed"
    },
    "tags": []
   },
   "outputs": [],
   "source": [
    "scaled_num_array_train = scalar.fit_transform(X_train_num_cols)\n",
    "scaled_num_array_test = scalar.transform(X_test_num_cols)"
   ]
  },
  {
   "cell_type": "code",
   "execution_count": 49,
   "id": "5d0b92a0",
   "metadata": {
    "execution": {
     "iopub.execute_input": "2023-10-13T19:20:58.890040Z",
     "iopub.status.busy": "2023-10-13T19:20:58.889274Z",
     "iopub.status.idle": "2023-10-13T19:20:58.897443Z",
     "shell.execute_reply": "2023-10-13T19:20:58.896273Z"
    },
    "papermill": {
     "duration": 0.040434,
     "end_time": "2023-10-13T19:20:58.899771",
     "exception": false,
     "start_time": "2023-10-13T19:20:58.859337",
     "status": "completed"
    },
    "tags": []
   },
   "outputs": [],
   "source": [
    "X_train = X_train.drop(num_columns, axis=1)\n",
    "train_data = np.c_[scaled_num_array_train, np.array(X_train)]\n",
    "\n",
    "\n",
    "X_test = X_test.drop(num_columns, axis=1)\n",
    "test_data  = np.c_[scaled_num_array_test, np.array(X_test)]"
   ]
  },
  {
   "cell_type": "code",
   "execution_count": 50,
   "id": "0db98e80",
   "metadata": {
    "execution": {
     "iopub.execute_input": "2023-10-13T19:20:58.958868Z",
     "iopub.status.busy": "2023-10-13T19:20:58.958098Z",
     "iopub.status.idle": "2023-10-13T19:20:58.976727Z",
     "shell.execute_reply": "2023-10-13T19:20:58.975698Z"
    },
    "papermill": {
     "duration": 0.050638,
     "end_time": "2023-10-13T19:20:58.978700",
     "exception": false,
     "start_time": "2023-10-13T19:20:58.928062",
     "status": "completed"
    },
    "tags": []
   },
   "outputs": [
    {
     "data": {
      "text/html": [
       "<div>\n",
       "<style scoped>\n",
       "    .dataframe tbody tr th:only-of-type {\n",
       "        vertical-align: middle;\n",
       "    }\n",
       "\n",
       "    .dataframe tbody tr th {\n",
       "        vertical-align: top;\n",
       "    }\n",
       "\n",
       "    .dataframe thead th {\n",
       "        text-align: right;\n",
       "    }\n",
       "</style>\n",
       "<table border=\"1\" class=\"dataframe\">\n",
       "  <thead>\n",
       "    <tr style=\"text-align: right;\">\n",
       "      <th></th>\n",
       "      <th>Age</th>\n",
       "      <th>SibSp</th>\n",
       "      <th>Parch</th>\n",
       "      <th>Fare</th>\n",
       "      <th>male</th>\n",
       "      <th>Q</th>\n",
       "      <th>S</th>\n",
       "      <th>class_2</th>\n",
       "      <th>class_3</th>\n",
       "    </tr>\n",
       "  </thead>\n",
       "  <tbody>\n",
       "    <tr>\n",
       "      <th>0</th>\n",
       "      <td>1.902265</td>\n",
       "      <td>-0.469837</td>\n",
       "      <td>-0.463993</td>\n",
       "      <td>0.387842</td>\n",
       "      <td>1.0</td>\n",
       "      <td>0.0</td>\n",
       "      <td>1.0</td>\n",
       "      <td>0.0</td>\n",
       "      <td>0.0</td>\n",
       "    </tr>\n",
       "    <tr>\n",
       "      <th>1</th>\n",
       "      <td>-0.307836</td>\n",
       "      <td>-0.469837</td>\n",
       "      <td>-0.463993</td>\n",
       "      <td>-0.319081</td>\n",
       "      <td>1.0</td>\n",
       "      <td>1.0</td>\n",
       "      <td>0.0</td>\n",
       "      <td>0.0</td>\n",
       "      <td>1.0</td>\n",
       "    </tr>\n",
       "    <tr>\n",
       "      <th>2</th>\n",
       "      <td>-0.307836</td>\n",
       "      <td>0.344183</td>\n",
       "      <td>2.016183</td>\n",
       "      <td>0.187924</td>\n",
       "      <td>1.0</td>\n",
       "      <td>0.0</td>\n",
       "      <td>0.0</td>\n",
       "      <td>1.0</td>\n",
       "      <td>0.0</td>\n",
       "    </tr>\n",
       "    <tr>\n",
       "      <th>3</th>\n",
       "      <td>-0.231626</td>\n",
       "      <td>0.344183</td>\n",
       "      <td>-0.463993</td>\n",
       "      <td>-0.339412</td>\n",
       "      <td>1.0</td>\n",
       "      <td>0.0</td>\n",
       "      <td>0.0</td>\n",
       "      <td>0.0</td>\n",
       "      <td>1.0</td>\n",
       "    </tr>\n",
       "    <tr>\n",
       "      <th>4</th>\n",
       "      <td>-0.536467</td>\n",
       "      <td>-0.469837</td>\n",
       "      <td>-0.463993</td>\n",
       "      <td>-0.415961</td>\n",
       "      <td>0.0</td>\n",
       "      <td>0.0</td>\n",
       "      <td>1.0</td>\n",
       "      <td>0.0</td>\n",
       "      <td>1.0</td>\n",
       "    </tr>\n",
       "    <tr>\n",
       "      <th>...</th>\n",
       "      <td>...</td>\n",
       "      <td>...</td>\n",
       "      <td>...</td>\n",
       "      <td>...</td>\n",
       "      <td>...</td>\n",
       "      <td>...</td>\n",
       "      <td>...</td>\n",
       "      <td>...</td>\n",
       "      <td>...</td>\n",
       "    </tr>\n",
       "    <tr>\n",
       "      <th>591</th>\n",
       "      <td>-0.612678</td>\n",
       "      <td>-0.469837</td>\n",
       "      <td>-0.463993</td>\n",
       "      <td>-0.471692</td>\n",
       "      <td>0.0</td>\n",
       "      <td>0.0</td>\n",
       "      <td>1.0</td>\n",
       "      <td>0.0</td>\n",
       "      <td>1.0</td>\n",
       "    </tr>\n",
       "    <tr>\n",
       "      <th>592</th>\n",
       "      <td>0.682899</td>\n",
       "      <td>-0.469837</td>\n",
       "      <td>-0.463993</td>\n",
       "      <td>-0.017745</td>\n",
       "      <td>1.0</td>\n",
       "      <td>0.0</td>\n",
       "      <td>1.0</td>\n",
       "      <td>0.0</td>\n",
       "      <td>0.0</td>\n",
       "    </tr>\n",
       "    <tr>\n",
       "      <th>593</th>\n",
       "      <td>0.911530</td>\n",
       "      <td>1.158202</td>\n",
       "      <td>-0.463993</td>\n",
       "      <td>-0.346137</td>\n",
       "      <td>1.0</td>\n",
       "      <td>0.0</td>\n",
       "      <td>1.0</td>\n",
       "      <td>0.0</td>\n",
       "      <td>1.0</td>\n",
       "    </tr>\n",
       "    <tr>\n",
       "      <th>594</th>\n",
       "      <td>-1.146151</td>\n",
       "      <td>0.344183</td>\n",
       "      <td>2.016183</td>\n",
       "      <td>1.712501</td>\n",
       "      <td>0.0</td>\n",
       "      <td>0.0</td>\n",
       "      <td>1.0</td>\n",
       "      <td>0.0</td>\n",
       "      <td>0.0</td>\n",
       "    </tr>\n",
       "    <tr>\n",
       "      <th>595</th>\n",
       "      <td>-0.612678</td>\n",
       "      <td>-0.469837</td>\n",
       "      <td>0.776095</td>\n",
       "      <td>0.882129</td>\n",
       "      <td>1.0</td>\n",
       "      <td>0.0</td>\n",
       "      <td>1.0</td>\n",
       "      <td>0.0</td>\n",
       "      <td>0.0</td>\n",
       "    </tr>\n",
       "  </tbody>\n",
       "</table>\n",
       "<p>596 rows × 9 columns</p>\n",
       "</div>"
      ],
      "text/plain": [
       "          Age     SibSp     Parch      Fare  male    Q    S  class_2  class_3\n",
       "0    1.902265 -0.469837 -0.463993  0.387842   1.0  0.0  1.0      0.0      0.0\n",
       "1   -0.307836 -0.469837 -0.463993 -0.319081   1.0  1.0  0.0      0.0      1.0\n",
       "2   -0.307836  0.344183  2.016183  0.187924   1.0  0.0  0.0      1.0      0.0\n",
       "3   -0.231626  0.344183 -0.463993 -0.339412   1.0  0.0  0.0      0.0      1.0\n",
       "4   -0.536467 -0.469837 -0.463993 -0.415961   0.0  0.0  1.0      0.0      1.0\n",
       "..        ...       ...       ...       ...   ...  ...  ...      ...      ...\n",
       "591 -0.612678 -0.469837 -0.463993 -0.471692   0.0  0.0  1.0      0.0      1.0\n",
       "592  0.682899 -0.469837 -0.463993 -0.017745   1.0  0.0  1.0      0.0      0.0\n",
       "593  0.911530  1.158202 -0.463993 -0.346137   1.0  0.0  1.0      0.0      1.0\n",
       "594 -1.146151  0.344183  2.016183  1.712501   0.0  0.0  1.0      0.0      0.0\n",
       "595 -0.612678 -0.469837  0.776095  0.882129   1.0  0.0  1.0      0.0      0.0\n",
       "\n",
       "[596 rows x 9 columns]"
      ]
     },
     "execution_count": 50,
     "metadata": {},
     "output_type": "execute_result"
    }
   ],
   "source": [
    "pd.DataFrame(train_data, columns=final_columns)"
   ]
  },
  {
   "cell_type": "code",
   "execution_count": 51,
   "id": "639b08b5",
   "metadata": {
    "execution": {
     "iopub.execute_input": "2023-10-13T19:20:59.038511Z",
     "iopub.status.busy": "2023-10-13T19:20:59.038059Z",
     "iopub.status.idle": "2023-10-13T19:20:59.058150Z",
     "shell.execute_reply": "2023-10-13T19:20:59.057130Z"
    },
    "papermill": {
     "duration": 0.052234,
     "end_time": "2023-10-13T19:20:59.060060",
     "exception": false,
     "start_time": "2023-10-13T19:20:59.007826",
     "status": "completed"
    },
    "tags": []
   },
   "outputs": [
    {
     "data": {
      "text/html": [
       "<div>\n",
       "<style scoped>\n",
       "    .dataframe tbody tr th:only-of-type {\n",
       "        vertical-align: middle;\n",
       "    }\n",
       "\n",
       "    .dataframe tbody tr th {\n",
       "        vertical-align: top;\n",
       "    }\n",
       "\n",
       "    .dataframe thead th {\n",
       "        text-align: right;\n",
       "    }\n",
       "</style>\n",
       "<table border=\"1\" class=\"dataframe\">\n",
       "  <thead>\n",
       "    <tr style=\"text-align: right;\">\n",
       "      <th></th>\n",
       "      <th>Age</th>\n",
       "      <th>SibSp</th>\n",
       "      <th>Parch</th>\n",
       "      <th>Fare</th>\n",
       "      <th>male</th>\n",
       "      <th>Q</th>\n",
       "      <th>S</th>\n",
       "      <th>class_2</th>\n",
       "      <th>class_3</th>\n",
       "    </tr>\n",
       "  </thead>\n",
       "  <tbody>\n",
       "    <tr>\n",
       "      <th>0</th>\n",
       "      <td>-0.307836</td>\n",
       "      <td>0.344183</td>\n",
       "      <td>0.776095</td>\n",
       "      <td>-0.324022</td>\n",
       "      <td>1.0</td>\n",
       "      <td>0.0</td>\n",
       "      <td>0.0</td>\n",
       "      <td>0.0</td>\n",
       "      <td>1.0</td>\n",
       "    </tr>\n",
       "    <tr>\n",
       "      <th>1</th>\n",
       "      <td>0.149426</td>\n",
       "      <td>-0.469837</td>\n",
       "      <td>-0.463993</td>\n",
       "      <td>-0.416285</td>\n",
       "      <td>1.0</td>\n",
       "      <td>0.0</td>\n",
       "      <td>1.0</td>\n",
       "      <td>1.0</td>\n",
       "      <td>0.0</td>\n",
       "    </tr>\n",
       "    <tr>\n",
       "      <th>2</th>\n",
       "      <td>-0.688888</td>\n",
       "      <td>-0.469837</td>\n",
       "      <td>-0.463993</td>\n",
       "      <td>-0.466346</td>\n",
       "      <td>1.0</td>\n",
       "      <td>0.0</td>\n",
       "      <td>1.0</td>\n",
       "      <td>0.0</td>\n",
       "      <td>1.0</td>\n",
       "    </tr>\n",
       "    <tr>\n",
       "      <th>3</th>\n",
       "      <td>-1.755834</td>\n",
       "      <td>-0.469837</td>\n",
       "      <td>0.776095</td>\n",
       "      <td>0.021136</td>\n",
       "      <td>0.0</td>\n",
       "      <td>0.0</td>\n",
       "      <td>1.0</td>\n",
       "      <td>1.0</td>\n",
       "      <td>0.0</td>\n",
       "    </tr>\n",
       "    <tr>\n",
       "      <th>4</th>\n",
       "      <td>-1.146151</td>\n",
       "      <td>0.344183</td>\n",
       "      <td>-0.463993</td>\n",
       "      <td>-0.401866</td>\n",
       "      <td>0.0</td>\n",
       "      <td>0.0</td>\n",
       "      <td>0.0</td>\n",
       "      <td>0.0</td>\n",
       "      <td>1.0</td>\n",
       "    </tr>\n",
       "    <tr>\n",
       "      <th>...</th>\n",
       "      <td>...</td>\n",
       "      <td>...</td>\n",
       "      <td>...</td>\n",
       "      <td>...</td>\n",
       "      <td>...</td>\n",
       "      <td>...</td>\n",
       "      <td>...</td>\n",
       "      <td>...</td>\n",
       "      <td>...</td>\n",
       "    </tr>\n",
       "    <tr>\n",
       "      <th>290</th>\n",
       "      <td>-0.765099</td>\n",
       "      <td>-0.469837</td>\n",
       "      <td>-0.463993</td>\n",
       "      <td>-0.471692</td>\n",
       "      <td>1.0</td>\n",
       "      <td>0.0</td>\n",
       "      <td>1.0</td>\n",
       "      <td>0.0</td>\n",
       "      <td>1.0</td>\n",
       "    </tr>\n",
       "    <tr>\n",
       "      <th>291</th>\n",
       "      <td>0.873425</td>\n",
       "      <td>-0.469837</td>\n",
       "      <td>-0.463993</td>\n",
       "      <td>-0.469748</td>\n",
       "      <td>1.0</td>\n",
       "      <td>1.0</td>\n",
       "      <td>0.0</td>\n",
       "      <td>0.0</td>\n",
       "      <td>1.0</td>\n",
       "    </tr>\n",
       "    <tr>\n",
       "      <th>292</th>\n",
       "      <td>-2.136886</td>\n",
       "      <td>-0.469837</td>\n",
       "      <td>2.016183</td>\n",
       "      <td>-0.314382</td>\n",
       "      <td>0.0</td>\n",
       "      <td>0.0</td>\n",
       "      <td>0.0</td>\n",
       "      <td>0.0</td>\n",
       "      <td>1.0</td>\n",
       "    </tr>\n",
       "    <tr>\n",
       "      <th>293</th>\n",
       "      <td>-0.307836</td>\n",
       "      <td>-0.469837</td>\n",
       "      <td>2.016183</td>\n",
       "      <td>-0.324022</td>\n",
       "      <td>0.0</td>\n",
       "      <td>0.0</td>\n",
       "      <td>0.0</td>\n",
       "      <td>0.0</td>\n",
       "      <td>1.0</td>\n",
       "    </tr>\n",
       "    <tr>\n",
       "      <th>294</th>\n",
       "      <td>-0.612678</td>\n",
       "      <td>-0.469837</td>\n",
       "      <td>-0.463993</td>\n",
       "      <td>-0.466346</td>\n",
       "      <td>1.0</td>\n",
       "      <td>0.0</td>\n",
       "      <td>1.0</td>\n",
       "      <td>0.0</td>\n",
       "      <td>1.0</td>\n",
       "    </tr>\n",
       "  </tbody>\n",
       "</table>\n",
       "<p>295 rows × 9 columns</p>\n",
       "</div>"
      ],
      "text/plain": [
       "          Age     SibSp     Parch      Fare  male    Q    S  class_2  class_3\n",
       "0   -0.307836  0.344183  0.776095 -0.324022   1.0  0.0  0.0      0.0      1.0\n",
       "1    0.149426 -0.469837 -0.463993 -0.416285   1.0  0.0  1.0      1.0      0.0\n",
       "2   -0.688888 -0.469837 -0.463993 -0.466346   1.0  0.0  1.0      0.0      1.0\n",
       "3   -1.755834 -0.469837  0.776095  0.021136   0.0  0.0  1.0      1.0      0.0\n",
       "4   -1.146151  0.344183 -0.463993 -0.401866   0.0  0.0  0.0      0.0      1.0\n",
       "..        ...       ...       ...       ...   ...  ...  ...      ...      ...\n",
       "290 -0.765099 -0.469837 -0.463993 -0.471692   1.0  0.0  1.0      0.0      1.0\n",
       "291  0.873425 -0.469837 -0.463993 -0.469748   1.0  1.0  0.0      0.0      1.0\n",
       "292 -2.136886 -0.469837  2.016183 -0.314382   0.0  0.0  0.0      0.0      1.0\n",
       "293 -0.307836 -0.469837  2.016183 -0.324022   0.0  0.0  0.0      0.0      1.0\n",
       "294 -0.612678 -0.469837 -0.463993 -0.466346   1.0  0.0  1.0      0.0      1.0\n",
       "\n",
       "[295 rows x 9 columns]"
      ]
     },
     "execution_count": 51,
     "metadata": {},
     "output_type": "execute_result"
    }
   ],
   "source": [
    "pd.DataFrame(test_data, columns=final_columns)"
   ]
  },
  {
   "cell_type": "markdown",
   "id": "7c425156",
   "metadata": {
    "execution": {
     "iopub.execute_input": "2023-10-13T11:26:13.755638Z",
     "iopub.status.busy": "2023-10-13T11:26:13.755144Z",
     "iopub.status.idle": "2023-10-13T11:26:13.761324Z",
     "shell.execute_reply": "2023-10-13T11:26:13.760043Z",
     "shell.execute_reply.started": "2023-10-13T11:26:13.755602Z"
    },
    "papermill": {
     "duration": 0.029326,
     "end_time": "2023-10-13T19:20:59.118719",
     "exception": false,
     "start_time": "2023-10-13T19:20:59.089393",
     "status": "completed"
    },
    "tags": []
   },
   "source": [
    "## ▶ Model Training/Evaluation"
   ]
  },
  {
   "cell_type": "code",
   "execution_count": 52,
   "id": "f5e07263",
   "metadata": {
    "execution": {
     "iopub.execute_input": "2023-10-13T19:20:59.180255Z",
     "iopub.status.busy": "2023-10-13T19:20:59.179416Z",
     "iopub.status.idle": "2023-10-13T19:20:59.564863Z",
     "shell.execute_reply": "2023-10-13T19:20:59.563958Z"
    },
    "papermill": {
     "duration": 0.41876,
     "end_time": "2023-10-13T19:20:59.567370",
     "exception": false,
     "start_time": "2023-10-13T19:20:59.148610",
     "status": "completed"
    },
    "tags": []
   },
   "outputs": [],
   "source": [
    "from sklearn.metrics import confusion_matrix, accuracy_score, classification_report\n",
    "from sklearn.ensemble import RandomForestClassifier"
   ]
  },
  {
   "cell_type": "code",
   "execution_count": 53,
   "id": "2edc5542",
   "metadata": {
    "execution": {
     "iopub.execute_input": "2023-10-13T19:20:59.629162Z",
     "iopub.status.busy": "2023-10-13T19:20:59.628771Z",
     "iopub.status.idle": "2023-10-13T19:20:59.633844Z",
     "shell.execute_reply": "2023-10-13T19:20:59.632771Z"
    },
    "papermill": {
     "duration": 0.038998,
     "end_time": "2023-10-13T19:20:59.635799",
     "exception": false,
     "start_time": "2023-10-13T19:20:59.596801",
     "status": "completed"
    },
    "tags": []
   },
   "outputs": [],
   "source": [
    "rfc = RandomForestClassifier()"
   ]
  },
  {
   "cell_type": "code",
   "execution_count": 54,
   "id": "72848951",
   "metadata": {
    "execution": {
     "iopub.execute_input": "2023-10-13T19:20:59.697041Z",
     "iopub.status.busy": "2023-10-13T19:20:59.696633Z",
     "iopub.status.idle": "2023-10-13T19:20:59.897238Z",
     "shell.execute_reply": "2023-10-13T19:20:59.896164Z"
    },
    "papermill": {
     "duration": 0.234287,
     "end_time": "2023-10-13T19:20:59.899952",
     "exception": false,
     "start_time": "2023-10-13T19:20:59.665665",
     "status": "completed"
    },
    "tags": []
   },
   "outputs": [
    {
     "data": {
      "text/html": [
       "<style>#sk-container-id-1 {color: black;background-color: white;}#sk-container-id-1 pre{padding: 0;}#sk-container-id-1 div.sk-toggleable {background-color: white;}#sk-container-id-1 label.sk-toggleable__label {cursor: pointer;display: block;width: 100%;margin-bottom: 0;padding: 0.3em;box-sizing: border-box;text-align: center;}#sk-container-id-1 label.sk-toggleable__label-arrow:before {content: \"▸\";float: left;margin-right: 0.25em;color: #696969;}#sk-container-id-1 label.sk-toggleable__label-arrow:hover:before {color: black;}#sk-container-id-1 div.sk-estimator:hover label.sk-toggleable__label-arrow:before {color: black;}#sk-container-id-1 div.sk-toggleable__content {max-height: 0;max-width: 0;overflow: hidden;text-align: left;background-color: #f0f8ff;}#sk-container-id-1 div.sk-toggleable__content pre {margin: 0.2em;color: black;border-radius: 0.25em;background-color: #f0f8ff;}#sk-container-id-1 input.sk-toggleable__control:checked~div.sk-toggleable__content {max-height: 200px;max-width: 100%;overflow: auto;}#sk-container-id-1 input.sk-toggleable__control:checked~label.sk-toggleable__label-arrow:before {content: \"▾\";}#sk-container-id-1 div.sk-estimator input.sk-toggleable__control:checked~label.sk-toggleable__label {background-color: #d4ebff;}#sk-container-id-1 div.sk-label input.sk-toggleable__control:checked~label.sk-toggleable__label {background-color: #d4ebff;}#sk-container-id-1 input.sk-hidden--visually {border: 0;clip: rect(1px 1px 1px 1px);clip: rect(1px, 1px, 1px, 1px);height: 1px;margin: -1px;overflow: hidden;padding: 0;position: absolute;width: 1px;}#sk-container-id-1 div.sk-estimator {font-family: monospace;background-color: #f0f8ff;border: 1px dotted black;border-radius: 0.25em;box-sizing: border-box;margin-bottom: 0.5em;}#sk-container-id-1 div.sk-estimator:hover {background-color: #d4ebff;}#sk-container-id-1 div.sk-parallel-item::after {content: \"\";width: 100%;border-bottom: 1px solid gray;flex-grow: 1;}#sk-container-id-1 div.sk-label:hover label.sk-toggleable__label {background-color: #d4ebff;}#sk-container-id-1 div.sk-serial::before {content: \"\";position: absolute;border-left: 1px solid gray;box-sizing: border-box;top: 0;bottom: 0;left: 50%;z-index: 0;}#sk-container-id-1 div.sk-serial {display: flex;flex-direction: column;align-items: center;background-color: white;padding-right: 0.2em;padding-left: 0.2em;position: relative;}#sk-container-id-1 div.sk-item {position: relative;z-index: 1;}#sk-container-id-1 div.sk-parallel {display: flex;align-items: stretch;justify-content: center;background-color: white;position: relative;}#sk-container-id-1 div.sk-item::before, #sk-container-id-1 div.sk-parallel-item::before {content: \"\";position: absolute;border-left: 1px solid gray;box-sizing: border-box;top: 0;bottom: 0;left: 50%;z-index: -1;}#sk-container-id-1 div.sk-parallel-item {display: flex;flex-direction: column;z-index: 1;position: relative;background-color: white;}#sk-container-id-1 div.sk-parallel-item:first-child::after {align-self: flex-end;width: 50%;}#sk-container-id-1 div.sk-parallel-item:last-child::after {align-self: flex-start;width: 50%;}#sk-container-id-1 div.sk-parallel-item:only-child::after {width: 0;}#sk-container-id-1 div.sk-dashed-wrapped {border: 1px dashed gray;margin: 0 0.4em 0.5em 0.4em;box-sizing: border-box;padding-bottom: 0.4em;background-color: white;}#sk-container-id-1 div.sk-label label {font-family: monospace;font-weight: bold;display: inline-block;line-height: 1.2em;}#sk-container-id-1 div.sk-label-container {text-align: center;}#sk-container-id-1 div.sk-container {/* jupyter's `normalize.less` sets `[hidden] { display: none; }` but bootstrap.min.css set `[hidden] { display: none !important; }` so we also need the `!important` here to be able to override the default hidden behavior on the sphinx rendered scikit-learn.org. See: https://github.com/scikit-learn/scikit-learn/issues/21755 */display: inline-block !important;position: relative;}#sk-container-id-1 div.sk-text-repr-fallback {display: none;}</style><div id=\"sk-container-id-1\" class=\"sk-top-container\"><div class=\"sk-text-repr-fallback\"><pre>RandomForestClassifier()</pre><b>In a Jupyter environment, please rerun this cell to show the HTML representation or trust the notebook. <br />On GitHub, the HTML representation is unable to render, please try loading this page with nbviewer.org.</b></div><div class=\"sk-container\" hidden><div class=\"sk-item\"><div class=\"sk-estimator sk-toggleable\"><input class=\"sk-toggleable__control sk-hidden--visually\" id=\"sk-estimator-id-1\" type=\"checkbox\" checked><label for=\"sk-estimator-id-1\" class=\"sk-toggleable__label sk-toggleable__label-arrow\">RandomForestClassifier</label><div class=\"sk-toggleable__content\"><pre>RandomForestClassifier()</pre></div></div></div></div></div>"
      ],
      "text/plain": [
       "RandomForestClassifier()"
      ]
     },
     "execution_count": 54,
     "metadata": {},
     "output_type": "execute_result"
    }
   ],
   "source": [
    "rfc.fit(train_data, y_train)"
   ]
  },
  {
   "cell_type": "code",
   "execution_count": 55,
   "id": "99f74d52",
   "metadata": {
    "execution": {
     "iopub.execute_input": "2023-10-13T19:20:59.961872Z",
     "iopub.status.busy": "2023-10-13T19:20:59.961257Z",
     "iopub.status.idle": "2023-10-13T19:20:59.976185Z",
     "shell.execute_reply": "2023-10-13T19:20:59.975057Z"
    },
    "papermill": {
     "duration": 0.048227,
     "end_time": "2023-10-13T19:20:59.978547",
     "exception": false,
     "start_time": "2023-10-13T19:20:59.930320",
     "status": "completed"
    },
    "tags": []
   },
   "outputs": [],
   "source": [
    "rfc_predictions  = rfc.predict(test_data)"
   ]
  },
  {
   "cell_type": "code",
   "execution_count": 56,
   "id": "3c2dc1a2",
   "metadata": {
    "execution": {
     "iopub.execute_input": "2023-10-13T19:21:00.039544Z",
     "iopub.status.busy": "2023-10-13T19:21:00.039137Z",
     "iopub.status.idle": "2023-10-13T19:21:00.054596Z",
     "shell.execute_reply": "2023-10-13T19:21:00.053295Z"
    },
    "papermill": {
     "duration": 0.048736,
     "end_time": "2023-10-13T19:21:00.056828",
     "exception": false,
     "start_time": "2023-10-13T19:21:00.008092",
     "status": "completed"
    },
    "tags": []
   },
   "outputs": [
    {
     "name": "stdout",
     "output_type": "stream",
     "text": [
      ">> Random Forest Classifier - Accuracy: 79.66 \n",
      "\n",
      ">> Random Forest Classifier - Confusion Matrix: \n",
      " [[149  26]\n",
      " [ 34  86]] \n",
      "\n",
      ">> Random Forest Classifier - Classification Report: \n",
      "               precision    recall  f1-score   support\n",
      "\n",
      "           0       0.81      0.85      0.83       175\n",
      "           1       0.77      0.72      0.74       120\n",
      "\n",
      "    accuracy                           0.80       295\n",
      "   macro avg       0.79      0.78      0.79       295\n",
      "weighted avg       0.80      0.80      0.80       295\n",
      " \n",
      "\n"
     ]
    }
   ],
   "source": [
    "print(f'>> Random Forest Classifier - Accuracy: {round(accuracy_score(y_test, rfc_predictions)*100, 2)} \\n')\n",
    "\n",
    "cm = confusion_matrix(y_test, rfc_predictions)\n",
    "print(f'>> Random Forest Classifier - Confusion Matrix: \\n {cm} \\n')\n",
    "\n",
    "print(f'>> Random Forest Classifier - Classification Report: \\n {classification_report(y_test, rfc_predictions)} \\n')"
   ]
  },
  {
   "cell_type": "code",
   "execution_count": 57,
   "id": "cbc3f0f0",
   "metadata": {
    "execution": {
     "iopub.execute_input": "2023-10-13T19:21:00.118087Z",
     "iopub.status.busy": "2023-10-13T19:21:00.117039Z",
     "iopub.status.idle": "2023-10-13T19:21:00.296608Z",
     "shell.execute_reply": "2023-10-13T19:21:00.295222Z"
    },
    "papermill": {
     "duration": 0.2135,
     "end_time": "2023-10-13T19:21:00.299818",
     "exception": false,
     "start_time": "2023-10-13T19:21:00.086318",
     "status": "completed"
    },
    "tags": []
   },
   "outputs": [],
   "source": [
    "from xgboost import XGBClassifier"
   ]
  },
  {
   "cell_type": "code",
   "execution_count": 58,
   "id": "902fc8c6",
   "metadata": {
    "execution": {
     "iopub.execute_input": "2023-10-13T19:21:00.360972Z",
     "iopub.status.busy": "2023-10-13T19:21:00.360610Z",
     "iopub.status.idle": "2023-10-13T19:21:00.365176Z",
     "shell.execute_reply": "2023-10-13T19:21:00.364243Z"
    },
    "papermill": {
     "duration": 0.037349,
     "end_time": "2023-10-13T19:21:00.367139",
     "exception": false,
     "start_time": "2023-10-13T19:21:00.329790",
     "status": "completed"
    },
    "tags": []
   },
   "outputs": [],
   "source": [
    "xgbC = XGBClassifier()"
   ]
  },
  {
   "cell_type": "code",
   "execution_count": 59,
   "id": "8ad18bf7",
   "metadata": {
    "execution": {
     "iopub.execute_input": "2023-10-13T19:21:00.428810Z",
     "iopub.status.busy": "2023-10-13T19:21:00.428159Z",
     "iopub.status.idle": "2023-10-13T19:21:00.533206Z",
     "shell.execute_reply": "2023-10-13T19:21:00.532249Z"
    },
    "papermill": {
     "duration": 0.138356,
     "end_time": "2023-10-13T19:21:00.535615",
     "exception": false,
     "start_time": "2023-10-13T19:21:00.397259",
     "status": "completed"
    },
    "tags": []
   },
   "outputs": [
    {
     "data": {
      "text/html": [
       "<style>#sk-container-id-2 {color: black;background-color: white;}#sk-container-id-2 pre{padding: 0;}#sk-container-id-2 div.sk-toggleable {background-color: white;}#sk-container-id-2 label.sk-toggleable__label {cursor: pointer;display: block;width: 100%;margin-bottom: 0;padding: 0.3em;box-sizing: border-box;text-align: center;}#sk-container-id-2 label.sk-toggleable__label-arrow:before {content: \"▸\";float: left;margin-right: 0.25em;color: #696969;}#sk-container-id-2 label.sk-toggleable__label-arrow:hover:before {color: black;}#sk-container-id-2 div.sk-estimator:hover label.sk-toggleable__label-arrow:before {color: black;}#sk-container-id-2 div.sk-toggleable__content {max-height: 0;max-width: 0;overflow: hidden;text-align: left;background-color: #f0f8ff;}#sk-container-id-2 div.sk-toggleable__content pre {margin: 0.2em;color: black;border-radius: 0.25em;background-color: #f0f8ff;}#sk-container-id-2 input.sk-toggleable__control:checked~div.sk-toggleable__content {max-height: 200px;max-width: 100%;overflow: auto;}#sk-container-id-2 input.sk-toggleable__control:checked~label.sk-toggleable__label-arrow:before {content: \"▾\";}#sk-container-id-2 div.sk-estimator input.sk-toggleable__control:checked~label.sk-toggleable__label {background-color: #d4ebff;}#sk-container-id-2 div.sk-label input.sk-toggleable__control:checked~label.sk-toggleable__label {background-color: #d4ebff;}#sk-container-id-2 input.sk-hidden--visually {border: 0;clip: rect(1px 1px 1px 1px);clip: rect(1px, 1px, 1px, 1px);height: 1px;margin: -1px;overflow: hidden;padding: 0;position: absolute;width: 1px;}#sk-container-id-2 div.sk-estimator {font-family: monospace;background-color: #f0f8ff;border: 1px dotted black;border-radius: 0.25em;box-sizing: border-box;margin-bottom: 0.5em;}#sk-container-id-2 div.sk-estimator:hover {background-color: #d4ebff;}#sk-container-id-2 div.sk-parallel-item::after {content: \"\";width: 100%;border-bottom: 1px solid gray;flex-grow: 1;}#sk-container-id-2 div.sk-label:hover label.sk-toggleable__label {background-color: #d4ebff;}#sk-container-id-2 div.sk-serial::before {content: \"\";position: absolute;border-left: 1px solid gray;box-sizing: border-box;top: 0;bottom: 0;left: 50%;z-index: 0;}#sk-container-id-2 div.sk-serial {display: flex;flex-direction: column;align-items: center;background-color: white;padding-right: 0.2em;padding-left: 0.2em;position: relative;}#sk-container-id-2 div.sk-item {position: relative;z-index: 1;}#sk-container-id-2 div.sk-parallel {display: flex;align-items: stretch;justify-content: center;background-color: white;position: relative;}#sk-container-id-2 div.sk-item::before, #sk-container-id-2 div.sk-parallel-item::before {content: \"\";position: absolute;border-left: 1px solid gray;box-sizing: border-box;top: 0;bottom: 0;left: 50%;z-index: -1;}#sk-container-id-2 div.sk-parallel-item {display: flex;flex-direction: column;z-index: 1;position: relative;background-color: white;}#sk-container-id-2 div.sk-parallel-item:first-child::after {align-self: flex-end;width: 50%;}#sk-container-id-2 div.sk-parallel-item:last-child::after {align-self: flex-start;width: 50%;}#sk-container-id-2 div.sk-parallel-item:only-child::after {width: 0;}#sk-container-id-2 div.sk-dashed-wrapped {border: 1px dashed gray;margin: 0 0.4em 0.5em 0.4em;box-sizing: border-box;padding-bottom: 0.4em;background-color: white;}#sk-container-id-2 div.sk-label label {font-family: monospace;font-weight: bold;display: inline-block;line-height: 1.2em;}#sk-container-id-2 div.sk-label-container {text-align: center;}#sk-container-id-2 div.sk-container {/* jupyter's `normalize.less` sets `[hidden] { display: none; }` but bootstrap.min.css set `[hidden] { display: none !important; }` so we also need the `!important` here to be able to override the default hidden behavior on the sphinx rendered scikit-learn.org. See: https://github.com/scikit-learn/scikit-learn/issues/21755 */display: inline-block !important;position: relative;}#sk-container-id-2 div.sk-text-repr-fallback {display: none;}</style><div id=\"sk-container-id-2\" class=\"sk-top-container\"><div class=\"sk-text-repr-fallback\"><pre>XGBClassifier(base_score=None, booster=None, callbacks=None,\n",
       "              colsample_bylevel=None, colsample_bynode=None,\n",
       "              colsample_bytree=None, early_stopping_rounds=None,\n",
       "              enable_categorical=False, eval_metric=None, feature_types=None,\n",
       "              gamma=None, gpu_id=None, grow_policy=None, importance_type=None,\n",
       "              interaction_constraints=None, learning_rate=None, max_bin=None,\n",
       "              max_cat_threshold=None, max_cat_to_onehot=None,\n",
       "              max_delta_step=None, max_depth=None, max_leaves=None,\n",
       "              min_child_weight=None, missing=nan, monotone_constraints=None,\n",
       "              n_estimators=100, n_jobs=None, num_parallel_tree=None,\n",
       "              predictor=None, random_state=None, ...)</pre><b>In a Jupyter environment, please rerun this cell to show the HTML representation or trust the notebook. <br />On GitHub, the HTML representation is unable to render, please try loading this page with nbviewer.org.</b></div><div class=\"sk-container\" hidden><div class=\"sk-item\"><div class=\"sk-estimator sk-toggleable\"><input class=\"sk-toggleable__control sk-hidden--visually\" id=\"sk-estimator-id-2\" type=\"checkbox\" checked><label for=\"sk-estimator-id-2\" class=\"sk-toggleable__label sk-toggleable__label-arrow\">XGBClassifier</label><div class=\"sk-toggleable__content\"><pre>XGBClassifier(base_score=None, booster=None, callbacks=None,\n",
       "              colsample_bylevel=None, colsample_bynode=None,\n",
       "              colsample_bytree=None, early_stopping_rounds=None,\n",
       "              enable_categorical=False, eval_metric=None, feature_types=None,\n",
       "              gamma=None, gpu_id=None, grow_policy=None, importance_type=None,\n",
       "              interaction_constraints=None, learning_rate=None, max_bin=None,\n",
       "              max_cat_threshold=None, max_cat_to_onehot=None,\n",
       "              max_delta_step=None, max_depth=None, max_leaves=None,\n",
       "              min_child_weight=None, missing=nan, monotone_constraints=None,\n",
       "              n_estimators=100, n_jobs=None, num_parallel_tree=None,\n",
       "              predictor=None, random_state=None, ...)</pre></div></div></div></div></div>"
      ],
      "text/plain": [
       "XGBClassifier(base_score=None, booster=None, callbacks=None,\n",
       "              colsample_bylevel=None, colsample_bynode=None,\n",
       "              colsample_bytree=None, early_stopping_rounds=None,\n",
       "              enable_categorical=False, eval_metric=None, feature_types=None,\n",
       "              gamma=None, gpu_id=None, grow_policy=None, importance_type=None,\n",
       "              interaction_constraints=None, learning_rate=None, max_bin=None,\n",
       "              max_cat_threshold=None, max_cat_to_onehot=None,\n",
       "              max_delta_step=None, max_depth=None, max_leaves=None,\n",
       "              min_child_weight=None, missing=nan, monotone_constraints=None,\n",
       "              n_estimators=100, n_jobs=None, num_parallel_tree=None,\n",
       "              predictor=None, random_state=None, ...)"
      ]
     },
     "execution_count": 59,
     "metadata": {},
     "output_type": "execute_result"
    }
   ],
   "source": [
    "xgbC.fit(train_data, y_train)"
   ]
  },
  {
   "cell_type": "code",
   "execution_count": 60,
   "id": "6f680c11",
   "metadata": {
    "execution": {
     "iopub.execute_input": "2023-10-13T19:21:00.598554Z",
     "iopub.status.busy": "2023-10-13T19:21:00.598196Z",
     "iopub.status.idle": "2023-10-13T19:21:00.605819Z",
     "shell.execute_reply": "2023-10-13T19:21:00.605059Z"
    },
    "papermill": {
     "duration": 0.040596,
     "end_time": "2023-10-13T19:21:00.607857",
     "exception": false,
     "start_time": "2023-10-13T19:21:00.567261",
     "status": "completed"
    },
    "tags": []
   },
   "outputs": [],
   "source": [
    "xgbC_predictions  = xgbC.predict(test_data)"
   ]
  },
  {
   "cell_type": "code",
   "execution_count": 61,
   "id": "b63ac1d3",
   "metadata": {
    "execution": {
     "iopub.execute_input": "2023-10-13T19:21:00.672612Z",
     "iopub.status.busy": "2023-10-13T19:21:00.672223Z",
     "iopub.status.idle": "2023-10-13T19:21:00.687153Z",
     "shell.execute_reply": "2023-10-13T19:21:00.685800Z"
    },
    "papermill": {
     "duration": 0.048384,
     "end_time": "2023-10-13T19:21:00.689676",
     "exception": false,
     "start_time": "2023-10-13T19:21:00.641292",
     "status": "completed"
    },
    "tags": []
   },
   "outputs": [
    {
     "name": "stdout",
     "output_type": "stream",
     "text": [
      ">> XGBoost Classifier - Accuracy: 78.98 \n",
      "\n",
      ">> XGBoost Classifier - Confusion Matrix: \n",
      " [[148  27]\n",
      " [ 35  85]] \n",
      "\n",
      ">> XGBoost Classifier - Classification Report: \n",
      "               precision    recall  f1-score   support\n",
      "\n",
      "           0       0.81      0.85      0.83       175\n",
      "           1       0.76      0.71      0.73       120\n",
      "\n",
      "    accuracy                           0.79       295\n",
      "   macro avg       0.78      0.78      0.78       295\n",
      "weighted avg       0.79      0.79      0.79       295\n",
      " \n",
      "\n"
     ]
    }
   ],
   "source": [
    "print(f'>> XGBoost Classifier - Accuracy: {round(accuracy_score(y_test, xgbC_predictions)*100, 2)} \\n')\n",
    "\n",
    "cm = confusion_matrix(y_test, xgbC_predictions)\n",
    "print(f'>> XGBoost Classifier - Confusion Matrix: \\n {cm} \\n')\n",
    "\n",
    "print(f'>> XGBoost Classifier - Classification Report: \\n {classification_report(y_test, xgbC_predictions)} \\n')"
   ]
  },
  {
   "cell_type": "markdown",
   "id": "27d413a6",
   "metadata": {
    "papermill": {
     "duration": 0.028983,
     "end_time": "2023-10-13T19:21:00.749493",
     "exception": false,
     "start_time": "2023-10-13T19:21:00.720510",
     "status": "completed"
    },
    "tags": []
   },
   "source": [
    "Both **`RandomForestClassification`** and **`XGBoostclassifier`** looks promising, let's work on hyper-paramter tuning."
   ]
  },
  {
   "cell_type": "markdown",
   "id": "58da749b",
   "metadata": {
    "papermill": {
     "duration": 0.028788,
     "end_time": "2023-10-13T19:21:00.807855",
     "exception": false,
     "start_time": "2023-10-13T19:21:00.779067",
     "status": "completed"
    },
    "tags": []
   },
   "source": [
    "##### RFC Hyperparamater Tuning"
   ]
  },
  {
   "cell_type": "code",
   "execution_count": 62,
   "id": "2637da45",
   "metadata": {
    "execution": {
     "iopub.execute_input": "2023-10-13T19:21:00.868284Z",
     "iopub.status.busy": "2023-10-13T19:21:00.867510Z",
     "iopub.status.idle": "2023-10-13T19:21:00.872370Z",
     "shell.execute_reply": "2023-10-13T19:21:00.871499Z"
    },
    "papermill": {
     "duration": 0.03733,
     "end_time": "2023-10-13T19:21:00.874263",
     "exception": false,
     "start_time": "2023-10-13T19:21:00.836933",
     "status": "completed"
    },
    "tags": []
   },
   "outputs": [],
   "source": [
    "from sklearn.model_selection import GridSearchCV"
   ]
  },
  {
   "cell_type": "code",
   "execution_count": 63,
   "id": "e89f8898",
   "metadata": {
    "execution": {
     "iopub.execute_input": "2023-10-13T19:21:00.935379Z",
     "iopub.status.busy": "2023-10-13T19:21:00.934559Z",
     "iopub.status.idle": "2023-10-13T19:21:00.939007Z",
     "shell.execute_reply": "2023-10-13T19:21:00.938217Z"
    },
    "papermill": {
     "duration": 0.0372,
     "end_time": "2023-10-13T19:21:00.940986",
     "exception": false,
     "start_time": "2023-10-13T19:21:00.903786",
     "status": "completed"
    },
    "tags": []
   },
   "outputs": [],
   "source": [
    "classifier = RandomForestClassifier()"
   ]
  },
  {
   "cell_type": "code",
   "execution_count": 64,
   "id": "1708fe55",
   "metadata": {
    "execution": {
     "iopub.execute_input": "2023-10-13T19:21:01.001406Z",
     "iopub.status.busy": "2023-10-13T19:21:01.000986Z",
     "iopub.status.idle": "2023-10-13T19:21:01.006494Z",
     "shell.execute_reply": "2023-10-13T19:21:01.005370Z"
    },
    "papermill": {
     "duration": 0.03908,
     "end_time": "2023-10-13T19:21:01.008968",
     "exception": false,
     "start_time": "2023-10-13T19:21:00.969888",
     "status": "completed"
    },
    "tags": []
   },
   "outputs": [],
   "source": [
    "param_grid = { \n",
    "    \"n_estimators\": [100,150,200],\n",
    "    \"max_depth\": [None,3,4,5,6,7,8],\n",
    "    \"criterion\":[\"gini\", \"entropy\", \"log_loss\"]\n",
    "}"
   ]
  },
  {
   "cell_type": "code",
   "execution_count": 65,
   "id": "1b776e7f",
   "metadata": {
    "execution": {
     "iopub.execute_input": "2023-10-13T19:21:01.070941Z",
     "iopub.status.busy": "2023-10-13T19:21:01.070468Z",
     "iopub.status.idle": "2023-10-13T19:21:01.075789Z",
     "shell.execute_reply": "2023-10-13T19:21:01.074759Z"
    },
    "papermill": {
     "duration": 0.039361,
     "end_time": "2023-10-13T19:21:01.077879",
     "exception": false,
     "start_time": "2023-10-13T19:21:01.038518",
     "status": "completed"
    },
    "tags": []
   },
   "outputs": [],
   "source": [
    "gs = GridSearchCV(classifier, param_grid=param_grid, cv=5, scoring='accuracy', verbose=3)"
   ]
  },
  {
   "cell_type": "code",
   "execution_count": 66,
   "id": "709426de",
   "metadata": {
    "execution": {
     "iopub.execute_input": "2023-10-13T19:21:01.139456Z",
     "iopub.status.busy": "2023-10-13T19:21:01.139059Z",
     "iopub.status.idle": "2023-10-13T19:22:22.829198Z",
     "shell.execute_reply": "2023-10-13T19:22:22.828157Z"
    },
    "papermill": {
     "duration": 81.723496,
     "end_time": "2023-10-13T19:22:22.831130",
     "exception": false,
     "start_time": "2023-10-13T19:21:01.107634",
     "status": "completed"
    },
    "tags": []
   },
   "outputs": [
    {
     "name": "stdout",
     "output_type": "stream",
     "text": [
      "Fitting 5 folds for each of 63 candidates, totalling 315 fits\n",
      "[CV 1/5] END criterion=gini, max_depth=None, n_estimators=100;, score=0.817 total time=   0.2s\n",
      "[CV 2/5] END criterion=gini, max_depth=None, n_estimators=100;, score=0.765 total time=   0.2s\n",
      "[CV 3/5] END criterion=gini, max_depth=None, n_estimators=100;, score=0.765 total time=   0.2s\n",
      "[CV 4/5] END criterion=gini, max_depth=None, n_estimators=100;, score=0.790 total time=   0.2s\n",
      "[CV 5/5] END criterion=gini, max_depth=None, n_estimators=100;, score=0.815 total time=   0.2s\n",
      "[CV 1/5] END criterion=gini, max_depth=None, n_estimators=150;, score=0.800 total time=   0.3s\n",
      "[CV 2/5] END criterion=gini, max_depth=None, n_estimators=150;, score=0.765 total time=   0.3s\n",
      "[CV 3/5] END criterion=gini, max_depth=None, n_estimators=150;, score=0.773 total time=   0.3s\n",
      "[CV 4/5] END criterion=gini, max_depth=None, n_estimators=150;, score=0.790 total time=   0.3s\n",
      "[CV 5/5] END criterion=gini, max_depth=None, n_estimators=150;, score=0.824 total time=   0.3s\n",
      "[CV 1/5] END criterion=gini, max_depth=None, n_estimators=200;, score=0.800 total time=   0.4s\n",
      "[CV 2/5] END criterion=gini, max_depth=None, n_estimators=200;, score=0.739 total time=   0.4s\n",
      "[CV 3/5] END criterion=gini, max_depth=None, n_estimators=200;, score=0.765 total time=   0.4s\n",
      "[CV 4/5] END criterion=gini, max_depth=None, n_estimators=200;, score=0.815 total time=   0.4s\n",
      "[CV 5/5] END criterion=gini, max_depth=None, n_estimators=200;, score=0.832 total time=   0.4s\n",
      "[CV 1/5] END criterion=gini, max_depth=3, n_estimators=100;, score=0.808 total time=   0.2s\n",
      "[CV 2/5] END criterion=gini, max_depth=3, n_estimators=100;, score=0.866 total time=   0.2s\n",
      "[CV 3/5] END criterion=gini, max_depth=3, n_estimators=100;, score=0.765 total time=   0.2s\n",
      "[CV 4/5] END criterion=gini, max_depth=3, n_estimators=100;, score=0.739 total time=   0.2s\n",
      "[CV 5/5] END criterion=gini, max_depth=3, n_estimators=100;, score=0.832 total time=   0.2s\n",
      "[CV 1/5] END criterion=gini, max_depth=3, n_estimators=150;, score=0.792 total time=   0.2s\n",
      "[CV 2/5] END criterion=gini, max_depth=3, n_estimators=150;, score=0.832 total time=   0.2s\n",
      "[CV 3/5] END criterion=gini, max_depth=3, n_estimators=150;, score=0.790 total time=   0.2s\n",
      "[CV 4/5] END criterion=gini, max_depth=3, n_estimators=150;, score=0.731 total time=   0.2s\n",
      "[CV 5/5] END criterion=gini, max_depth=3, n_estimators=150;, score=0.840 total time=   0.2s\n",
      "[CV 1/5] END criterion=gini, max_depth=3, n_estimators=200;, score=0.800 total time=   0.3s\n",
      "[CV 2/5] END criterion=gini, max_depth=3, n_estimators=200;, score=0.840 total time=   0.3s\n",
      "[CV 3/5] END criterion=gini, max_depth=3, n_estimators=200;, score=0.790 total time=   0.3s\n",
      "[CV 4/5] END criterion=gini, max_depth=3, n_estimators=200;, score=0.723 total time=   0.3s\n",
      "[CV 5/5] END criterion=gini, max_depth=3, n_estimators=200;, score=0.840 total time=   0.3s\n",
      "[CV 1/5] END criterion=gini, max_depth=4, n_estimators=100;, score=0.808 total time=   0.2s\n",
      "[CV 2/5] END criterion=gini, max_depth=4, n_estimators=100;, score=0.866 total time=   0.2s\n",
      "[CV 3/5] END criterion=gini, max_depth=4, n_estimators=100;, score=0.815 total time=   0.2s\n",
      "[CV 4/5] END criterion=gini, max_depth=4, n_estimators=100;, score=0.748 total time=   0.2s\n",
      "[CV 5/5] END criterion=gini, max_depth=4, n_estimators=100;, score=0.832 total time=   0.2s\n",
      "[CV 1/5] END criterion=gini, max_depth=4, n_estimators=150;, score=0.783 total time=   0.2s\n",
      "[CV 2/5] END criterion=gini, max_depth=4, n_estimators=150;, score=0.882 total time=   0.2s\n",
      "[CV 3/5] END criterion=gini, max_depth=4, n_estimators=150;, score=0.807 total time=   0.2s\n",
      "[CV 4/5] END criterion=gini, max_depth=4, n_estimators=150;, score=0.748 total time=   0.2s\n",
      "[CV 5/5] END criterion=gini, max_depth=4, n_estimators=150;, score=0.832 total time=   0.2s\n",
      "[CV 1/5] END criterion=gini, max_depth=4, n_estimators=200;, score=0.792 total time=   0.3s\n",
      "[CV 2/5] END criterion=gini, max_depth=4, n_estimators=200;, score=0.882 total time=   0.3s\n",
      "[CV 3/5] END criterion=gini, max_depth=4, n_estimators=200;, score=0.798 total time=   0.3s\n",
      "[CV 4/5] END criterion=gini, max_depth=4, n_estimators=200;, score=0.756 total time=   0.3s\n",
      "[CV 5/5] END criterion=gini, max_depth=4, n_estimators=200;, score=0.849 total time=   0.3s\n",
      "[CV 1/5] END criterion=gini, max_depth=5, n_estimators=100;, score=0.808 total time=   0.2s\n",
      "[CV 2/5] END criterion=gini, max_depth=5, n_estimators=100;, score=0.866 total time=   0.2s\n",
      "[CV 3/5] END criterion=gini, max_depth=5, n_estimators=100;, score=0.807 total time=   0.2s\n",
      "[CV 4/5] END criterion=gini, max_depth=5, n_estimators=100;, score=0.756 total time=   0.2s\n",
      "[CV 5/5] END criterion=gini, max_depth=5, n_estimators=100;, score=0.824 total time=   0.2s\n",
      "[CV 1/5] END criterion=gini, max_depth=5, n_estimators=150;, score=0.792 total time=   0.2s\n",
      "[CV 2/5] END criterion=gini, max_depth=5, n_estimators=150;, score=0.866 total time=   0.2s\n",
      "[CV 3/5] END criterion=gini, max_depth=5, n_estimators=150;, score=0.815 total time=   0.2s\n",
      "[CV 4/5] END criterion=gini, max_depth=5, n_estimators=150;, score=0.765 total time=   0.3s\n",
      "[CV 5/5] END criterion=gini, max_depth=5, n_estimators=150;, score=0.824 total time=   0.3s\n",
      "[CV 1/5] END criterion=gini, max_depth=5, n_estimators=200;, score=0.817 total time=   0.3s\n",
      "[CV 2/5] END criterion=gini, max_depth=5, n_estimators=200;, score=0.866 total time=   0.3s\n",
      "[CV 3/5] END criterion=gini, max_depth=5, n_estimators=200;, score=0.815 total time=   0.3s\n",
      "[CV 4/5] END criterion=gini, max_depth=5, n_estimators=200;, score=0.756 total time=   0.3s\n",
      "[CV 5/5] END criterion=gini, max_depth=5, n_estimators=200;, score=0.840 total time=   0.3s\n",
      "[CV 1/5] END criterion=gini, max_depth=6, n_estimators=100;, score=0.808 total time=   0.2s\n",
      "[CV 2/5] END criterion=gini, max_depth=6, n_estimators=100;, score=0.824 total time=   0.2s\n",
      "[CV 3/5] END criterion=gini, max_depth=6, n_estimators=100;, score=0.807 total time=   0.2s\n",
      "[CV 4/5] END criterion=gini, max_depth=6, n_estimators=100;, score=0.765 total time=   0.2s\n",
      "[CV 5/5] END criterion=gini, max_depth=6, n_estimators=100;, score=0.857 total time=   0.2s\n",
      "[CV 1/5] END criterion=gini, max_depth=6, n_estimators=150;, score=0.808 total time=   0.3s\n",
      "[CV 2/5] END criterion=gini, max_depth=6, n_estimators=150;, score=0.832 total time=   0.3s\n",
      "[CV 3/5] END criterion=gini, max_depth=6, n_estimators=150;, score=0.807 total time=   0.2s\n",
      "[CV 4/5] END criterion=gini, max_depth=6, n_estimators=150;, score=0.756 total time=   0.3s\n",
      "[CV 5/5] END criterion=gini, max_depth=6, n_estimators=150;, score=0.849 total time=   0.3s\n",
      "[CV 1/5] END criterion=gini, max_depth=6, n_estimators=200;, score=0.808 total time=   0.3s\n",
      "[CV 2/5] END criterion=gini, max_depth=6, n_estimators=200;, score=0.840 total time=   0.3s\n",
      "[CV 3/5] END criterion=gini, max_depth=6, n_estimators=200;, score=0.815 total time=   0.3s\n",
      "[CV 4/5] END criterion=gini, max_depth=6, n_estimators=200;, score=0.782 total time=   0.3s\n",
      "[CV 5/5] END criterion=gini, max_depth=6, n_estimators=200;, score=0.849 total time=   0.3s\n",
      "[CV 1/5] END criterion=gini, max_depth=7, n_estimators=100;, score=0.825 total time=   0.2s\n",
      "[CV 2/5] END criterion=gini, max_depth=7, n_estimators=100;, score=0.824 total time=   0.2s\n",
      "[CV 3/5] END criterion=gini, max_depth=7, n_estimators=100;, score=0.815 total time=   0.2s\n",
      "[CV 4/5] END criterion=gini, max_depth=7, n_estimators=100;, score=0.765 total time=   0.2s\n",
      "[CV 5/5] END criterion=gini, max_depth=7, n_estimators=100;, score=0.857 total time=   0.2s\n",
      "[CV 1/5] END criterion=gini, max_depth=7, n_estimators=150;, score=0.808 total time=   0.3s\n",
      "[CV 2/5] END criterion=gini, max_depth=7, n_estimators=150;, score=0.824 total time=   0.3s\n",
      "[CV 3/5] END criterion=gini, max_depth=7, n_estimators=150;, score=0.815 total time=   0.3s\n",
      "[CV 4/5] END criterion=gini, max_depth=7, n_estimators=150;, score=0.773 total time=   0.3s\n",
      "[CV 5/5] END criterion=gini, max_depth=7, n_estimators=150;, score=0.857 total time=   0.3s\n",
      "[CV 1/5] END criterion=gini, max_depth=7, n_estimators=200;, score=0.808 total time=   0.3s\n",
      "[CV 2/5] END criterion=gini, max_depth=7, n_estimators=200;, score=0.832 total time=   0.3s\n",
      "[CV 3/5] END criterion=gini, max_depth=7, n_estimators=200;, score=0.815 total time=   0.3s\n",
      "[CV 4/5] END criterion=gini, max_depth=7, n_estimators=200;, score=0.782 total time=   0.3s\n",
      "[CV 5/5] END criterion=gini, max_depth=7, n_estimators=200;, score=0.849 total time=   0.3s\n",
      "[CV 1/5] END criterion=gini, max_depth=8, n_estimators=100;, score=0.800 total time=   0.2s\n",
      "[CV 2/5] END criterion=gini, max_depth=8, n_estimators=100;, score=0.815 total time=   0.2s\n",
      "[CV 3/5] END criterion=gini, max_depth=8, n_estimators=100;, score=0.790 total time=   0.2s\n",
      "[CV 4/5] END criterion=gini, max_depth=8, n_estimators=100;, score=0.782 total time=   0.2s\n",
      "[CV 5/5] END criterion=gini, max_depth=8, n_estimators=100;, score=0.857 total time=   0.2s\n",
      "[CV 1/5] END criterion=gini, max_depth=8, n_estimators=150;, score=0.825 total time=   0.3s\n",
      "[CV 2/5] END criterion=gini, max_depth=8, n_estimators=150;, score=0.832 total time=   0.3s\n",
      "[CV 3/5] END criterion=gini, max_depth=8, n_estimators=150;, score=0.807 total time=   0.3s\n",
      "[CV 4/5] END criterion=gini, max_depth=8, n_estimators=150;, score=0.790 total time=   0.3s\n",
      "[CV 5/5] END criterion=gini, max_depth=8, n_estimators=150;, score=0.857 total time=   0.3s\n",
      "[CV 1/5] END criterion=gini, max_depth=8, n_estimators=200;, score=0.833 total time=   0.4s\n",
      "[CV 2/5] END criterion=gini, max_depth=8, n_estimators=200;, score=0.815 total time=   0.3s\n",
      "[CV 3/5] END criterion=gini, max_depth=8, n_estimators=200;, score=0.815 total time=   0.3s\n",
      "[CV 4/5] END criterion=gini, max_depth=8, n_estimators=200;, score=0.782 total time=   0.3s\n",
      "[CV 5/5] END criterion=gini, max_depth=8, n_estimators=200;, score=0.866 total time=   0.3s\n",
      "[CV 1/5] END criterion=entropy, max_depth=None, n_estimators=100;, score=0.792 total time=   0.2s\n",
      "[CV 2/5] END criterion=entropy, max_depth=None, n_estimators=100;, score=0.773 total time=   0.2s\n",
      "[CV 3/5] END criterion=entropy, max_depth=None, n_estimators=100;, score=0.773 total time=   0.2s\n",
      "[CV 4/5] END criterion=entropy, max_depth=None, n_estimators=100;, score=0.815 total time=   0.2s\n",
      "[CV 5/5] END criterion=entropy, max_depth=None, n_estimators=100;, score=0.815 total time=   0.2s\n",
      "[CV 1/5] END criterion=entropy, max_depth=None, n_estimators=150;, score=0.792 total time=   0.3s\n",
      "[CV 2/5] END criterion=entropy, max_depth=None, n_estimators=150;, score=0.748 total time=   0.3s\n",
      "[CV 3/5] END criterion=entropy, max_depth=None, n_estimators=150;, score=0.782 total time=   0.3s\n",
      "[CV 4/5] END criterion=entropy, max_depth=None, n_estimators=150;, score=0.807 total time=   0.3s\n",
      "[CV 5/5] END criterion=entropy, max_depth=None, n_estimators=150;, score=0.824 total time=   0.3s\n",
      "[CV 1/5] END criterion=entropy, max_depth=None, n_estimators=200;, score=0.800 total time=   0.4s\n",
      "[CV 2/5] END criterion=entropy, max_depth=None, n_estimators=200;, score=0.765 total time=   0.4s\n",
      "[CV 3/5] END criterion=entropy, max_depth=None, n_estimators=200;, score=0.790 total time=   0.4s\n",
      "[CV 4/5] END criterion=entropy, max_depth=None, n_estimators=200;, score=0.798 total time=   0.4s\n",
      "[CV 5/5] END criterion=entropy, max_depth=None, n_estimators=200;, score=0.832 total time=   0.4s\n",
      "[CV 1/5] END criterion=entropy, max_depth=3, n_estimators=100;, score=0.800 total time=   0.2s\n",
      "[CV 2/5] END criterion=entropy, max_depth=3, n_estimators=100;, score=0.832 total time=   0.2s\n",
      "[CV 3/5] END criterion=entropy, max_depth=3, n_estimators=100;, score=0.790 total time=   0.2s\n",
      "[CV 4/5] END criterion=entropy, max_depth=3, n_estimators=100;, score=0.773 total time=   0.2s\n",
      "[CV 5/5] END criterion=entropy, max_depth=3, n_estimators=100;, score=0.840 total time=   0.2s\n",
      "[CV 1/5] END criterion=entropy, max_depth=3, n_estimators=150;, score=0.800 total time=   0.2s\n",
      "[CV 2/5] END criterion=entropy, max_depth=3, n_estimators=150;, score=0.832 total time=   0.2s\n",
      "[CV 3/5] END criterion=entropy, max_depth=3, n_estimators=150;, score=0.798 total time=   0.2s\n",
      "[CV 4/5] END criterion=entropy, max_depth=3, n_estimators=150;, score=0.739 total time=   0.2s\n",
      "[CV 5/5] END criterion=entropy, max_depth=3, n_estimators=150;, score=0.832 total time=   0.2s\n",
      "[CV 1/5] END criterion=entropy, max_depth=3, n_estimators=200;, score=0.800 total time=   0.3s\n",
      "[CV 2/5] END criterion=entropy, max_depth=3, n_estimators=200;, score=0.866 total time=   0.3s\n",
      "[CV 3/5] END criterion=entropy, max_depth=3, n_estimators=200;, score=0.765 total time=   0.3s\n",
      "[CV 4/5] END criterion=entropy, max_depth=3, n_estimators=200;, score=0.731 total time=   0.3s\n",
      "[CV 5/5] END criterion=entropy, max_depth=3, n_estimators=200;, score=0.832 total time=   0.3s\n",
      "[CV 1/5] END criterion=entropy, max_depth=4, n_estimators=100;, score=0.808 total time=   0.2s\n",
      "[CV 2/5] END criterion=entropy, max_depth=4, n_estimators=100;, score=0.891 total time=   0.2s\n",
      "[CV 3/5] END criterion=entropy, max_depth=4, n_estimators=100;, score=0.815 total time=   0.2s\n",
      "[CV 4/5] END criterion=entropy, max_depth=4, n_estimators=100;, score=0.756 total time=   0.2s\n",
      "[CV 5/5] END criterion=entropy, max_depth=4, n_estimators=100;, score=0.849 total time=   0.2s\n",
      "[CV 1/5] END criterion=entropy, max_depth=4, n_estimators=150;, score=0.800 total time=   0.2s\n",
      "[CV 2/5] END criterion=entropy, max_depth=4, n_estimators=150;, score=0.891 total time=   0.2s\n",
      "[CV 3/5] END criterion=entropy, max_depth=4, n_estimators=150;, score=0.798 total time=   0.2s\n",
      "[CV 4/5] END criterion=entropy, max_depth=4, n_estimators=150;, score=0.748 total time=   0.2s\n",
      "[CV 5/5] END criterion=entropy, max_depth=4, n_estimators=150;, score=0.857 total time=   0.2s\n",
      "[CV 1/5] END criterion=entropy, max_depth=4, n_estimators=200;, score=0.808 total time=   0.3s\n",
      "[CV 2/5] END criterion=entropy, max_depth=4, n_estimators=200;, score=0.857 total time=   0.3s\n",
      "[CV 3/5] END criterion=entropy, max_depth=4, n_estimators=200;, score=0.832 total time=   0.3s\n",
      "[CV 4/5] END criterion=entropy, max_depth=4, n_estimators=200;, score=0.748 total time=   0.3s\n",
      "[CV 5/5] END criterion=entropy, max_depth=4, n_estimators=200;, score=0.840 total time=   0.3s\n",
      "[CV 1/5] END criterion=entropy, max_depth=5, n_estimators=100;, score=0.808 total time=   0.2s\n",
      "[CV 2/5] END criterion=entropy, max_depth=5, n_estimators=100;, score=0.891 total time=   0.2s\n",
      "[CV 3/5] END criterion=entropy, max_depth=5, n_estimators=100;, score=0.790 total time=   0.2s\n",
      "[CV 4/5] END criterion=entropy, max_depth=5, n_estimators=100;, score=0.782 total time=   0.2s\n",
      "[CV 5/5] END criterion=entropy, max_depth=5, n_estimators=100;, score=0.849 total time=   0.2s\n",
      "[CV 1/5] END criterion=entropy, max_depth=5, n_estimators=150;, score=0.808 total time=   0.3s\n",
      "[CV 2/5] END criterion=entropy, max_depth=5, n_estimators=150;, score=0.874 total time=   0.3s\n",
      "[CV 3/5] END criterion=entropy, max_depth=5, n_estimators=150;, score=0.807 total time=   0.3s\n",
      "[CV 4/5] END criterion=entropy, max_depth=5, n_estimators=150;, score=0.756 total time=   0.3s\n",
      "[CV 5/5] END criterion=entropy, max_depth=5, n_estimators=150;, score=0.849 total time=   0.3s\n",
      "[CV 1/5] END criterion=entropy, max_depth=5, n_estimators=200;, score=0.800 total time=   0.3s\n",
      "[CV 2/5] END criterion=entropy, max_depth=5, n_estimators=200;, score=0.866 total time=   0.3s\n",
      "[CV 3/5] END criterion=entropy, max_depth=5, n_estimators=200;, score=0.824 total time=   0.3s\n",
      "[CV 4/5] END criterion=entropy, max_depth=5, n_estimators=200;, score=0.756 total time=   0.3s\n",
      "[CV 5/5] END criterion=entropy, max_depth=5, n_estimators=200;, score=0.857 total time=   0.3s\n",
      "[CV 1/5] END criterion=entropy, max_depth=6, n_estimators=100;, score=0.808 total time=   0.2s\n",
      "[CV 2/5] END criterion=entropy, max_depth=6, n_estimators=100;, score=0.866 total time=   0.2s\n",
      "[CV 3/5] END criterion=entropy, max_depth=6, n_estimators=100;, score=0.807 total time=   0.2s\n",
      "[CV 4/5] END criterion=entropy, max_depth=6, n_estimators=100;, score=0.756 total time=   0.2s\n",
      "[CV 5/5] END criterion=entropy, max_depth=6, n_estimators=100;, score=0.857 total time=   0.2s\n",
      "[CV 1/5] END criterion=entropy, max_depth=6, n_estimators=150;, score=0.800 total time=   0.3s\n",
      "[CV 2/5] END criterion=entropy, max_depth=6, n_estimators=150;, score=0.840 total time=   0.3s\n",
      "[CV 3/5] END criterion=entropy, max_depth=6, n_estimators=150;, score=0.807 total time=   0.3s\n",
      "[CV 4/5] END criterion=entropy, max_depth=6, n_estimators=150;, score=0.756 total time=   0.3s\n",
      "[CV 5/5] END criterion=entropy, max_depth=6, n_estimators=150;, score=0.840 total time=   0.3s\n",
      "[CV 1/5] END criterion=entropy, max_depth=6, n_estimators=200;, score=0.808 total time=   0.3s\n",
      "[CV 2/5] END criterion=entropy, max_depth=6, n_estimators=200;, score=0.857 total time=   0.3s\n",
      "[CV 3/5] END criterion=entropy, max_depth=6, n_estimators=200;, score=0.798 total time=   0.3s\n",
      "[CV 4/5] END criterion=entropy, max_depth=6, n_estimators=200;, score=0.756 total time=   0.3s\n",
      "[CV 5/5] END criterion=entropy, max_depth=6, n_estimators=200;, score=0.849 total time=   0.3s\n",
      "[CV 1/5] END criterion=entropy, max_depth=7, n_estimators=100;, score=0.808 total time=   0.2s\n",
      "[CV 2/5] END criterion=entropy, max_depth=7, n_estimators=100;, score=0.832 total time=   0.2s\n",
      "[CV 3/5] END criterion=entropy, max_depth=7, n_estimators=100;, score=0.807 total time=   0.2s\n",
      "[CV 4/5] END criterion=entropy, max_depth=7, n_estimators=100;, score=0.782 total time=   0.2s\n",
      "[CV 5/5] END criterion=entropy, max_depth=7, n_estimators=100;, score=0.866 total time=   0.2s\n",
      "[CV 1/5] END criterion=entropy, max_depth=7, n_estimators=150;, score=0.808 total time=   0.3s\n",
      "[CV 2/5] END criterion=entropy, max_depth=7, n_estimators=150;, score=0.824 total time=   0.3s\n",
      "[CV 3/5] END criterion=entropy, max_depth=7, n_estimators=150;, score=0.798 total time=   0.3s\n",
      "[CV 4/5] END criterion=entropy, max_depth=7, n_estimators=150;, score=0.773 total time=   0.3s\n",
      "[CV 5/5] END criterion=entropy, max_depth=7, n_estimators=150;, score=0.857 total time=   0.3s\n",
      "[CV 1/5] END criterion=entropy, max_depth=7, n_estimators=200;, score=0.808 total time=   0.3s\n",
      "[CV 2/5] END criterion=entropy, max_depth=7, n_estimators=200;, score=0.832 total time=   0.3s\n",
      "[CV 3/5] END criterion=entropy, max_depth=7, n_estimators=200;, score=0.824 total time=   0.3s\n",
      "[CV 4/5] END criterion=entropy, max_depth=7, n_estimators=200;, score=0.790 total time=   0.3s\n",
      "[CV 5/5] END criterion=entropy, max_depth=7, n_estimators=200;, score=0.849 total time=   0.3s\n",
      "[CV 1/5] END criterion=entropy, max_depth=8, n_estimators=100;, score=0.808 total time=   0.2s\n",
      "[CV 2/5] END criterion=entropy, max_depth=8, n_estimators=100;, score=0.832 total time=   0.2s\n",
      "[CV 3/5] END criterion=entropy, max_depth=8, n_estimators=100;, score=0.807 total time=   0.2s\n",
      "[CV 4/5] END criterion=entropy, max_depth=8, n_estimators=100;, score=0.798 total time=   0.2s\n",
      "[CV 5/5] END criterion=entropy, max_depth=8, n_estimators=100;, score=0.849 total time=   0.2s\n",
      "[CV 1/5] END criterion=entropy, max_depth=8, n_estimators=150;, score=0.825 total time=   0.3s\n",
      "[CV 2/5] END criterion=entropy, max_depth=8, n_estimators=150;, score=0.824 total time=   0.3s\n",
      "[CV 3/5] END criterion=entropy, max_depth=8, n_estimators=150;, score=0.824 total time=   0.3s\n",
      "[CV 4/5] END criterion=entropy, max_depth=8, n_estimators=150;, score=0.790 total time=   0.3s\n",
      "[CV 5/5] END criterion=entropy, max_depth=8, n_estimators=150;, score=0.857 total time=   0.3s\n",
      "[CV 1/5] END criterion=entropy, max_depth=8, n_estimators=200;, score=0.825 total time=   0.4s\n",
      "[CV 2/5] END criterion=entropy, max_depth=8, n_estimators=200;, score=0.832 total time=   0.3s\n",
      "[CV 3/5] END criterion=entropy, max_depth=8, n_estimators=200;, score=0.815 total time=   0.4s\n",
      "[CV 4/5] END criterion=entropy, max_depth=8, n_estimators=200;, score=0.782 total time=   0.4s\n",
      "[CV 5/5] END criterion=entropy, max_depth=8, n_estimators=200;, score=0.857 total time=   0.3s\n",
      "[CV 1/5] END criterion=log_loss, max_depth=None, n_estimators=100;, score=0.808 total time=   0.2s\n",
      "[CV 2/5] END criterion=log_loss, max_depth=None, n_estimators=100;, score=0.756 total time=   0.2s\n",
      "[CV 3/5] END criterion=log_loss, max_depth=None, n_estimators=100;, score=0.790 total time=   0.2s\n",
      "[CV 4/5] END criterion=log_loss, max_depth=None, n_estimators=100;, score=0.815 total time=   0.2s\n",
      "[CV 5/5] END criterion=log_loss, max_depth=None, n_estimators=100;, score=0.849 total time=   0.2s\n",
      "[CV 1/5] END criterion=log_loss, max_depth=None, n_estimators=150;, score=0.808 total time=   0.3s\n",
      "[CV 2/5] END criterion=log_loss, max_depth=None, n_estimators=150;, score=0.748 total time=   0.3s\n",
      "[CV 3/5] END criterion=log_loss, max_depth=None, n_estimators=150;, score=0.790 total time=   0.3s\n",
      "[CV 4/5] END criterion=log_loss, max_depth=None, n_estimators=150;, score=0.815 total time=   0.3s\n",
      "[CV 5/5] END criterion=log_loss, max_depth=None, n_estimators=150;, score=0.824 total time=   0.3s\n",
      "[CV 1/5] END criterion=log_loss, max_depth=None, n_estimators=200;, score=0.792 total time=   0.4s\n",
      "[CV 2/5] END criterion=log_loss, max_depth=None, n_estimators=200;, score=0.748 total time=   0.4s\n",
      "[CV 3/5] END criterion=log_loss, max_depth=None, n_estimators=200;, score=0.773 total time=   0.4s\n",
      "[CV 4/5] END criterion=log_loss, max_depth=None, n_estimators=200;, score=0.807 total time=   0.4s\n",
      "[CV 5/5] END criterion=log_loss, max_depth=None, n_estimators=200;, score=0.824 total time=   0.4s\n",
      "[CV 1/5] END criterion=log_loss, max_depth=3, n_estimators=100;, score=0.775 total time=   0.2s\n",
      "[CV 2/5] END criterion=log_loss, max_depth=3, n_estimators=100;, score=0.849 total time=   0.2s\n",
      "[CV 3/5] END criterion=log_loss, max_depth=3, n_estimators=100;, score=0.807 total time=   0.2s\n",
      "[CV 4/5] END criterion=log_loss, max_depth=3, n_estimators=100;, score=0.748 total time=   0.2s\n",
      "[CV 5/5] END criterion=log_loss, max_depth=3, n_estimators=100;, score=0.840 total time=   0.2s\n",
      "[CV 1/5] END criterion=log_loss, max_depth=3, n_estimators=150;, score=0.783 total time=   0.2s\n",
      "[CV 2/5] END criterion=log_loss, max_depth=3, n_estimators=150;, score=0.849 total time=   0.2s\n",
      "[CV 3/5] END criterion=log_loss, max_depth=3, n_estimators=150;, score=0.807 total time=   0.2s\n",
      "[CV 4/5] END criterion=log_loss, max_depth=3, n_estimators=150;, score=0.739 total time=   0.2s\n",
      "[CV 5/5] END criterion=log_loss, max_depth=3, n_estimators=150;, score=0.840 total time=   0.3s\n",
      "[CV 1/5] END criterion=log_loss, max_depth=3, n_estimators=200;, score=0.800 total time=   0.3s\n",
      "[CV 2/5] END criterion=log_loss, max_depth=3, n_estimators=200;, score=0.849 total time=   0.3s\n",
      "[CV 3/5] END criterion=log_loss, max_depth=3, n_estimators=200;, score=0.798 total time=   0.3s\n",
      "[CV 4/5] END criterion=log_loss, max_depth=3, n_estimators=200;, score=0.773 total time=   0.3s\n",
      "[CV 5/5] END criterion=log_loss, max_depth=3, n_estimators=200;, score=0.849 total time=   0.3s\n",
      "[CV 1/5] END criterion=log_loss, max_depth=4, n_estimators=100;, score=0.808 total time=   0.2s\n",
      "[CV 2/5] END criterion=log_loss, max_depth=4, n_estimators=100;, score=0.857 total time=   0.2s\n",
      "[CV 3/5] END criterion=log_loss, max_depth=4, n_estimators=100;, score=0.815 total time=   0.2s\n",
      "[CV 4/5] END criterion=log_loss, max_depth=4, n_estimators=100;, score=0.756 total time=   0.2s\n",
      "[CV 5/5] END criterion=log_loss, max_depth=4, n_estimators=100;, score=0.849 total time=   0.2s\n",
      "[CV 1/5] END criterion=log_loss, max_depth=4, n_estimators=150;, score=0.800 total time=   0.2s\n",
      "[CV 2/5] END criterion=log_loss, max_depth=4, n_estimators=150;, score=0.882 total time=   0.2s\n",
      "[CV 3/5] END criterion=log_loss, max_depth=4, n_estimators=150;, score=0.824 total time=   0.2s\n",
      "[CV 4/5] END criterion=log_loss, max_depth=4, n_estimators=150;, score=0.748 total time=   0.2s\n",
      "[CV 5/5] END criterion=log_loss, max_depth=4, n_estimators=150;, score=0.840 total time=   0.2s\n",
      "[CV 1/5] END criterion=log_loss, max_depth=4, n_estimators=200;, score=0.808 total time=   0.3s\n",
      "[CV 2/5] END criterion=log_loss, max_depth=4, n_estimators=200;, score=0.849 total time=   0.3s\n",
      "[CV 3/5] END criterion=log_loss, max_depth=4, n_estimators=200;, score=0.807 total time=   0.3s\n",
      "[CV 4/5] END criterion=log_loss, max_depth=4, n_estimators=200;, score=0.748 total time=   0.3s\n",
      "[CV 5/5] END criterion=log_loss, max_depth=4, n_estimators=200;, score=0.840 total time=   0.3s\n",
      "[CV 1/5] END criterion=log_loss, max_depth=5, n_estimators=100;, score=0.808 total time=   0.2s\n",
      "[CV 2/5] END criterion=log_loss, max_depth=5, n_estimators=100;, score=0.857 total time=   0.2s\n",
      "[CV 3/5] END criterion=log_loss, max_depth=5, n_estimators=100;, score=0.824 total time=   0.2s\n",
      "[CV 4/5] END criterion=log_loss, max_depth=5, n_estimators=100;, score=0.756 total time=   0.2s\n",
      "[CV 5/5] END criterion=log_loss, max_depth=5, n_estimators=100;, score=0.849 total time=   0.2s\n",
      "[CV 1/5] END criterion=log_loss, max_depth=5, n_estimators=150;, score=0.808 total time=   0.3s\n",
      "[CV 2/5] END criterion=log_loss, max_depth=5, n_estimators=150;, score=0.857 total time=   0.3s\n",
      "[CV 3/5] END criterion=log_loss, max_depth=5, n_estimators=150;, score=0.824 total time=   0.3s\n",
      "[CV 4/5] END criterion=log_loss, max_depth=5, n_estimators=150;, score=0.756 total time=   0.3s\n",
      "[CV 5/5] END criterion=log_loss, max_depth=5, n_estimators=150;, score=0.840 total time=   0.3s\n",
      "[CV 1/5] END criterion=log_loss, max_depth=5, n_estimators=200;, score=0.808 total time=   0.3s\n",
      "[CV 2/5] END criterion=log_loss, max_depth=5, n_estimators=200;, score=0.866 total time=   0.3s\n",
      "[CV 3/5] END criterion=log_loss, max_depth=5, n_estimators=200;, score=0.824 total time=   0.3s\n",
      "[CV 4/5] END criterion=log_loss, max_depth=5, n_estimators=200;, score=0.756 total time=   0.3s\n",
      "[CV 5/5] END criterion=log_loss, max_depth=5, n_estimators=200;, score=0.857 total time=   0.3s\n",
      "[CV 1/5] END criterion=log_loss, max_depth=6, n_estimators=100;, score=0.817 total time=   0.2s\n",
      "[CV 2/5] END criterion=log_loss, max_depth=6, n_estimators=100;, score=0.840 total time=   0.2s\n",
      "[CV 3/5] END criterion=log_loss, max_depth=6, n_estimators=100;, score=0.798 total time=   0.2s\n",
      "[CV 4/5] END criterion=log_loss, max_depth=6, n_estimators=100;, score=0.756 total time=   0.2s\n",
      "[CV 5/5] END criterion=log_loss, max_depth=6, n_estimators=100;, score=0.840 total time=   0.2s\n",
      "[CV 1/5] END criterion=log_loss, max_depth=6, n_estimators=150;, score=0.808 total time=   0.3s\n",
      "[CV 2/5] END criterion=log_loss, max_depth=6, n_estimators=150;, score=0.857 total time=   0.3s\n",
      "[CV 3/5] END criterion=log_loss, max_depth=6, n_estimators=150;, score=0.798 total time=   0.3s\n",
      "[CV 4/5] END criterion=log_loss, max_depth=6, n_estimators=150;, score=0.773 total time=   0.3s\n",
      "[CV 5/5] END criterion=log_loss, max_depth=6, n_estimators=150;, score=0.849 total time=   0.3s\n",
      "[CV 1/5] END criterion=log_loss, max_depth=6, n_estimators=200;, score=0.800 total time=   0.3s\n",
      "[CV 2/5] END criterion=log_loss, max_depth=6, n_estimators=200;, score=0.857 total time=   0.3s\n",
      "[CV 3/5] END criterion=log_loss, max_depth=6, n_estimators=200;, score=0.815 total time=   0.3s\n",
      "[CV 4/5] END criterion=log_loss, max_depth=6, n_estimators=200;, score=0.756 total time=   0.3s\n",
      "[CV 5/5] END criterion=log_loss, max_depth=6, n_estimators=200;, score=0.857 total time=   0.3s\n",
      "[CV 1/5] END criterion=log_loss, max_depth=7, n_estimators=100;, score=0.825 total time=   0.2s\n",
      "[CV 2/5] END criterion=log_loss, max_depth=7, n_estimators=100;, score=0.840 total time=   0.2s\n",
      "[CV 3/5] END criterion=log_loss, max_depth=7, n_estimators=100;, score=0.815 total time=   0.2s\n",
      "[CV 4/5] END criterion=log_loss, max_depth=7, n_estimators=100;, score=0.748 total time=   0.2s\n",
      "[CV 5/5] END criterion=log_loss, max_depth=7, n_estimators=100;, score=0.857 total time=   0.2s\n",
      "[CV 1/5] END criterion=log_loss, max_depth=7, n_estimators=150;, score=0.817 total time=   0.3s\n",
      "[CV 2/5] END criterion=log_loss, max_depth=7, n_estimators=150;, score=0.832 total time=   0.3s\n",
      "[CV 3/5] END criterion=log_loss, max_depth=7, n_estimators=150;, score=0.790 total time=   0.3s\n",
      "[CV 4/5] END criterion=log_loss, max_depth=7, n_estimators=150;, score=0.773 total time=   0.3s\n",
      "[CV 5/5] END criterion=log_loss, max_depth=7, n_estimators=150;, score=0.857 total time=   0.3s\n",
      "[CV 1/5] END criterion=log_loss, max_depth=7, n_estimators=200;, score=0.817 total time=   0.4s\n",
      "[CV 2/5] END criterion=log_loss, max_depth=7, n_estimators=200;, score=0.840 total time=   0.3s\n",
      "[CV 3/5] END criterion=log_loss, max_depth=7, n_estimators=200;, score=0.815 total time=   0.3s\n",
      "[CV 4/5] END criterion=log_loss, max_depth=7, n_estimators=200;, score=0.782 total time=   0.3s\n",
      "[CV 5/5] END criterion=log_loss, max_depth=7, n_estimators=200;, score=0.857 total time=   0.3s\n",
      "[CV 1/5] END criterion=log_loss, max_depth=8, n_estimators=100;, score=0.808 total time=   0.2s\n",
      "[CV 2/5] END criterion=log_loss, max_depth=8, n_estimators=100;, score=0.840 total time=   0.2s\n",
      "[CV 3/5] END criterion=log_loss, max_depth=8, n_estimators=100;, score=0.782 total time=   0.2s\n",
      "[CV 4/5] END criterion=log_loss, max_depth=8, n_estimators=100;, score=0.773 total time=   0.2s\n",
      "[CV 5/5] END criterion=log_loss, max_depth=8, n_estimators=100;, score=0.832 total time=   0.2s\n",
      "[CV 1/5] END criterion=log_loss, max_depth=8, n_estimators=150;, score=0.817 total time=   0.3s\n",
      "[CV 2/5] END criterion=log_loss, max_depth=8, n_estimators=150;, score=0.824 total time=   0.3s\n",
      "[CV 3/5] END criterion=log_loss, max_depth=8, n_estimators=150;, score=0.824 total time=   0.3s\n",
      "[CV 4/5] END criterion=log_loss, max_depth=8, n_estimators=150;, score=0.790 total time=   0.3s\n",
      "[CV 5/5] END criterion=log_loss, max_depth=8, n_estimators=150;, score=0.866 total time=   0.3s\n",
      "[CV 1/5] END criterion=log_loss, max_depth=8, n_estimators=200;, score=0.808 total time=   0.3s\n",
      "[CV 2/5] END criterion=log_loss, max_depth=8, n_estimators=200;, score=0.840 total time=   0.4s\n",
      "[CV 3/5] END criterion=log_loss, max_depth=8, n_estimators=200;, score=0.807 total time=   0.4s\n",
      "[CV 4/5] END criterion=log_loss, max_depth=8, n_estimators=200;, score=0.765 total time=   0.3s\n",
      "[CV 5/5] END criterion=log_loss, max_depth=8, n_estimators=200;, score=0.840 total time=   0.4s\n"
     ]
    },
    {
     "data": {
      "text/html": [
       "<style>#sk-container-id-3 {color: black;background-color: white;}#sk-container-id-3 pre{padding: 0;}#sk-container-id-3 div.sk-toggleable {background-color: white;}#sk-container-id-3 label.sk-toggleable__label {cursor: pointer;display: block;width: 100%;margin-bottom: 0;padding: 0.3em;box-sizing: border-box;text-align: center;}#sk-container-id-3 label.sk-toggleable__label-arrow:before {content: \"▸\";float: left;margin-right: 0.25em;color: #696969;}#sk-container-id-3 label.sk-toggleable__label-arrow:hover:before {color: black;}#sk-container-id-3 div.sk-estimator:hover label.sk-toggleable__label-arrow:before {color: black;}#sk-container-id-3 div.sk-toggleable__content {max-height: 0;max-width: 0;overflow: hidden;text-align: left;background-color: #f0f8ff;}#sk-container-id-3 div.sk-toggleable__content pre {margin: 0.2em;color: black;border-radius: 0.25em;background-color: #f0f8ff;}#sk-container-id-3 input.sk-toggleable__control:checked~div.sk-toggleable__content {max-height: 200px;max-width: 100%;overflow: auto;}#sk-container-id-3 input.sk-toggleable__control:checked~label.sk-toggleable__label-arrow:before {content: \"▾\";}#sk-container-id-3 div.sk-estimator input.sk-toggleable__control:checked~label.sk-toggleable__label {background-color: #d4ebff;}#sk-container-id-3 div.sk-label input.sk-toggleable__control:checked~label.sk-toggleable__label {background-color: #d4ebff;}#sk-container-id-3 input.sk-hidden--visually {border: 0;clip: rect(1px 1px 1px 1px);clip: rect(1px, 1px, 1px, 1px);height: 1px;margin: -1px;overflow: hidden;padding: 0;position: absolute;width: 1px;}#sk-container-id-3 div.sk-estimator {font-family: monospace;background-color: #f0f8ff;border: 1px dotted black;border-radius: 0.25em;box-sizing: border-box;margin-bottom: 0.5em;}#sk-container-id-3 div.sk-estimator:hover {background-color: #d4ebff;}#sk-container-id-3 div.sk-parallel-item::after {content: \"\";width: 100%;border-bottom: 1px solid gray;flex-grow: 1;}#sk-container-id-3 div.sk-label:hover label.sk-toggleable__label {background-color: #d4ebff;}#sk-container-id-3 div.sk-serial::before {content: \"\";position: absolute;border-left: 1px solid gray;box-sizing: border-box;top: 0;bottom: 0;left: 50%;z-index: 0;}#sk-container-id-3 div.sk-serial {display: flex;flex-direction: column;align-items: center;background-color: white;padding-right: 0.2em;padding-left: 0.2em;position: relative;}#sk-container-id-3 div.sk-item {position: relative;z-index: 1;}#sk-container-id-3 div.sk-parallel {display: flex;align-items: stretch;justify-content: center;background-color: white;position: relative;}#sk-container-id-3 div.sk-item::before, #sk-container-id-3 div.sk-parallel-item::before {content: \"\";position: absolute;border-left: 1px solid gray;box-sizing: border-box;top: 0;bottom: 0;left: 50%;z-index: -1;}#sk-container-id-3 div.sk-parallel-item {display: flex;flex-direction: column;z-index: 1;position: relative;background-color: white;}#sk-container-id-3 div.sk-parallel-item:first-child::after {align-self: flex-end;width: 50%;}#sk-container-id-3 div.sk-parallel-item:last-child::after {align-self: flex-start;width: 50%;}#sk-container-id-3 div.sk-parallel-item:only-child::after {width: 0;}#sk-container-id-3 div.sk-dashed-wrapped {border: 1px dashed gray;margin: 0 0.4em 0.5em 0.4em;box-sizing: border-box;padding-bottom: 0.4em;background-color: white;}#sk-container-id-3 div.sk-label label {font-family: monospace;font-weight: bold;display: inline-block;line-height: 1.2em;}#sk-container-id-3 div.sk-label-container {text-align: center;}#sk-container-id-3 div.sk-container {/* jupyter's `normalize.less` sets `[hidden] { display: none; }` but bootstrap.min.css set `[hidden] { display: none !important; }` so we also need the `!important` here to be able to override the default hidden behavior on the sphinx rendered scikit-learn.org. See: https://github.com/scikit-learn/scikit-learn/issues/21755 */display: inline-block !important;position: relative;}#sk-container-id-3 div.sk-text-repr-fallback {display: none;}</style><div id=\"sk-container-id-3\" class=\"sk-top-container\"><div class=\"sk-text-repr-fallback\"><pre>GridSearchCV(cv=5, estimator=RandomForestClassifier(),\n",
       "             param_grid={&#x27;criterion&#x27;: [&#x27;gini&#x27;, &#x27;entropy&#x27;, &#x27;log_loss&#x27;],\n",
       "                         &#x27;max_depth&#x27;: [None, 3, 4, 5, 6, 7, 8],\n",
       "                         &#x27;n_estimators&#x27;: [100, 150, 200]},\n",
       "             scoring=&#x27;accuracy&#x27;, verbose=3)</pre><b>In a Jupyter environment, please rerun this cell to show the HTML representation or trust the notebook. <br />On GitHub, the HTML representation is unable to render, please try loading this page with nbviewer.org.</b></div><div class=\"sk-container\" hidden><div class=\"sk-item sk-dashed-wrapped\"><div class=\"sk-label-container\"><div class=\"sk-label sk-toggleable\"><input class=\"sk-toggleable__control sk-hidden--visually\" id=\"sk-estimator-id-3\" type=\"checkbox\" ><label for=\"sk-estimator-id-3\" class=\"sk-toggleable__label sk-toggleable__label-arrow\">GridSearchCV</label><div class=\"sk-toggleable__content\"><pre>GridSearchCV(cv=5, estimator=RandomForestClassifier(),\n",
       "             param_grid={&#x27;criterion&#x27;: [&#x27;gini&#x27;, &#x27;entropy&#x27;, &#x27;log_loss&#x27;],\n",
       "                         &#x27;max_depth&#x27;: [None, 3, 4, 5, 6, 7, 8],\n",
       "                         &#x27;n_estimators&#x27;: [100, 150, 200]},\n",
       "             scoring=&#x27;accuracy&#x27;, verbose=3)</pre></div></div></div><div class=\"sk-parallel\"><div class=\"sk-parallel-item\"><div class=\"sk-item\"><div class=\"sk-label-container\"><div class=\"sk-label sk-toggleable\"><input class=\"sk-toggleable__control sk-hidden--visually\" id=\"sk-estimator-id-4\" type=\"checkbox\" ><label for=\"sk-estimator-id-4\" class=\"sk-toggleable__label sk-toggleable__label-arrow\">estimator: RandomForestClassifier</label><div class=\"sk-toggleable__content\"><pre>RandomForestClassifier()</pre></div></div></div><div class=\"sk-serial\"><div class=\"sk-item\"><div class=\"sk-estimator sk-toggleable\"><input class=\"sk-toggleable__control sk-hidden--visually\" id=\"sk-estimator-id-5\" type=\"checkbox\" ><label for=\"sk-estimator-id-5\" class=\"sk-toggleable__label sk-toggleable__label-arrow\">RandomForestClassifier</label><div class=\"sk-toggleable__content\"><pre>RandomForestClassifier()</pre></div></div></div></div></div></div></div></div></div></div>"
      ],
      "text/plain": [
       "GridSearchCV(cv=5, estimator=RandomForestClassifier(),\n",
       "             param_grid={'criterion': ['gini', 'entropy', 'log_loss'],\n",
       "                         'max_depth': [None, 3, 4, 5, 6, 7, 8],\n",
       "                         'n_estimators': [100, 150, 200]},\n",
       "             scoring='accuracy', verbose=3)"
      ]
     },
     "execution_count": 66,
     "metadata": {},
     "output_type": "execute_result"
    }
   ],
   "source": [
    "gs.fit(train_data, y_train)"
   ]
  },
  {
   "cell_type": "code",
   "execution_count": 67,
   "id": "4134e0b7",
   "metadata": {
    "execution": {
     "iopub.execute_input": "2023-10-13T19:22:22.917796Z",
     "iopub.status.busy": "2023-10-13T19:22:22.916845Z",
     "iopub.status.idle": "2023-10-13T19:22:22.924006Z",
     "shell.execute_reply": "2023-10-13T19:22:22.922744Z"
    },
    "papermill": {
     "duration": 0.052817,
     "end_time": "2023-10-13T19:22:22.926200",
     "exception": false,
     "start_time": "2023-10-13T19:22:22.873383",
     "status": "completed"
    },
    "tags": []
   },
   "outputs": [
    {
     "data": {
      "text/plain": [
       "{'criterion': 'entropy', 'max_depth': 4, 'n_estimators': 100}"
      ]
     },
     "execution_count": 67,
     "metadata": {},
     "output_type": "execute_result"
    }
   ],
   "source": [
    "gs.best_params_"
   ]
  },
  {
   "cell_type": "code",
   "execution_count": 68,
   "id": "9b3adef8",
   "metadata": {
    "execution": {
     "iopub.execute_input": "2023-10-13T19:22:23.013409Z",
     "iopub.status.busy": "2023-10-13T19:22:23.013034Z",
     "iopub.status.idle": "2023-10-13T19:22:23.020501Z",
     "shell.execute_reply": "2023-10-13T19:22:23.019314Z"
    },
    "papermill": {
     "duration": 0.052732,
     "end_time": "2023-10-13T19:22:23.022575",
     "exception": false,
     "start_time": "2023-10-13T19:22:22.969843",
     "status": "completed"
    },
    "tags": []
   },
   "outputs": [
    {
     "data": {
      "text/html": [
       "<style>#sk-container-id-4 {color: black;background-color: white;}#sk-container-id-4 pre{padding: 0;}#sk-container-id-4 div.sk-toggleable {background-color: white;}#sk-container-id-4 label.sk-toggleable__label {cursor: pointer;display: block;width: 100%;margin-bottom: 0;padding: 0.3em;box-sizing: border-box;text-align: center;}#sk-container-id-4 label.sk-toggleable__label-arrow:before {content: \"▸\";float: left;margin-right: 0.25em;color: #696969;}#sk-container-id-4 label.sk-toggleable__label-arrow:hover:before {color: black;}#sk-container-id-4 div.sk-estimator:hover label.sk-toggleable__label-arrow:before {color: black;}#sk-container-id-4 div.sk-toggleable__content {max-height: 0;max-width: 0;overflow: hidden;text-align: left;background-color: #f0f8ff;}#sk-container-id-4 div.sk-toggleable__content pre {margin: 0.2em;color: black;border-radius: 0.25em;background-color: #f0f8ff;}#sk-container-id-4 input.sk-toggleable__control:checked~div.sk-toggleable__content {max-height: 200px;max-width: 100%;overflow: auto;}#sk-container-id-4 input.sk-toggleable__control:checked~label.sk-toggleable__label-arrow:before {content: \"▾\";}#sk-container-id-4 div.sk-estimator input.sk-toggleable__control:checked~label.sk-toggleable__label {background-color: #d4ebff;}#sk-container-id-4 div.sk-label input.sk-toggleable__control:checked~label.sk-toggleable__label {background-color: #d4ebff;}#sk-container-id-4 input.sk-hidden--visually {border: 0;clip: rect(1px 1px 1px 1px);clip: rect(1px, 1px, 1px, 1px);height: 1px;margin: -1px;overflow: hidden;padding: 0;position: absolute;width: 1px;}#sk-container-id-4 div.sk-estimator {font-family: monospace;background-color: #f0f8ff;border: 1px dotted black;border-radius: 0.25em;box-sizing: border-box;margin-bottom: 0.5em;}#sk-container-id-4 div.sk-estimator:hover {background-color: #d4ebff;}#sk-container-id-4 div.sk-parallel-item::after {content: \"\";width: 100%;border-bottom: 1px solid gray;flex-grow: 1;}#sk-container-id-4 div.sk-label:hover label.sk-toggleable__label {background-color: #d4ebff;}#sk-container-id-4 div.sk-serial::before {content: \"\";position: absolute;border-left: 1px solid gray;box-sizing: border-box;top: 0;bottom: 0;left: 50%;z-index: 0;}#sk-container-id-4 div.sk-serial {display: flex;flex-direction: column;align-items: center;background-color: white;padding-right: 0.2em;padding-left: 0.2em;position: relative;}#sk-container-id-4 div.sk-item {position: relative;z-index: 1;}#sk-container-id-4 div.sk-parallel {display: flex;align-items: stretch;justify-content: center;background-color: white;position: relative;}#sk-container-id-4 div.sk-item::before, #sk-container-id-4 div.sk-parallel-item::before {content: \"\";position: absolute;border-left: 1px solid gray;box-sizing: border-box;top: 0;bottom: 0;left: 50%;z-index: -1;}#sk-container-id-4 div.sk-parallel-item {display: flex;flex-direction: column;z-index: 1;position: relative;background-color: white;}#sk-container-id-4 div.sk-parallel-item:first-child::after {align-self: flex-end;width: 50%;}#sk-container-id-4 div.sk-parallel-item:last-child::after {align-self: flex-start;width: 50%;}#sk-container-id-4 div.sk-parallel-item:only-child::after {width: 0;}#sk-container-id-4 div.sk-dashed-wrapped {border: 1px dashed gray;margin: 0 0.4em 0.5em 0.4em;box-sizing: border-box;padding-bottom: 0.4em;background-color: white;}#sk-container-id-4 div.sk-label label {font-family: monospace;font-weight: bold;display: inline-block;line-height: 1.2em;}#sk-container-id-4 div.sk-label-container {text-align: center;}#sk-container-id-4 div.sk-container {/* jupyter's `normalize.less` sets `[hidden] { display: none; }` but bootstrap.min.css set `[hidden] { display: none !important; }` so we also need the `!important` here to be able to override the default hidden behavior on the sphinx rendered scikit-learn.org. See: https://github.com/scikit-learn/scikit-learn/issues/21755 */display: inline-block !important;position: relative;}#sk-container-id-4 div.sk-text-repr-fallback {display: none;}</style><div id=\"sk-container-id-4\" class=\"sk-top-container\"><div class=\"sk-text-repr-fallback\"><pre>RandomForestClassifier(criterion=&#x27;entropy&#x27;, max_depth=4)</pre><b>In a Jupyter environment, please rerun this cell to show the HTML representation or trust the notebook. <br />On GitHub, the HTML representation is unable to render, please try loading this page with nbviewer.org.</b></div><div class=\"sk-container\" hidden><div class=\"sk-item\"><div class=\"sk-estimator sk-toggleable\"><input class=\"sk-toggleable__control sk-hidden--visually\" id=\"sk-estimator-id-6\" type=\"checkbox\" checked><label for=\"sk-estimator-id-6\" class=\"sk-toggleable__label sk-toggleable__label-arrow\">RandomForestClassifier</label><div class=\"sk-toggleable__content\"><pre>RandomForestClassifier(criterion=&#x27;entropy&#x27;, max_depth=4)</pre></div></div></div></div></div>"
      ],
      "text/plain": [
       "RandomForestClassifier(criterion='entropy', max_depth=4)"
      ]
     },
     "execution_count": 68,
     "metadata": {},
     "output_type": "execute_result"
    }
   ],
   "source": [
    "gs.best_estimator_"
   ]
  },
  {
   "cell_type": "code",
   "execution_count": 69,
   "id": "debba068",
   "metadata": {
    "execution": {
     "iopub.execute_input": "2023-10-13T19:22:23.108886Z",
     "iopub.status.busy": "2023-10-13T19:22:23.108506Z",
     "iopub.status.idle": "2023-10-13T19:22:23.113430Z",
     "shell.execute_reply": "2023-10-13T19:22:23.112227Z"
    },
    "papermill": {
     "duration": 0.050256,
     "end_time": "2023-10-13T19:22:23.115616",
     "exception": false,
     "start_time": "2023-10-13T19:22:23.065360",
     "status": "completed"
    },
    "tags": []
   },
   "outputs": [],
   "source": [
    "best_model_rfc = gs.best_estimator_"
   ]
  },
  {
   "cell_type": "code",
   "execution_count": 70,
   "id": "260b9e09",
   "metadata": {
    "execution": {
     "iopub.execute_input": "2023-10-13T19:22:23.202255Z",
     "iopub.status.busy": "2023-10-13T19:22:23.201284Z",
     "iopub.status.idle": "2023-10-13T19:22:23.217091Z",
     "shell.execute_reply": "2023-10-13T19:22:23.215880Z"
    },
    "papermill": {
     "duration": 0.061158,
     "end_time": "2023-10-13T19:22:23.219114",
     "exception": false,
     "start_time": "2023-10-13T19:22:23.157956",
     "status": "completed"
    },
    "tags": []
   },
   "outputs": [
    {
     "name": "stdout",
     "output_type": "stream",
     "text": [
      ">> Tuned Random Forest Classifier - Accuracy: 82.37 \n",
      "\n"
     ]
    }
   ],
   "source": [
    "print(f'>> Tuned Random Forest Classifier - Accuracy: {round(best_model_rfc.score(test_data, y_test)*100, 2)} \\n')"
   ]
  },
  {
   "cell_type": "markdown",
   "id": "96c74406",
   "metadata": {
    "papermill": {
     "duration": 0.042415,
     "end_time": "2023-10-13T19:22:23.304361",
     "exception": false,
     "start_time": "2023-10-13T19:22:23.261946",
     "status": "completed"
    },
    "tags": []
   },
   "source": [
    "##### XGBoost Hyperparamater Tuning"
   ]
  },
  {
   "cell_type": "code",
   "execution_count": 71,
   "id": "3cb1ddf2",
   "metadata": {
    "execution": {
     "iopub.execute_input": "2023-10-13T19:22:23.392603Z",
     "iopub.status.busy": "2023-10-13T19:22:23.391868Z",
     "iopub.status.idle": "2023-10-13T19:22:23.396108Z",
     "shell.execute_reply": "2023-10-13T19:22:23.395391Z"
    },
    "papermill": {
     "duration": 0.049996,
     "end_time": "2023-10-13T19:22:23.397960",
     "exception": false,
     "start_time": "2023-10-13T19:22:23.347964",
     "status": "completed"
    },
    "tags": []
   },
   "outputs": [],
   "source": [
    "param_grid = {\n",
    "    'max_depth': [3, 4, 5],\n",
    "    'n_estimators': [50, 100, 200],\n",
    "    'learning_rate': [0.01, 0.1, 0.2],\n",
    "}"
   ]
  },
  {
   "cell_type": "code",
   "execution_count": 72,
   "id": "9896117f",
   "metadata": {
    "execution": {
     "iopub.execute_input": "2023-10-13T19:22:23.487037Z",
     "iopub.status.busy": "2023-10-13T19:22:23.486026Z",
     "iopub.status.idle": "2023-10-13T19:22:23.490492Z",
     "shell.execute_reply": "2023-10-13T19:22:23.489659Z"
    },
    "papermill": {
     "duration": 0.051201,
     "end_time": "2023-10-13T19:22:23.492405",
     "exception": false,
     "start_time": "2023-10-13T19:22:23.441204",
     "status": "completed"
    },
    "tags": []
   },
   "outputs": [],
   "source": [
    "classifier = XGBClassifier()"
   ]
  },
  {
   "cell_type": "code",
   "execution_count": 73,
   "id": "1256369a",
   "metadata": {
    "execution": {
     "iopub.execute_input": "2023-10-13T19:22:23.581602Z",
     "iopub.status.busy": "2023-10-13T19:22:23.580839Z",
     "iopub.status.idle": "2023-10-13T19:22:23.585286Z",
     "shell.execute_reply": "2023-10-13T19:22:23.584519Z"
    },
    "papermill": {
     "duration": 0.051419,
     "end_time": "2023-10-13T19:22:23.587101",
     "exception": false,
     "start_time": "2023-10-13T19:22:23.535682",
     "status": "completed"
    },
    "tags": []
   },
   "outputs": [],
   "source": [
    "gs = GridSearchCV(estimator=classifier, param_grid=param_grid, cv=5, scoring='accuracy', verbose=3)"
   ]
  },
  {
   "cell_type": "code",
   "execution_count": 74,
   "id": "b663ee3a",
   "metadata": {
    "execution": {
     "iopub.execute_input": "2023-10-13T19:22:23.676249Z",
     "iopub.status.busy": "2023-10-13T19:22:23.675605Z",
     "iopub.status.idle": "2023-10-13T19:22:33.120424Z",
     "shell.execute_reply": "2023-10-13T19:22:33.119383Z"
    },
    "papermill": {
     "duration": 9.491294,
     "end_time": "2023-10-13T19:22:33.122345",
     "exception": false,
     "start_time": "2023-10-13T19:22:23.631051",
     "status": "completed"
    },
    "tags": []
   },
   "outputs": [
    {
     "name": "stdout",
     "output_type": "stream",
     "text": [
      "Fitting 5 folds for each of 27 candidates, totalling 135 fits\n",
      "[CV 1/5] END learning_rate=0.01, max_depth=3, n_estimators=50;, score=0.758 total time=   0.0s\n",
      "[CV 2/5] END learning_rate=0.01, max_depth=3, n_estimators=50;, score=0.891 total time=   0.0s\n",
      "[CV 3/5] END learning_rate=0.01, max_depth=3, n_estimators=50;, score=0.782 total time=   0.0s\n",
      "[CV 4/5] END learning_rate=0.01, max_depth=3, n_estimators=50;, score=0.748 total time=   0.0s\n",
      "[CV 5/5] END learning_rate=0.01, max_depth=3, n_estimators=50;, score=0.807 total time=   0.0s\n",
      "[CV 1/5] END learning_rate=0.01, max_depth=3, n_estimators=100;, score=0.758 total time=   0.0s\n",
      "[CV 2/5] END learning_rate=0.01, max_depth=3, n_estimators=100;, score=0.891 total time=   0.0s\n",
      "[CV 3/5] END learning_rate=0.01, max_depth=3, n_estimators=100;, score=0.782 total time=   0.0s\n",
      "[CV 4/5] END learning_rate=0.01, max_depth=3, n_estimators=100;, score=0.748 total time=   0.0s\n",
      "[CV 5/5] END learning_rate=0.01, max_depth=3, n_estimators=100;, score=0.807 total time=   0.0s\n",
      "[CV 1/5] END learning_rate=0.01, max_depth=3, n_estimators=200;, score=0.792 total time=   0.1s\n",
      "[CV 2/5] END learning_rate=0.01, max_depth=3, n_estimators=200;, score=0.882 total time=   0.1s\n",
      "[CV 3/5] END learning_rate=0.01, max_depth=3, n_estimators=200;, score=0.782 total time=   0.1s\n",
      "[CV 4/5] END learning_rate=0.01, max_depth=3, n_estimators=200;, score=0.765 total time=   0.1s\n",
      "[CV 5/5] END learning_rate=0.01, max_depth=3, n_estimators=200;, score=0.807 total time=   0.1s\n",
      "[CV 1/5] END learning_rate=0.01, max_depth=4, n_estimators=50;, score=0.792 total time=   0.0s\n",
      "[CV 2/5] END learning_rate=0.01, max_depth=4, n_estimators=50;, score=0.866 total time=   0.0s\n",
      "[CV 3/5] END learning_rate=0.01, max_depth=4, n_estimators=50;, score=0.807 total time=   0.0s\n",
      "[CV 4/5] END learning_rate=0.01, max_depth=4, n_estimators=50;, score=0.748 total time=   0.0s\n",
      "[CV 5/5] END learning_rate=0.01, max_depth=4, n_estimators=50;, score=0.807 total time=   0.0s\n",
      "[CV 1/5] END learning_rate=0.01, max_depth=4, n_estimators=100;, score=0.792 total time=   0.1s\n",
      "[CV 2/5] END learning_rate=0.01, max_depth=4, n_estimators=100;, score=0.857 total time=   0.1s\n",
      "[CV 3/5] END learning_rate=0.01, max_depth=4, n_estimators=100;, score=0.782 total time=   0.1s\n",
      "[CV 4/5] END learning_rate=0.01, max_depth=4, n_estimators=100;, score=0.765 total time=   0.1s\n",
      "[CV 5/5] END learning_rate=0.01, max_depth=4, n_estimators=100;, score=0.832 total time=   0.1s\n",
      "[CV 1/5] END learning_rate=0.01, max_depth=4, n_estimators=200;, score=0.792 total time=   0.1s\n",
      "[CV 2/5] END learning_rate=0.01, max_depth=4, n_estimators=200;, score=0.866 total time=   0.1s\n",
      "[CV 3/5] END learning_rate=0.01, max_depth=4, n_estimators=200;, score=0.782 total time=   0.1s\n",
      "[CV 4/5] END learning_rate=0.01, max_depth=4, n_estimators=200;, score=0.765 total time=   0.1s\n",
      "[CV 5/5] END learning_rate=0.01, max_depth=4, n_estimators=200;, score=0.832 total time=   0.1s\n",
      "[CV 1/5] END learning_rate=0.01, max_depth=5, n_estimators=50;, score=0.783 total time=   0.0s\n",
      "[CV 2/5] END learning_rate=0.01, max_depth=5, n_estimators=50;, score=0.840 total time=   0.0s\n",
      "[CV 3/5] END learning_rate=0.01, max_depth=5, n_estimators=50;, score=0.790 total time=   0.0s\n",
      "[CV 4/5] END learning_rate=0.01, max_depth=5, n_estimators=50;, score=0.765 total time=   0.0s\n",
      "[CV 5/5] END learning_rate=0.01, max_depth=5, n_estimators=50;, score=0.832 total time=   0.0s\n",
      "[CV 1/5] END learning_rate=0.01, max_depth=5, n_estimators=100;, score=0.792 total time=   0.1s\n",
      "[CV 2/5] END learning_rate=0.01, max_depth=5, n_estimators=100;, score=0.840 total time=   0.1s\n",
      "[CV 3/5] END learning_rate=0.01, max_depth=5, n_estimators=100;, score=0.807 total time=   0.1s\n",
      "[CV 4/5] END learning_rate=0.01, max_depth=5, n_estimators=100;, score=0.765 total time=   0.1s\n",
      "[CV 5/5] END learning_rate=0.01, max_depth=5, n_estimators=100;, score=0.832 total time=   0.1s\n",
      "[CV 1/5] END learning_rate=0.01, max_depth=5, n_estimators=200;, score=0.792 total time=   0.1s\n",
      "[CV 2/5] END learning_rate=0.01, max_depth=5, n_estimators=200;, score=0.832 total time=   0.1s\n",
      "[CV 3/5] END learning_rate=0.01, max_depth=5, n_estimators=200;, score=0.790 total time=   0.1s\n",
      "[CV 4/5] END learning_rate=0.01, max_depth=5, n_estimators=200;, score=0.782 total time=   0.1s\n",
      "[CV 5/5] END learning_rate=0.01, max_depth=5, n_estimators=200;, score=0.832 total time=   0.1s\n",
      "[CV 1/5] END learning_rate=0.1, max_depth=3, n_estimators=50;, score=0.783 total time=   0.0s\n",
      "[CV 2/5] END learning_rate=0.1, max_depth=3, n_estimators=50;, score=0.849 total time=   0.0s\n",
      "[CV 3/5] END learning_rate=0.1, max_depth=3, n_estimators=50;, score=0.782 total time=   0.0s\n",
      "[CV 4/5] END learning_rate=0.1, max_depth=3, n_estimators=50;, score=0.782 total time=   0.0s\n",
      "[CV 5/5] END learning_rate=0.1, max_depth=3, n_estimators=50;, score=0.840 total time=   0.0s\n",
      "[CV 1/5] END learning_rate=0.1, max_depth=3, n_estimators=100;, score=0.775 total time=   0.0s\n",
      "[CV 2/5] END learning_rate=0.1, max_depth=3, n_estimators=100;, score=0.832 total time=   0.0s\n",
      "[CV 3/5] END learning_rate=0.1, max_depth=3, n_estimators=100;, score=0.807 total time=   0.0s\n",
      "[CV 4/5] END learning_rate=0.1, max_depth=3, n_estimators=100;, score=0.790 total time=   0.0s\n",
      "[CV 5/5] END learning_rate=0.1, max_depth=3, n_estimators=100;, score=0.832 total time=   0.0s\n",
      "[CV 1/5] END learning_rate=0.1, max_depth=3, n_estimators=200;, score=0.792 total time=   0.1s\n",
      "[CV 2/5] END learning_rate=0.1, max_depth=3, n_estimators=200;, score=0.840 total time=   0.1s\n",
      "[CV 3/5] END learning_rate=0.1, max_depth=3, n_estimators=200;, score=0.798 total time=   0.1s\n",
      "[CV 4/5] END learning_rate=0.1, max_depth=3, n_estimators=200;, score=0.798 total time=   0.1s\n",
      "[CV 5/5] END learning_rate=0.1, max_depth=3, n_estimators=200;, score=0.832 total time=   0.1s\n",
      "[CV 1/5] END learning_rate=0.1, max_depth=4, n_estimators=50;, score=0.783 total time=   0.0s\n",
      "[CV 2/5] END learning_rate=0.1, max_depth=4, n_estimators=50;, score=0.840 total time=   0.0s\n",
      "[CV 3/5] END learning_rate=0.1, max_depth=4, n_estimators=50;, score=0.782 total time=   0.0s\n",
      "[CV 4/5] END learning_rate=0.1, max_depth=4, n_estimators=50;, score=0.807 total time=   0.0s\n",
      "[CV 5/5] END learning_rate=0.1, max_depth=4, n_estimators=50;, score=0.849 total time=   0.0s\n",
      "[CV 1/5] END learning_rate=0.1, max_depth=4, n_estimators=100;, score=0.792 total time=   0.1s\n",
      "[CV 2/5] END learning_rate=0.1, max_depth=4, n_estimators=100;, score=0.832 total time=   0.1s\n",
      "[CV 3/5] END learning_rate=0.1, max_depth=4, n_estimators=100;, score=0.782 total time=   0.1s\n",
      "[CV 4/5] END learning_rate=0.1, max_depth=4, n_estimators=100;, score=0.815 total time=   0.1s\n",
      "[CV 5/5] END learning_rate=0.1, max_depth=4, n_estimators=100;, score=0.840 total time=   0.1s\n",
      "[CV 1/5] END learning_rate=0.1, max_depth=4, n_estimators=200;, score=0.792 total time=   0.1s\n",
      "[CV 2/5] END learning_rate=0.1, max_depth=4, n_estimators=200;, score=0.849 total time=   0.5s\n",
      "[CV 3/5] END learning_rate=0.1, max_depth=4, n_estimators=200;, score=0.782 total time=   0.8s\n",
      "[CV 4/5] END learning_rate=0.1, max_depth=4, n_estimators=200;, score=0.824 total time=   0.1s\n",
      "[CV 5/5] END learning_rate=0.1, max_depth=4, n_estimators=200;, score=0.840 total time=   0.1s\n",
      "[CV 1/5] END learning_rate=0.1, max_depth=5, n_estimators=50;, score=0.792 total time=   0.0s\n",
      "[CV 2/5] END learning_rate=0.1, max_depth=5, n_estimators=50;, score=0.840 total time=   0.0s\n",
      "[CV 3/5] END learning_rate=0.1, max_depth=5, n_estimators=50;, score=0.790 total time=   0.0s\n",
      "[CV 4/5] END learning_rate=0.1, max_depth=5, n_estimators=50;, score=0.815 total time=   0.0s\n",
      "[CV 5/5] END learning_rate=0.1, max_depth=5, n_estimators=50;, score=0.849 total time=   0.0s\n",
      "[CV 1/5] END learning_rate=0.1, max_depth=5, n_estimators=100;, score=0.792 total time=   0.1s\n",
      "[CV 2/5] END learning_rate=0.1, max_depth=5, n_estimators=100;, score=0.824 total time=   0.1s\n",
      "[CV 3/5] END learning_rate=0.1, max_depth=5, n_estimators=100;, score=0.790 total time=   0.1s\n",
      "[CV 4/5] END learning_rate=0.1, max_depth=5, n_estimators=100;, score=0.832 total time=   0.1s\n",
      "[CV 5/5] END learning_rate=0.1, max_depth=5, n_estimators=100;, score=0.815 total time=   0.1s\n",
      "[CV 1/5] END learning_rate=0.1, max_depth=5, n_estimators=200;, score=0.800 total time=   0.1s\n",
      "[CV 2/5] END learning_rate=0.1, max_depth=5, n_estimators=200;, score=0.815 total time=   0.1s\n",
      "[CV 3/5] END learning_rate=0.1, max_depth=5, n_estimators=200;, score=0.765 total time=   0.1s\n",
      "[CV 4/5] END learning_rate=0.1, max_depth=5, n_estimators=200;, score=0.782 total time=   0.1s\n",
      "[CV 5/5] END learning_rate=0.1, max_depth=5, n_estimators=200;, score=0.807 total time=   0.1s\n",
      "[CV 1/5] END learning_rate=0.2, max_depth=3, n_estimators=50;, score=0.767 total time=   0.0s\n",
      "[CV 2/5] END learning_rate=0.2, max_depth=3, n_estimators=50;, score=0.840 total time=   0.0s\n",
      "[CV 3/5] END learning_rate=0.2, max_depth=3, n_estimators=50;, score=0.782 total time=   0.0s\n",
      "[CV 4/5] END learning_rate=0.2, max_depth=3, n_estimators=50;, score=0.790 total time=   0.0s\n",
      "[CV 5/5] END learning_rate=0.2, max_depth=3, n_estimators=50;, score=0.832 total time=   0.0s\n",
      "[CV 1/5] END learning_rate=0.2, max_depth=3, n_estimators=100;, score=0.800 total time=   0.0s\n",
      "[CV 2/5] END learning_rate=0.2, max_depth=3, n_estimators=100;, score=0.857 total time=   0.0s\n",
      "[CV 3/5] END learning_rate=0.2, max_depth=3, n_estimators=100;, score=0.798 total time=   0.0s\n",
      "[CV 4/5] END learning_rate=0.2, max_depth=3, n_estimators=100;, score=0.807 total time=   0.0s\n",
      "[CV 5/5] END learning_rate=0.2, max_depth=3, n_estimators=100;, score=0.832 total time=   0.0s\n",
      "[CV 1/5] END learning_rate=0.2, max_depth=3, n_estimators=200;, score=0.783 total time=   0.1s\n",
      "[CV 2/5] END learning_rate=0.2, max_depth=3, n_estimators=200;, score=0.849 total time=   0.1s\n",
      "[CV 3/5] END learning_rate=0.2, max_depth=3, n_estimators=200;, score=0.765 total time=   0.1s\n",
      "[CV 4/5] END learning_rate=0.2, max_depth=3, n_estimators=200;, score=0.807 total time=   0.1s\n",
      "[CV 5/5] END learning_rate=0.2, max_depth=3, n_estimators=200;, score=0.815 total time=   0.1s\n",
      "[CV 1/5] END learning_rate=0.2, max_depth=4, n_estimators=50;, score=0.808 total time=   0.0s\n",
      "[CV 2/5] END learning_rate=0.2, max_depth=4, n_estimators=50;, score=0.832 total time=   0.0s\n",
      "[CV 3/5] END learning_rate=0.2, max_depth=4, n_estimators=50;, score=0.782 total time=   0.0s\n",
      "[CV 4/5] END learning_rate=0.2, max_depth=4, n_estimators=50;, score=0.807 total time=   0.0s\n",
      "[CV 5/5] END learning_rate=0.2, max_depth=4, n_estimators=50;, score=0.832 total time=   0.0s\n",
      "[CV 1/5] END learning_rate=0.2, max_depth=4, n_estimators=100;, score=0.783 total time=   0.0s\n",
      "[CV 2/5] END learning_rate=0.2, max_depth=4, n_estimators=100;, score=0.815 total time=   0.1s\n",
      "[CV 3/5] END learning_rate=0.2, max_depth=4, n_estimators=100;, score=0.773 total time=   0.1s\n",
      "[CV 4/5] END learning_rate=0.2, max_depth=4, n_estimators=100;, score=0.790 total time=   0.1s\n",
      "[CV 5/5] END learning_rate=0.2, max_depth=4, n_estimators=100;, score=0.832 total time=   0.1s\n",
      "[CV 1/5] END learning_rate=0.2, max_depth=4, n_estimators=200;, score=0.783 total time=   0.1s\n",
      "[CV 2/5] END learning_rate=0.2, max_depth=4, n_estimators=200;, score=0.807 total time=   0.1s\n",
      "[CV 3/5] END learning_rate=0.2, max_depth=4, n_estimators=200;, score=0.773 total time=   0.1s\n",
      "[CV 4/5] END learning_rate=0.2, max_depth=4, n_estimators=200;, score=0.773 total time=   0.1s\n",
      "[CV 5/5] END learning_rate=0.2, max_depth=4, n_estimators=200;, score=0.790 total time=   0.1s\n",
      "[CV 1/5] END learning_rate=0.2, max_depth=5, n_estimators=50;, score=0.792 total time=   0.0s\n",
      "[CV 2/5] END learning_rate=0.2, max_depth=5, n_estimators=50;, score=0.824 total time=   0.0s\n",
      "[CV 3/5] END learning_rate=0.2, max_depth=5, n_estimators=50;, score=0.790 total time=   0.0s\n",
      "[CV 4/5] END learning_rate=0.2, max_depth=5, n_estimators=50;, score=0.815 total time=   0.0s\n",
      "[CV 5/5] END learning_rate=0.2, max_depth=5, n_estimators=50;, score=0.824 total time=   0.0s\n",
      "[CV 1/5] END learning_rate=0.2, max_depth=5, n_estimators=100;, score=0.800 total time=   0.1s\n",
      "[CV 2/5] END learning_rate=0.2, max_depth=5, n_estimators=100;, score=0.798 total time=   0.1s\n",
      "[CV 3/5] END learning_rate=0.2, max_depth=5, n_estimators=100;, score=0.756 total time=   0.1s\n",
      "[CV 4/5] END learning_rate=0.2, max_depth=5, n_estimators=100;, score=0.798 total time=   0.1s\n",
      "[CV 5/5] END learning_rate=0.2, max_depth=5, n_estimators=100;, score=0.824 total time=   0.1s\n",
      "[CV 1/5] END learning_rate=0.2, max_depth=5, n_estimators=200;, score=0.825 total time=   0.1s\n",
      "[CV 2/5] END learning_rate=0.2, max_depth=5, n_estimators=200;, score=0.807 total time=   0.1s\n",
      "[CV 3/5] END learning_rate=0.2, max_depth=5, n_estimators=200;, score=0.748 total time=   0.1s\n",
      "[CV 4/5] END learning_rate=0.2, max_depth=5, n_estimators=200;, score=0.773 total time=   0.1s\n",
      "[CV 5/5] END learning_rate=0.2, max_depth=5, n_estimators=200;, score=0.798 total time=   0.1s\n"
     ]
    },
    {
     "data": {
      "text/html": [
       "<style>#sk-container-id-5 {color: black;background-color: white;}#sk-container-id-5 pre{padding: 0;}#sk-container-id-5 div.sk-toggleable {background-color: white;}#sk-container-id-5 label.sk-toggleable__label {cursor: pointer;display: block;width: 100%;margin-bottom: 0;padding: 0.3em;box-sizing: border-box;text-align: center;}#sk-container-id-5 label.sk-toggleable__label-arrow:before {content: \"▸\";float: left;margin-right: 0.25em;color: #696969;}#sk-container-id-5 label.sk-toggleable__label-arrow:hover:before {color: black;}#sk-container-id-5 div.sk-estimator:hover label.sk-toggleable__label-arrow:before {color: black;}#sk-container-id-5 div.sk-toggleable__content {max-height: 0;max-width: 0;overflow: hidden;text-align: left;background-color: #f0f8ff;}#sk-container-id-5 div.sk-toggleable__content pre {margin: 0.2em;color: black;border-radius: 0.25em;background-color: #f0f8ff;}#sk-container-id-5 input.sk-toggleable__control:checked~div.sk-toggleable__content {max-height: 200px;max-width: 100%;overflow: auto;}#sk-container-id-5 input.sk-toggleable__control:checked~label.sk-toggleable__label-arrow:before {content: \"▾\";}#sk-container-id-5 div.sk-estimator input.sk-toggleable__control:checked~label.sk-toggleable__label {background-color: #d4ebff;}#sk-container-id-5 div.sk-label input.sk-toggleable__control:checked~label.sk-toggleable__label {background-color: #d4ebff;}#sk-container-id-5 input.sk-hidden--visually {border: 0;clip: rect(1px 1px 1px 1px);clip: rect(1px, 1px, 1px, 1px);height: 1px;margin: -1px;overflow: hidden;padding: 0;position: absolute;width: 1px;}#sk-container-id-5 div.sk-estimator {font-family: monospace;background-color: #f0f8ff;border: 1px dotted black;border-radius: 0.25em;box-sizing: border-box;margin-bottom: 0.5em;}#sk-container-id-5 div.sk-estimator:hover {background-color: #d4ebff;}#sk-container-id-5 div.sk-parallel-item::after {content: \"\";width: 100%;border-bottom: 1px solid gray;flex-grow: 1;}#sk-container-id-5 div.sk-label:hover label.sk-toggleable__label {background-color: #d4ebff;}#sk-container-id-5 div.sk-serial::before {content: \"\";position: absolute;border-left: 1px solid gray;box-sizing: border-box;top: 0;bottom: 0;left: 50%;z-index: 0;}#sk-container-id-5 div.sk-serial {display: flex;flex-direction: column;align-items: center;background-color: white;padding-right: 0.2em;padding-left: 0.2em;position: relative;}#sk-container-id-5 div.sk-item {position: relative;z-index: 1;}#sk-container-id-5 div.sk-parallel {display: flex;align-items: stretch;justify-content: center;background-color: white;position: relative;}#sk-container-id-5 div.sk-item::before, #sk-container-id-5 div.sk-parallel-item::before {content: \"\";position: absolute;border-left: 1px solid gray;box-sizing: border-box;top: 0;bottom: 0;left: 50%;z-index: -1;}#sk-container-id-5 div.sk-parallel-item {display: flex;flex-direction: column;z-index: 1;position: relative;background-color: white;}#sk-container-id-5 div.sk-parallel-item:first-child::after {align-self: flex-end;width: 50%;}#sk-container-id-5 div.sk-parallel-item:last-child::after {align-self: flex-start;width: 50%;}#sk-container-id-5 div.sk-parallel-item:only-child::after {width: 0;}#sk-container-id-5 div.sk-dashed-wrapped {border: 1px dashed gray;margin: 0 0.4em 0.5em 0.4em;box-sizing: border-box;padding-bottom: 0.4em;background-color: white;}#sk-container-id-5 div.sk-label label {font-family: monospace;font-weight: bold;display: inline-block;line-height: 1.2em;}#sk-container-id-5 div.sk-label-container {text-align: center;}#sk-container-id-5 div.sk-container {/* jupyter's `normalize.less` sets `[hidden] { display: none; }` but bootstrap.min.css set `[hidden] { display: none !important; }` so we also need the `!important` here to be able to override the default hidden behavior on the sphinx rendered scikit-learn.org. See: https://github.com/scikit-learn/scikit-learn/issues/21755 */display: inline-block !important;position: relative;}#sk-container-id-5 div.sk-text-repr-fallback {display: none;}</style><div id=\"sk-container-id-5\" class=\"sk-top-container\"><div class=\"sk-text-repr-fallback\"><pre>GridSearchCV(cv=5,\n",
       "             estimator=XGBClassifier(base_score=None, booster=None,\n",
       "                                     callbacks=None, colsample_bylevel=None,\n",
       "                                     colsample_bynode=None,\n",
       "                                     colsample_bytree=None,\n",
       "                                     early_stopping_rounds=None,\n",
       "                                     enable_categorical=False, eval_metric=None,\n",
       "                                     feature_types=None, gamma=None,\n",
       "                                     gpu_id=None, grow_policy=None,\n",
       "                                     importance_type=None,\n",
       "                                     interaction_constraints=None,\n",
       "                                     learning_rate=None,...\n",
       "                                     max_cat_threshold=None,\n",
       "                                     max_cat_to_onehot=None,\n",
       "                                     max_delta_step=None, max_depth=None,\n",
       "                                     max_leaves=None, min_child_weight=None,\n",
       "                                     missing=nan, monotone_constraints=None,\n",
       "                                     n_estimators=100, n_jobs=None,\n",
       "                                     num_parallel_tree=None, predictor=None,\n",
       "                                     random_state=None, ...),\n",
       "             param_grid={&#x27;learning_rate&#x27;: [0.01, 0.1, 0.2],\n",
       "                         &#x27;max_depth&#x27;: [3, 4, 5],\n",
       "                         &#x27;n_estimators&#x27;: [50, 100, 200]},\n",
       "             scoring=&#x27;accuracy&#x27;, verbose=3)</pre><b>In a Jupyter environment, please rerun this cell to show the HTML representation or trust the notebook. <br />On GitHub, the HTML representation is unable to render, please try loading this page with nbviewer.org.</b></div><div class=\"sk-container\" hidden><div class=\"sk-item sk-dashed-wrapped\"><div class=\"sk-label-container\"><div class=\"sk-label sk-toggleable\"><input class=\"sk-toggleable__control sk-hidden--visually\" id=\"sk-estimator-id-7\" type=\"checkbox\" ><label for=\"sk-estimator-id-7\" class=\"sk-toggleable__label sk-toggleable__label-arrow\">GridSearchCV</label><div class=\"sk-toggleable__content\"><pre>GridSearchCV(cv=5,\n",
       "             estimator=XGBClassifier(base_score=None, booster=None,\n",
       "                                     callbacks=None, colsample_bylevel=None,\n",
       "                                     colsample_bynode=None,\n",
       "                                     colsample_bytree=None,\n",
       "                                     early_stopping_rounds=None,\n",
       "                                     enable_categorical=False, eval_metric=None,\n",
       "                                     feature_types=None, gamma=None,\n",
       "                                     gpu_id=None, grow_policy=None,\n",
       "                                     importance_type=None,\n",
       "                                     interaction_constraints=None,\n",
       "                                     learning_rate=None,...\n",
       "                                     max_cat_threshold=None,\n",
       "                                     max_cat_to_onehot=None,\n",
       "                                     max_delta_step=None, max_depth=None,\n",
       "                                     max_leaves=None, min_child_weight=None,\n",
       "                                     missing=nan, monotone_constraints=None,\n",
       "                                     n_estimators=100, n_jobs=None,\n",
       "                                     num_parallel_tree=None, predictor=None,\n",
       "                                     random_state=None, ...),\n",
       "             param_grid={&#x27;learning_rate&#x27;: [0.01, 0.1, 0.2],\n",
       "                         &#x27;max_depth&#x27;: [3, 4, 5],\n",
       "                         &#x27;n_estimators&#x27;: [50, 100, 200]},\n",
       "             scoring=&#x27;accuracy&#x27;, verbose=3)</pre></div></div></div><div class=\"sk-parallel\"><div class=\"sk-parallel-item\"><div class=\"sk-item\"><div class=\"sk-label-container\"><div class=\"sk-label sk-toggleable\"><input class=\"sk-toggleable__control sk-hidden--visually\" id=\"sk-estimator-id-8\" type=\"checkbox\" ><label for=\"sk-estimator-id-8\" class=\"sk-toggleable__label sk-toggleable__label-arrow\">estimator: XGBClassifier</label><div class=\"sk-toggleable__content\"><pre>XGBClassifier(base_score=None, booster=None, callbacks=None,\n",
       "              colsample_bylevel=None, colsample_bynode=None,\n",
       "              colsample_bytree=None, early_stopping_rounds=None,\n",
       "              enable_categorical=False, eval_metric=None, feature_types=None,\n",
       "              gamma=None, gpu_id=None, grow_policy=None, importance_type=None,\n",
       "              interaction_constraints=None, learning_rate=None, max_bin=None,\n",
       "              max_cat_threshold=None, max_cat_to_onehot=None,\n",
       "              max_delta_step=None, max_depth=None, max_leaves=None,\n",
       "              min_child_weight=None, missing=nan, monotone_constraints=None,\n",
       "              n_estimators=100, n_jobs=None, num_parallel_tree=None,\n",
       "              predictor=None, random_state=None, ...)</pre></div></div></div><div class=\"sk-serial\"><div class=\"sk-item\"><div class=\"sk-estimator sk-toggleable\"><input class=\"sk-toggleable__control sk-hidden--visually\" id=\"sk-estimator-id-9\" type=\"checkbox\" ><label for=\"sk-estimator-id-9\" class=\"sk-toggleable__label sk-toggleable__label-arrow\">XGBClassifier</label><div class=\"sk-toggleable__content\"><pre>XGBClassifier(base_score=None, booster=None, callbacks=None,\n",
       "              colsample_bylevel=None, colsample_bynode=None,\n",
       "              colsample_bytree=None, early_stopping_rounds=None,\n",
       "              enable_categorical=False, eval_metric=None, feature_types=None,\n",
       "              gamma=None, gpu_id=None, grow_policy=None, importance_type=None,\n",
       "              interaction_constraints=None, learning_rate=None, max_bin=None,\n",
       "              max_cat_threshold=None, max_cat_to_onehot=None,\n",
       "              max_delta_step=None, max_depth=None, max_leaves=None,\n",
       "              min_child_weight=None, missing=nan, monotone_constraints=None,\n",
       "              n_estimators=100, n_jobs=None, num_parallel_tree=None,\n",
       "              predictor=None, random_state=None, ...)</pre></div></div></div></div></div></div></div></div></div></div>"
      ],
      "text/plain": [
       "GridSearchCV(cv=5,\n",
       "             estimator=XGBClassifier(base_score=None, booster=None,\n",
       "                                     callbacks=None, colsample_bylevel=None,\n",
       "                                     colsample_bynode=None,\n",
       "                                     colsample_bytree=None,\n",
       "                                     early_stopping_rounds=None,\n",
       "                                     enable_categorical=False, eval_metric=None,\n",
       "                                     feature_types=None, gamma=None,\n",
       "                                     gpu_id=None, grow_policy=None,\n",
       "                                     importance_type=None,\n",
       "                                     interaction_constraints=None,\n",
       "                                     learning_rate=None,...\n",
       "                                     max_cat_threshold=None,\n",
       "                                     max_cat_to_onehot=None,\n",
       "                                     max_delta_step=None, max_depth=None,\n",
       "                                     max_leaves=None, min_child_weight=None,\n",
       "                                     missing=nan, monotone_constraints=None,\n",
       "                                     n_estimators=100, n_jobs=None,\n",
       "                                     num_parallel_tree=None, predictor=None,\n",
       "                                     random_state=None, ...),\n",
       "             param_grid={'learning_rate': [0.01, 0.1, 0.2],\n",
       "                         'max_depth': [3, 4, 5],\n",
       "                         'n_estimators': [50, 100, 200]},\n",
       "             scoring='accuracy', verbose=3)"
      ]
     },
     "execution_count": 74,
     "metadata": {},
     "output_type": "execute_result"
    }
   ],
   "source": [
    "gs.fit(train_data, y_train)"
   ]
  },
  {
   "cell_type": "code",
   "execution_count": 75,
   "id": "4c6adc30",
   "metadata": {
    "execution": {
     "iopub.execute_input": "2023-10-13T19:22:33.214306Z",
     "iopub.status.busy": "2023-10-13T19:22:33.213501Z",
     "iopub.status.idle": "2023-10-13T19:22:33.219925Z",
     "shell.execute_reply": "2023-10-13T19:22:33.219147Z"
    },
    "papermill": {
     "duration": 0.054213,
     "end_time": "2023-10-13T19:22:33.221808",
     "exception": false,
     "start_time": "2023-10-13T19:22:33.167595",
     "status": "completed"
    },
    "tags": []
   },
   "outputs": [
    {
     "data": {
      "text/plain": [
       "{'learning_rate': 0.2, 'max_depth': 3, 'n_estimators': 100}"
      ]
     },
     "execution_count": 75,
     "metadata": {},
     "output_type": "execute_result"
    }
   ],
   "source": [
    "gs.best_params_"
   ]
  },
  {
   "cell_type": "code",
   "execution_count": 76,
   "id": "2a6a3ed8",
   "metadata": {
    "execution": {
     "iopub.execute_input": "2023-10-13T19:22:33.313953Z",
     "iopub.status.busy": "2023-10-13T19:22:33.313329Z",
     "iopub.status.idle": "2023-10-13T19:22:33.322563Z",
     "shell.execute_reply": "2023-10-13T19:22:33.321378Z"
    },
    "papermill": {
     "duration": 0.058298,
     "end_time": "2023-10-13T19:22:33.325063",
     "exception": false,
     "start_time": "2023-10-13T19:22:33.266765",
     "status": "completed"
    },
    "tags": []
   },
   "outputs": [
    {
     "data": {
      "text/html": [
       "<style>#sk-container-id-6 {color: black;background-color: white;}#sk-container-id-6 pre{padding: 0;}#sk-container-id-6 div.sk-toggleable {background-color: white;}#sk-container-id-6 label.sk-toggleable__label {cursor: pointer;display: block;width: 100%;margin-bottom: 0;padding: 0.3em;box-sizing: border-box;text-align: center;}#sk-container-id-6 label.sk-toggleable__label-arrow:before {content: \"▸\";float: left;margin-right: 0.25em;color: #696969;}#sk-container-id-6 label.sk-toggleable__label-arrow:hover:before {color: black;}#sk-container-id-6 div.sk-estimator:hover label.sk-toggleable__label-arrow:before {color: black;}#sk-container-id-6 div.sk-toggleable__content {max-height: 0;max-width: 0;overflow: hidden;text-align: left;background-color: #f0f8ff;}#sk-container-id-6 div.sk-toggleable__content pre {margin: 0.2em;color: black;border-radius: 0.25em;background-color: #f0f8ff;}#sk-container-id-6 input.sk-toggleable__control:checked~div.sk-toggleable__content {max-height: 200px;max-width: 100%;overflow: auto;}#sk-container-id-6 input.sk-toggleable__control:checked~label.sk-toggleable__label-arrow:before {content: \"▾\";}#sk-container-id-6 div.sk-estimator input.sk-toggleable__control:checked~label.sk-toggleable__label {background-color: #d4ebff;}#sk-container-id-6 div.sk-label input.sk-toggleable__control:checked~label.sk-toggleable__label {background-color: #d4ebff;}#sk-container-id-6 input.sk-hidden--visually {border: 0;clip: rect(1px 1px 1px 1px);clip: rect(1px, 1px, 1px, 1px);height: 1px;margin: -1px;overflow: hidden;padding: 0;position: absolute;width: 1px;}#sk-container-id-6 div.sk-estimator {font-family: monospace;background-color: #f0f8ff;border: 1px dotted black;border-radius: 0.25em;box-sizing: border-box;margin-bottom: 0.5em;}#sk-container-id-6 div.sk-estimator:hover {background-color: #d4ebff;}#sk-container-id-6 div.sk-parallel-item::after {content: \"\";width: 100%;border-bottom: 1px solid gray;flex-grow: 1;}#sk-container-id-6 div.sk-label:hover label.sk-toggleable__label {background-color: #d4ebff;}#sk-container-id-6 div.sk-serial::before {content: \"\";position: absolute;border-left: 1px solid gray;box-sizing: border-box;top: 0;bottom: 0;left: 50%;z-index: 0;}#sk-container-id-6 div.sk-serial {display: flex;flex-direction: column;align-items: center;background-color: white;padding-right: 0.2em;padding-left: 0.2em;position: relative;}#sk-container-id-6 div.sk-item {position: relative;z-index: 1;}#sk-container-id-6 div.sk-parallel {display: flex;align-items: stretch;justify-content: center;background-color: white;position: relative;}#sk-container-id-6 div.sk-item::before, #sk-container-id-6 div.sk-parallel-item::before {content: \"\";position: absolute;border-left: 1px solid gray;box-sizing: border-box;top: 0;bottom: 0;left: 50%;z-index: -1;}#sk-container-id-6 div.sk-parallel-item {display: flex;flex-direction: column;z-index: 1;position: relative;background-color: white;}#sk-container-id-6 div.sk-parallel-item:first-child::after {align-self: flex-end;width: 50%;}#sk-container-id-6 div.sk-parallel-item:last-child::after {align-self: flex-start;width: 50%;}#sk-container-id-6 div.sk-parallel-item:only-child::after {width: 0;}#sk-container-id-6 div.sk-dashed-wrapped {border: 1px dashed gray;margin: 0 0.4em 0.5em 0.4em;box-sizing: border-box;padding-bottom: 0.4em;background-color: white;}#sk-container-id-6 div.sk-label label {font-family: monospace;font-weight: bold;display: inline-block;line-height: 1.2em;}#sk-container-id-6 div.sk-label-container {text-align: center;}#sk-container-id-6 div.sk-container {/* jupyter's `normalize.less` sets `[hidden] { display: none; }` but bootstrap.min.css set `[hidden] { display: none !important; }` so we also need the `!important` here to be able to override the default hidden behavior on the sphinx rendered scikit-learn.org. See: https://github.com/scikit-learn/scikit-learn/issues/21755 */display: inline-block !important;position: relative;}#sk-container-id-6 div.sk-text-repr-fallback {display: none;}</style><div id=\"sk-container-id-6\" class=\"sk-top-container\"><div class=\"sk-text-repr-fallback\"><pre>XGBClassifier(base_score=None, booster=None, callbacks=None,\n",
       "              colsample_bylevel=None, colsample_bynode=None,\n",
       "              colsample_bytree=None, early_stopping_rounds=None,\n",
       "              enable_categorical=False, eval_metric=None, feature_types=None,\n",
       "              gamma=None, gpu_id=None, grow_policy=None, importance_type=None,\n",
       "              interaction_constraints=None, learning_rate=0.2, max_bin=None,\n",
       "              max_cat_threshold=None, max_cat_to_onehot=None,\n",
       "              max_delta_step=None, max_depth=3, max_leaves=None,\n",
       "              min_child_weight=None, missing=nan, monotone_constraints=None,\n",
       "              n_estimators=100, n_jobs=None, num_parallel_tree=None,\n",
       "              predictor=None, random_state=None, ...)</pre><b>In a Jupyter environment, please rerun this cell to show the HTML representation or trust the notebook. <br />On GitHub, the HTML representation is unable to render, please try loading this page with nbviewer.org.</b></div><div class=\"sk-container\" hidden><div class=\"sk-item\"><div class=\"sk-estimator sk-toggleable\"><input class=\"sk-toggleable__control sk-hidden--visually\" id=\"sk-estimator-id-10\" type=\"checkbox\" checked><label for=\"sk-estimator-id-10\" class=\"sk-toggleable__label sk-toggleable__label-arrow\">XGBClassifier</label><div class=\"sk-toggleable__content\"><pre>XGBClassifier(base_score=None, booster=None, callbacks=None,\n",
       "              colsample_bylevel=None, colsample_bynode=None,\n",
       "              colsample_bytree=None, early_stopping_rounds=None,\n",
       "              enable_categorical=False, eval_metric=None, feature_types=None,\n",
       "              gamma=None, gpu_id=None, grow_policy=None, importance_type=None,\n",
       "              interaction_constraints=None, learning_rate=0.2, max_bin=None,\n",
       "              max_cat_threshold=None, max_cat_to_onehot=None,\n",
       "              max_delta_step=None, max_depth=3, max_leaves=None,\n",
       "              min_child_weight=None, missing=nan, monotone_constraints=None,\n",
       "              n_estimators=100, n_jobs=None, num_parallel_tree=None,\n",
       "              predictor=None, random_state=None, ...)</pre></div></div></div></div></div>"
      ],
      "text/plain": [
       "XGBClassifier(base_score=None, booster=None, callbacks=None,\n",
       "              colsample_bylevel=None, colsample_bynode=None,\n",
       "              colsample_bytree=None, early_stopping_rounds=None,\n",
       "              enable_categorical=False, eval_metric=None, feature_types=None,\n",
       "              gamma=None, gpu_id=None, grow_policy=None, importance_type=None,\n",
       "              interaction_constraints=None, learning_rate=0.2, max_bin=None,\n",
       "              max_cat_threshold=None, max_cat_to_onehot=None,\n",
       "              max_delta_step=None, max_depth=3, max_leaves=None,\n",
       "              min_child_weight=None, missing=nan, monotone_constraints=None,\n",
       "              n_estimators=100, n_jobs=None, num_parallel_tree=None,\n",
       "              predictor=None, random_state=None, ...)"
      ]
     },
     "execution_count": 76,
     "metadata": {},
     "output_type": "execute_result"
    }
   ],
   "source": [
    "gs.best_estimator_"
   ]
  },
  {
   "cell_type": "code",
   "execution_count": 77,
   "id": "fcbf5b85",
   "metadata": {
    "execution": {
     "iopub.execute_input": "2023-10-13T19:22:33.417227Z",
     "iopub.status.busy": "2023-10-13T19:22:33.416819Z",
     "iopub.status.idle": "2023-10-13T19:22:33.421042Z",
     "shell.execute_reply": "2023-10-13T19:22:33.420117Z"
    },
    "papermill": {
     "duration": 0.052194,
     "end_time": "2023-10-13T19:22:33.422878",
     "exception": false,
     "start_time": "2023-10-13T19:22:33.370684",
     "status": "completed"
    },
    "tags": []
   },
   "outputs": [],
   "source": [
    "best_model_xgb = gs.best_estimator_"
   ]
  },
  {
   "cell_type": "code",
   "execution_count": 78,
   "id": "760cc7a9",
   "metadata": {
    "execution": {
     "iopub.execute_input": "2023-10-13T19:22:33.514424Z",
     "iopub.status.busy": "2023-10-13T19:22:33.514070Z",
     "iopub.status.idle": "2023-10-13T19:22:33.523945Z",
     "shell.execute_reply": "2023-10-13T19:22:33.523029Z"
    },
    "papermill": {
     "duration": 0.058992,
     "end_time": "2023-10-13T19:22:33.526464",
     "exception": false,
     "start_time": "2023-10-13T19:22:33.467472",
     "status": "completed"
    },
    "tags": []
   },
   "outputs": [
    {
     "name": "stdout",
     "output_type": "stream",
     "text": [
      ">> Tuned XGBoost Classifier - Accuracy: 83.05 \n",
      "\n"
     ]
    }
   ],
   "source": [
    "print(f'>> Tuned XGBoost Classifier - Accuracy: {round(best_model_xgb.score(test_data, y_test)*100, 2)} \\n')"
   ]
  },
  {
   "cell_type": "markdown",
   "id": "c15c8940",
   "metadata": {
    "papermill": {
     "duration": 0.044943,
     "end_time": "2023-10-13T19:22:33.620060",
     "exception": false,
     "start_time": "2023-10-13T19:22:33.575117",
     "status": "completed"
    },
    "tags": []
   },
   "source": [
    "## ▶ Save for Kaggle-submission:"
   ]
  },
  {
   "cell_type": "code",
   "execution_count": 79,
   "id": "1dd9d0e1",
   "metadata": {
    "execution": {
     "iopub.execute_input": "2023-10-13T19:22:33.714966Z",
     "iopub.status.busy": "2023-10-13T19:22:33.714160Z",
     "iopub.status.idle": "2023-10-13T19:22:33.729845Z",
     "shell.execute_reply": "2023-10-13T19:22:33.728996Z"
    },
    "papermill": {
     "duration": 0.064446,
     "end_time": "2023-10-13T19:22:33.732131",
     "exception": false,
     "start_time": "2023-10-13T19:22:33.667685",
     "status": "completed"
    },
    "tags": []
   },
   "outputs": [],
   "source": [
    "test_df = pd.read_csv('/kaggle/input/titanic/test.csv')"
   ]
  },
  {
   "cell_type": "code",
   "execution_count": 80,
   "id": "b8977159",
   "metadata": {
    "execution": {
     "iopub.execute_input": "2023-10-13T19:22:33.825863Z",
     "iopub.status.busy": "2023-10-13T19:22:33.824874Z",
     "iopub.status.idle": "2023-10-13T19:22:33.838173Z",
     "shell.execute_reply": "2023-10-13T19:22:33.837417Z"
    },
    "papermill": {
     "duration": 0.062374,
     "end_time": "2023-10-13T19:22:33.840130",
     "exception": false,
     "start_time": "2023-10-13T19:22:33.777756",
     "status": "completed"
    },
    "tags": []
   },
   "outputs": [
    {
     "data": {
      "text/html": [
       "<div>\n",
       "<style scoped>\n",
       "    .dataframe tbody tr th:only-of-type {\n",
       "        vertical-align: middle;\n",
       "    }\n",
       "\n",
       "    .dataframe tbody tr th {\n",
       "        vertical-align: top;\n",
       "    }\n",
       "\n",
       "    .dataframe thead th {\n",
       "        text-align: right;\n",
       "    }\n",
       "</style>\n",
       "<table border=\"1\" class=\"dataframe\">\n",
       "  <thead>\n",
       "    <tr style=\"text-align: right;\">\n",
       "      <th></th>\n",
       "      <th>PassengerId</th>\n",
       "      <th>Pclass</th>\n",
       "      <th>Name</th>\n",
       "      <th>Sex</th>\n",
       "      <th>Age</th>\n",
       "      <th>SibSp</th>\n",
       "      <th>Parch</th>\n",
       "      <th>Ticket</th>\n",
       "      <th>Fare</th>\n",
       "      <th>Cabin</th>\n",
       "      <th>Embarked</th>\n",
       "    </tr>\n",
       "  </thead>\n",
       "  <tbody>\n",
       "    <tr>\n",
       "      <th>0</th>\n",
       "      <td>892</td>\n",
       "      <td>3</td>\n",
       "      <td>Kelly, Mr. James</td>\n",
       "      <td>male</td>\n",
       "      <td>34.5</td>\n",
       "      <td>0</td>\n",
       "      <td>0</td>\n",
       "      <td>330911</td>\n",
       "      <td>7.8292</td>\n",
       "      <td>NaN</td>\n",
       "      <td>Q</td>\n",
       "    </tr>\n",
       "    <tr>\n",
       "      <th>1</th>\n",
       "      <td>893</td>\n",
       "      <td>3</td>\n",
       "      <td>Wilkes, Mrs. James (Ellen Needs)</td>\n",
       "      <td>female</td>\n",
       "      <td>47.0</td>\n",
       "      <td>1</td>\n",
       "      <td>0</td>\n",
       "      <td>363272</td>\n",
       "      <td>7.0000</td>\n",
       "      <td>NaN</td>\n",
       "      <td>S</td>\n",
       "    </tr>\n",
       "    <tr>\n",
       "      <th>2</th>\n",
       "      <td>894</td>\n",
       "      <td>2</td>\n",
       "      <td>Myles, Mr. Thomas Francis</td>\n",
       "      <td>male</td>\n",
       "      <td>62.0</td>\n",
       "      <td>0</td>\n",
       "      <td>0</td>\n",
       "      <td>240276</td>\n",
       "      <td>9.6875</td>\n",
       "      <td>NaN</td>\n",
       "      <td>Q</td>\n",
       "    </tr>\n",
       "    <tr>\n",
       "      <th>3</th>\n",
       "      <td>895</td>\n",
       "      <td>3</td>\n",
       "      <td>Wirz, Mr. Albert</td>\n",
       "      <td>male</td>\n",
       "      <td>27.0</td>\n",
       "      <td>0</td>\n",
       "      <td>0</td>\n",
       "      <td>315154</td>\n",
       "      <td>8.6625</td>\n",
       "      <td>NaN</td>\n",
       "      <td>S</td>\n",
       "    </tr>\n",
       "    <tr>\n",
       "      <th>4</th>\n",
       "      <td>896</td>\n",
       "      <td>3</td>\n",
       "      <td>Hirvonen, Mrs. Alexander (Helga E Lindqvist)</td>\n",
       "      <td>female</td>\n",
       "      <td>22.0</td>\n",
       "      <td>1</td>\n",
       "      <td>1</td>\n",
       "      <td>3101298</td>\n",
       "      <td>12.2875</td>\n",
       "      <td>NaN</td>\n",
       "      <td>S</td>\n",
       "    </tr>\n",
       "  </tbody>\n",
       "</table>\n",
       "</div>"
      ],
      "text/plain": [
       "   PassengerId  Pclass                                          Name     Sex  \\\n",
       "0          892       3                              Kelly, Mr. James    male   \n",
       "1          893       3              Wilkes, Mrs. James (Ellen Needs)  female   \n",
       "2          894       2                     Myles, Mr. Thomas Francis    male   \n",
       "3          895       3                              Wirz, Mr. Albert    male   \n",
       "4          896       3  Hirvonen, Mrs. Alexander (Helga E Lindqvist)  female   \n",
       "\n",
       "    Age  SibSp  Parch   Ticket     Fare Cabin Embarked  \n",
       "0  34.5      0      0   330911   7.8292   NaN        Q  \n",
       "1  47.0      1      0   363272   7.0000   NaN        S  \n",
       "2  62.0      0      0   240276   9.6875   NaN        Q  \n",
       "3  27.0      0      0   315154   8.6625   NaN        S  \n",
       "4  22.0      1      1  3101298  12.2875   NaN        S  "
      ]
     },
     "execution_count": 80,
     "metadata": {},
     "output_type": "execute_result"
    }
   ],
   "source": [
    "test_df.head()"
   ]
  },
  {
   "cell_type": "code",
   "execution_count": 81,
   "id": "e8b8a6e6",
   "metadata": {
    "execution": {
     "iopub.execute_input": "2023-10-13T19:22:33.935590Z",
     "iopub.status.busy": "2023-10-13T19:22:33.935036Z",
     "iopub.status.idle": "2023-10-13T19:22:33.940129Z",
     "shell.execute_reply": "2023-10-13T19:22:33.938951Z"
    },
    "papermill": {
     "duration": 0.055003,
     "end_time": "2023-10-13T19:22:33.942292",
     "exception": false,
     "start_time": "2023-10-13T19:22:33.887289",
     "status": "completed"
    },
    "tags": []
   },
   "outputs": [
    {
     "name": "stdout",
     "output_type": "stream",
     "text": [
      "Shape: (418, 11) | Rows: 418, Columns: 11\n"
     ]
    }
   ],
   "source": [
    "print('Shape:', test_df.shape, f'| Rows: {test_df.shape[0]}, Columns: {test_df.shape[1]}')"
   ]
  },
  {
   "cell_type": "code",
   "execution_count": 82,
   "id": "30e93d54",
   "metadata": {
    "execution": {
     "iopub.execute_input": "2023-10-13T19:22:34.034501Z",
     "iopub.status.busy": "2023-10-13T19:22:34.034137Z",
     "iopub.status.idle": "2023-10-13T19:22:34.041942Z",
     "shell.execute_reply": "2023-10-13T19:22:34.040985Z"
    },
    "papermill": {
     "duration": 0.056099,
     "end_time": "2023-10-13T19:22:34.044037",
     "exception": false,
     "start_time": "2023-10-13T19:22:33.987938",
     "status": "completed"
    },
    "tags": []
   },
   "outputs": [
    {
     "data": {
      "text/plain": [
       "PassengerId      0\n",
       "Pclass           0\n",
       "Name             0\n",
       "Sex              0\n",
       "Age             86\n",
       "SibSp            0\n",
       "Parch            0\n",
       "Ticket           0\n",
       "Fare             1\n",
       "Cabin          327\n",
       "Embarked         0\n",
       "dtype: int64"
      ]
     },
     "execution_count": 82,
     "metadata": {},
     "output_type": "execute_result"
    }
   ],
   "source": [
    "test_df.isnull().sum()"
   ]
  },
  {
   "cell_type": "code",
   "execution_count": 83,
   "id": "5d886075",
   "metadata": {
    "execution": {
     "iopub.execute_input": "2023-10-13T19:22:34.137417Z",
     "iopub.status.busy": "2023-10-13T19:22:34.136396Z",
     "iopub.status.idle": "2023-10-13T19:22:34.142416Z",
     "shell.execute_reply": "2023-10-13T19:22:34.141687Z"
    },
    "papermill": {
     "duration": 0.05459,
     "end_time": "2023-10-13T19:22:34.144227",
     "exception": false,
     "start_time": "2023-10-13T19:22:34.089637",
     "status": "completed"
    },
    "tags": []
   },
   "outputs": [],
   "source": [
    "test_df = test_df.drop(['Cabin', 'Name', 'Ticket'], axis=1)"
   ]
  },
  {
   "cell_type": "code",
   "execution_count": 84,
   "id": "de56d706",
   "metadata": {
    "execution": {
     "iopub.execute_input": "2023-10-13T19:22:34.236357Z",
     "iopub.status.busy": "2023-10-13T19:22:34.235697Z",
     "iopub.status.idle": "2023-10-13T19:22:34.293132Z",
     "shell.execute_reply": "2023-10-13T19:22:34.292113Z"
    },
    "papermill": {
     "duration": 0.106205,
     "end_time": "2023-10-13T19:22:34.295403",
     "exception": false,
     "start_time": "2023-10-13T19:22:34.189198",
     "status": "completed"
    },
    "tags": []
   },
   "outputs": [],
   "source": [
    "test_df['Age'] = test_df[['Age', 'Pclass']].apply(fill_missing_age, axis=1)"
   ]
  },
  {
   "cell_type": "code",
   "execution_count": 85,
   "id": "a59d0133",
   "metadata": {
    "execution": {
     "iopub.execute_input": "2023-10-13T19:22:34.388736Z",
     "iopub.status.busy": "2023-10-13T19:22:34.388391Z",
     "iopub.status.idle": "2023-10-13T19:22:34.395694Z",
     "shell.execute_reply": "2023-10-13T19:22:34.395028Z"
    },
    "papermill": {
     "duration": 0.055981,
     "end_time": "2023-10-13T19:22:34.397492",
     "exception": false,
     "start_time": "2023-10-13T19:22:34.341511",
     "status": "completed"
    },
    "tags": []
   },
   "outputs": [
    {
     "data": {
      "text/plain": [
       "PassengerId    0\n",
       "Pclass         0\n",
       "Sex            0\n",
       "Age            0\n",
       "SibSp          0\n",
       "Parch          0\n",
       "Fare           1\n",
       "Embarked       0\n",
       "dtype: int64"
      ]
     },
     "execution_count": 85,
     "metadata": {},
     "output_type": "execute_result"
    }
   ],
   "source": [
    "test_df.isnull().sum()"
   ]
  },
  {
   "cell_type": "code",
   "execution_count": 86,
   "id": "e4f8ffe4",
   "metadata": {
    "execution": {
     "iopub.execute_input": "2023-10-13T19:22:34.490295Z",
     "iopub.status.busy": "2023-10-13T19:22:34.489890Z",
     "iopub.status.idle": "2023-10-13T19:22:34.502405Z",
     "shell.execute_reply": "2023-10-13T19:22:34.501643Z"
    },
    "papermill": {
     "duration": 0.06138,
     "end_time": "2023-10-13T19:22:34.504165",
     "exception": false,
     "start_time": "2023-10-13T19:22:34.442785",
     "status": "completed"
    },
    "tags": []
   },
   "outputs": [
    {
     "data": {
      "text/html": [
       "<div>\n",
       "<style scoped>\n",
       "    .dataframe tbody tr th:only-of-type {\n",
       "        vertical-align: middle;\n",
       "    }\n",
       "\n",
       "    .dataframe tbody tr th {\n",
       "        vertical-align: top;\n",
       "    }\n",
       "\n",
       "    .dataframe thead th {\n",
       "        text-align: right;\n",
       "    }\n",
       "</style>\n",
       "<table border=\"1\" class=\"dataframe\">\n",
       "  <thead>\n",
       "    <tr style=\"text-align: right;\">\n",
       "      <th></th>\n",
       "      <th>PassengerId</th>\n",
       "      <th>Pclass</th>\n",
       "      <th>Sex</th>\n",
       "      <th>Age</th>\n",
       "      <th>SibSp</th>\n",
       "      <th>Parch</th>\n",
       "      <th>Fare</th>\n",
       "      <th>Embarked</th>\n",
       "    </tr>\n",
       "  </thead>\n",
       "  <tbody>\n",
       "    <tr>\n",
       "      <th>152</th>\n",
       "      <td>1044</td>\n",
       "      <td>3</td>\n",
       "      <td>male</td>\n",
       "      <td>60.5</td>\n",
       "      <td>0</td>\n",
       "      <td>0</td>\n",
       "      <td>NaN</td>\n",
       "      <td>S</td>\n",
       "    </tr>\n",
       "  </tbody>\n",
       "</table>\n",
       "</div>"
      ],
      "text/plain": [
       "     PassengerId  Pclass   Sex   Age  SibSp  Parch  Fare Embarked\n",
       "152         1044       3  male  60.5      0      0   NaN        S"
      ]
     },
     "execution_count": 86,
     "metadata": {},
     "output_type": "execute_result"
    }
   ],
   "source": [
    "test_df[pd.isna(test_df['Fare'])]"
   ]
  },
  {
   "cell_type": "code",
   "execution_count": 87,
   "id": "3077cca6",
   "metadata": {
    "execution": {
     "iopub.execute_input": "2023-10-13T19:22:34.598362Z",
     "iopub.status.busy": "2023-10-13T19:22:34.597484Z",
     "iopub.status.idle": "2023-10-13T19:22:34.604569Z",
     "shell.execute_reply": "2023-10-13T19:22:34.603843Z"
    },
    "papermill": {
     "duration": 0.055683,
     "end_time": "2023-10-13T19:22:34.606745",
     "exception": false,
     "start_time": "2023-10-13T19:22:34.551062",
     "status": "completed"
    },
    "tags": []
   },
   "outputs": [],
   "source": [
    "mean_fare_for_missing_data = test_df[(test_df['Pclass'] == 3) & (test_df['Sex'] == 'male') & (test_df['Embarked'] == 'S') & (test_df['SibSp'] == 0) & (test_df['Parch'] == 0)]['Fare'].mean()"
   ]
  },
  {
   "cell_type": "code",
   "execution_count": 88,
   "id": "09b1ec83",
   "metadata": {
    "execution": {
     "iopub.execute_input": "2023-10-13T19:22:34.702953Z",
     "iopub.status.busy": "2023-10-13T19:22:34.702206Z",
     "iopub.status.idle": "2023-10-13T19:22:34.707988Z",
     "shell.execute_reply": "2023-10-13T19:22:34.706676Z"
    },
    "papermill": {
     "duration": 0.054632,
     "end_time": "2023-10-13T19:22:34.710020",
     "exception": false,
     "start_time": "2023-10-13T19:22:34.655388",
     "status": "completed"
    },
    "tags": []
   },
   "outputs": [],
   "source": [
    "test_df['Fare'] = test_df['Fare'].fillna(mean_fare_for_missing_data)"
   ]
  },
  {
   "cell_type": "code",
   "execution_count": 89,
   "id": "8ca9cfb6",
   "metadata": {
    "execution": {
     "iopub.execute_input": "2023-10-13T19:22:34.805541Z",
     "iopub.status.busy": "2023-10-13T19:22:34.804881Z",
     "iopub.status.idle": "2023-10-13T19:22:35.345551Z",
     "shell.execute_reply": "2023-10-13T19:22:35.344404Z"
    },
    "papermill": {
     "duration": 0.590015,
     "end_time": "2023-10-13T19:22:35.347810",
     "exception": false,
     "start_time": "2023-10-13T19:22:34.757795",
     "status": "completed"
    },
    "tags": []
   },
   "outputs": [
    {
     "data": {
      "image/png": "[encoded data removed]",
      "text/plain": [
       "<Figure size 640x480 with 1 Axes>"
      ]
     },
     "metadata": {},
     "output_type": "display_data"
    }
   ],
   "source": [
    "sns.histplot(data=test_df, x='Fare', palette='Set1', kde=True)\n",
    "plt.title('Histogram of \"Fare\"')\n",
    "plt.tight_layout()\n",
    "plt.show()"
   ]
  },
  {
   "cell_type": "code",
   "execution_count": 90,
   "id": "43a09bb2",
   "metadata": {
    "execution": {
     "iopub.execute_input": "2023-10-13T19:22:35.445276Z",
     "iopub.status.busy": "2023-10-13T19:22:35.444828Z",
     "iopub.status.idle": "2023-10-13T19:22:35.454072Z",
     "shell.execute_reply": "2023-10-13T19:22:35.452750Z"
    },
    "papermill": {
     "duration": 0.061093,
     "end_time": "2023-10-13T19:22:35.456087",
     "exception": false,
     "start_time": "2023-10-13T19:22:35.394994",
     "status": "completed"
    },
    "tags": []
   },
   "outputs": [
    {
     "data": {
      "text/plain": [
       "PassengerId    0\n",
       "Pclass         0\n",
       "Sex            0\n",
       "Age            0\n",
       "SibSp          0\n",
       "Parch          0\n",
       "Fare           0\n",
       "Embarked       0\n",
       "dtype: int64"
      ]
     },
     "execution_count": 90,
     "metadata": {},
     "output_type": "execute_result"
    }
   ],
   "source": [
    "test_df.isnull().sum()"
   ]
  },
  {
   "cell_type": "code",
   "execution_count": 91,
   "id": "79bac95c",
   "metadata": {
    "execution": {
     "iopub.execute_input": "2023-10-13T19:22:35.552386Z",
     "iopub.status.busy": "2023-10-13T19:22:35.552004Z",
     "iopub.status.idle": "2023-10-13T19:22:35.558053Z",
     "shell.execute_reply": "2023-10-13T19:22:35.556935Z"
    },
    "papermill": {
     "duration": 0.055932,
     "end_time": "2023-10-13T19:22:35.559993",
     "exception": false,
     "start_time": "2023-10-13T19:22:35.504061",
     "status": "completed"
    },
    "tags": []
   },
   "outputs": [],
   "source": [
    "test_df = test_df.set_index('PassengerId')"
   ]
  },
  {
   "cell_type": "code",
   "execution_count": 92,
   "id": "6084a3b4",
   "metadata": {
    "execution": {
     "iopub.execute_input": "2023-10-13T19:22:35.654795Z",
     "iopub.status.busy": "2023-10-13T19:22:35.654469Z",
     "iopub.status.idle": "2023-10-13T19:22:35.658655Z",
     "shell.execute_reply": "2023-10-13T19:22:35.657621Z"
    },
    "papermill": {
     "duration": 0.054667,
     "end_time": "2023-10-13T19:22:35.660409",
     "exception": false,
     "start_time": "2023-10-13T19:22:35.605742",
     "status": "completed"
    },
    "tags": []
   },
   "outputs": [],
   "source": [
    "test_X = test_df"
   ]
  },
  {
   "cell_type": "code",
   "execution_count": 93,
   "id": "1aa507b9",
   "metadata": {
    "execution": {
     "iopub.execute_input": "2023-10-13T19:22:35.753378Z",
     "iopub.status.busy": "2023-10-13T19:22:35.752893Z",
     "iopub.status.idle": "2023-10-13T19:22:35.766251Z",
     "shell.execute_reply": "2023-10-13T19:22:35.765184Z"
    },
    "papermill": {
     "duration": 0.062405,
     "end_time": "2023-10-13T19:22:35.768364",
     "exception": false,
     "start_time": "2023-10-13T19:22:35.705959",
     "status": "completed"
    },
    "tags": []
   },
   "outputs": [
    {
     "data": {
      "text/html": [
       "<div>\n",
       "<style scoped>\n",
       "    .dataframe tbody tr th:only-of-type {\n",
       "        vertical-align: middle;\n",
       "    }\n",
       "\n",
       "    .dataframe tbody tr th {\n",
       "        vertical-align: top;\n",
       "    }\n",
       "\n",
       "    .dataframe thead th {\n",
       "        text-align: right;\n",
       "    }\n",
       "</style>\n",
       "<table border=\"1\" class=\"dataframe\">\n",
       "  <thead>\n",
       "    <tr style=\"text-align: right;\">\n",
       "      <th></th>\n",
       "      <th>Pclass</th>\n",
       "      <th>Sex</th>\n",
       "      <th>Age</th>\n",
       "      <th>SibSp</th>\n",
       "      <th>Parch</th>\n",
       "      <th>Fare</th>\n",
       "      <th>Embarked</th>\n",
       "    </tr>\n",
       "    <tr>\n",
       "      <th>PassengerId</th>\n",
       "      <th></th>\n",
       "      <th></th>\n",
       "      <th></th>\n",
       "      <th></th>\n",
       "      <th></th>\n",
       "      <th></th>\n",
       "      <th></th>\n",
       "    </tr>\n",
       "  </thead>\n",
       "  <tbody>\n",
       "    <tr>\n",
       "      <th>892</th>\n",
       "      <td>3</td>\n",
       "      <td>male</td>\n",
       "      <td>34.5</td>\n",
       "      <td>0</td>\n",
       "      <td>0</td>\n",
       "      <td>7.8292</td>\n",
       "      <td>Q</td>\n",
       "    </tr>\n",
       "    <tr>\n",
       "      <th>893</th>\n",
       "      <td>3</td>\n",
       "      <td>female</td>\n",
       "      <td>47.0</td>\n",
       "      <td>1</td>\n",
       "      <td>0</td>\n",
       "      <td>7.0000</td>\n",
       "      <td>S</td>\n",
       "    </tr>\n",
       "    <tr>\n",
       "      <th>894</th>\n",
       "      <td>2</td>\n",
       "      <td>male</td>\n",
       "      <td>62.0</td>\n",
       "      <td>0</td>\n",
       "      <td>0</td>\n",
       "      <td>9.6875</td>\n",
       "      <td>Q</td>\n",
       "    </tr>\n",
       "    <tr>\n",
       "      <th>895</th>\n",
       "      <td>3</td>\n",
       "      <td>male</td>\n",
       "      <td>27.0</td>\n",
       "      <td>0</td>\n",
       "      <td>0</td>\n",
       "      <td>8.6625</td>\n",
       "      <td>S</td>\n",
       "    </tr>\n",
       "    <tr>\n",
       "      <th>896</th>\n",
       "      <td>3</td>\n",
       "      <td>female</td>\n",
       "      <td>22.0</td>\n",
       "      <td>1</td>\n",
       "      <td>1</td>\n",
       "      <td>12.2875</td>\n",
       "      <td>S</td>\n",
       "    </tr>\n",
       "  </tbody>\n",
       "</table>\n",
       "</div>"
      ],
      "text/plain": [
       "             Pclass     Sex   Age  SibSp  Parch     Fare Embarked\n",
       "PassengerId                                                      \n",
       "892               3    male  34.5      0      0   7.8292        Q\n",
       "893               3  female  47.0      1      0   7.0000        S\n",
       "894               2    male  62.0      0      0   9.6875        Q\n",
       "895               3    male  27.0      0      0   8.6625        S\n",
       "896               3  female  22.0      1      1  12.2875        S"
      ]
     },
     "execution_count": 93,
     "metadata": {},
     "output_type": "execute_result"
    }
   ],
   "source": [
    "test_X.head()"
   ]
  },
  {
   "cell_type": "code",
   "execution_count": 94,
   "id": "d469353a",
   "metadata": {
    "execution": {
     "iopub.execute_input": "2023-10-13T19:22:35.862558Z",
     "iopub.status.busy": "2023-10-13T19:22:35.862216Z",
     "iopub.status.idle": "2023-10-13T19:22:35.870626Z",
     "shell.execute_reply": "2023-10-13T19:22:35.869384Z"
    },
    "papermill": {
     "duration": 0.05803,
     "end_time": "2023-10-13T19:22:35.872625",
     "exception": false,
     "start_time": "2023-10-13T19:22:35.814595",
     "status": "completed"
    },
    "tags": []
   },
   "outputs": [],
   "source": [
    "# Encode Categorical data\n",
    "\n",
    "is_male = pd.get_dummies(test_X['Sex'], drop_first=True)\n",
    "\n",
    "embarked_from = pd.get_dummies(test_X['Embarked'], drop_first=True)\n",
    "\n",
    "which_class = pd.get_dummies(test_X['Pclass'], drop_first=True)\n",
    "which_class.rename(columns = {2:'class_2', 3:'class_3'}, inplace= True)"
   ]
  },
  {
   "cell_type": "code",
   "execution_count": 95,
   "id": "9c785007",
   "metadata": {
    "execution": {
     "iopub.execute_input": "2023-10-13T19:22:35.967706Z",
     "iopub.status.busy": "2023-10-13T19:22:35.966934Z",
     "iopub.status.idle": "2023-10-13T19:22:35.972682Z",
     "shell.execute_reply": "2023-10-13T19:22:35.971877Z"
    },
    "papermill": {
     "duration": 0.055832,
     "end_time": "2023-10-13T19:22:35.974680",
     "exception": false,
     "start_time": "2023-10-13T19:22:35.918848",
     "status": "completed"
    },
    "tags": []
   },
   "outputs": [],
   "source": [
    "test_X = pd.concat([test_X, is_male, embarked_from, which_class], axis=1)"
   ]
  },
  {
   "cell_type": "code",
   "execution_count": 96,
   "id": "fff793fc",
   "metadata": {
    "execution": {
     "iopub.execute_input": "2023-10-13T19:22:36.069375Z",
     "iopub.status.busy": "2023-10-13T19:22:36.068561Z",
     "iopub.status.idle": "2023-10-13T19:22:36.083502Z",
     "shell.execute_reply": "2023-10-13T19:22:36.082431Z"
    },
    "papermill": {
     "duration": 0.064388,
     "end_time": "2023-10-13T19:22:36.085692",
     "exception": false,
     "start_time": "2023-10-13T19:22:36.021304",
     "status": "completed"
    },
    "tags": []
   },
   "outputs": [
    {
     "data": {
      "text/html": [
       "<div>\n",
       "<style scoped>\n",
       "    .dataframe tbody tr th:only-of-type {\n",
       "        vertical-align: middle;\n",
       "    }\n",
       "\n",
       "    .dataframe tbody tr th {\n",
       "        vertical-align: top;\n",
       "    }\n",
       "\n",
       "    .dataframe thead th {\n",
       "        text-align: right;\n",
       "    }\n",
       "</style>\n",
       "<table border=\"1\" class=\"dataframe\">\n",
       "  <thead>\n",
       "    <tr style=\"text-align: right;\">\n",
       "      <th></th>\n",
       "      <th>Pclass</th>\n",
       "      <th>Sex</th>\n",
       "      <th>Age</th>\n",
       "      <th>SibSp</th>\n",
       "      <th>Parch</th>\n",
       "      <th>Fare</th>\n",
       "      <th>Embarked</th>\n",
       "      <th>male</th>\n",
       "      <th>Q</th>\n",
       "      <th>S</th>\n",
       "      <th>class_2</th>\n",
       "      <th>class_3</th>\n",
       "    </tr>\n",
       "    <tr>\n",
       "      <th>PassengerId</th>\n",
       "      <th></th>\n",
       "      <th></th>\n",
       "      <th></th>\n",
       "      <th></th>\n",
       "      <th></th>\n",
       "      <th></th>\n",
       "      <th></th>\n",
       "      <th></th>\n",
       "      <th></th>\n",
       "      <th></th>\n",
       "      <th></th>\n",
       "      <th></th>\n",
       "    </tr>\n",
       "  </thead>\n",
       "  <tbody>\n",
       "    <tr>\n",
       "      <th>892</th>\n",
       "      <td>3</td>\n",
       "      <td>male</td>\n",
       "      <td>34.5</td>\n",
       "      <td>0</td>\n",
       "      <td>0</td>\n",
       "      <td>7.8292</td>\n",
       "      <td>Q</td>\n",
       "      <td>True</td>\n",
       "      <td>True</td>\n",
       "      <td>False</td>\n",
       "      <td>False</td>\n",
       "      <td>True</td>\n",
       "    </tr>\n",
       "    <tr>\n",
       "      <th>893</th>\n",
       "      <td>3</td>\n",
       "      <td>female</td>\n",
       "      <td>47.0</td>\n",
       "      <td>1</td>\n",
       "      <td>0</td>\n",
       "      <td>7.0000</td>\n",
       "      <td>S</td>\n",
       "      <td>False</td>\n",
       "      <td>False</td>\n",
       "      <td>True</td>\n",
       "      <td>False</td>\n",
       "      <td>True</td>\n",
       "    </tr>\n",
       "    <tr>\n",
       "      <th>894</th>\n",
       "      <td>2</td>\n",
       "      <td>male</td>\n",
       "      <td>62.0</td>\n",
       "      <td>0</td>\n",
       "      <td>0</td>\n",
       "      <td>9.6875</td>\n",
       "      <td>Q</td>\n",
       "      <td>True</td>\n",
       "      <td>True</td>\n",
       "      <td>False</td>\n",
       "      <td>True</td>\n",
       "      <td>False</td>\n",
       "    </tr>\n",
       "    <tr>\n",
       "      <th>895</th>\n",
       "      <td>3</td>\n",
       "      <td>male</td>\n",
       "      <td>27.0</td>\n",
       "      <td>0</td>\n",
       "      <td>0</td>\n",
       "      <td>8.6625</td>\n",
       "      <td>S</td>\n",
       "      <td>True</td>\n",
       "      <td>False</td>\n",
       "      <td>True</td>\n",
       "      <td>False</td>\n",
       "      <td>True</td>\n",
       "    </tr>\n",
       "    <tr>\n",
       "      <th>896</th>\n",
       "      <td>3</td>\n",
       "      <td>female</td>\n",
       "      <td>22.0</td>\n",
       "      <td>1</td>\n",
       "      <td>1</td>\n",
       "      <td>12.2875</td>\n",
       "      <td>S</td>\n",
       "      <td>False</td>\n",
       "      <td>False</td>\n",
       "      <td>True</td>\n",
       "      <td>False</td>\n",
       "      <td>True</td>\n",
       "    </tr>\n",
       "  </tbody>\n",
       "</table>\n",
       "</div>"
      ],
      "text/plain": [
       "             Pclass     Sex   Age  SibSp  Parch     Fare Embarked   male  \\\n",
       "PassengerId                                                                \n",
       "892               3    male  34.5      0      0   7.8292        Q   True   \n",
       "893               3  female  47.0      1      0   7.0000        S  False   \n",
       "894               2    male  62.0      0      0   9.6875        Q   True   \n",
       "895               3    male  27.0      0      0   8.6625        S   True   \n",
       "896               3  female  22.0      1      1  12.2875        S  False   \n",
       "\n",
       "                 Q      S  class_2  class_3  \n",
       "PassengerId                                  \n",
       "892           True  False    False     True  \n",
       "893          False   True    False     True  \n",
       "894           True  False     True    False  \n",
       "895          False   True    False     True  \n",
       "896          False   True    False     True  "
      ]
     },
     "execution_count": 96,
     "metadata": {},
     "output_type": "execute_result"
    }
   ],
   "source": [
    "test_X.head()"
   ]
  },
  {
   "cell_type": "code",
   "execution_count": 97,
   "id": "500bf071",
   "metadata": {
    "execution": {
     "iopub.execute_input": "2023-10-13T19:22:36.243096Z",
     "iopub.status.busy": "2023-10-13T19:22:36.242219Z",
     "iopub.status.idle": "2023-10-13T19:22:36.247674Z",
     "shell.execute_reply": "2023-10-13T19:22:36.246952Z"
    },
    "papermill": {
     "duration": 0.117409,
     "end_time": "2023-10-13T19:22:36.249451",
     "exception": false,
     "start_time": "2023-10-13T19:22:36.132042",
     "status": "completed"
    },
    "tags": []
   },
   "outputs": [],
   "source": [
    "test_X = test_X.drop(['Sex', 'Embarked', 'Pclass'], axis=1)"
   ]
  },
  {
   "cell_type": "code",
   "execution_count": 98,
   "id": "b9a5da06",
   "metadata": {
    "execution": {
     "iopub.execute_input": "2023-10-13T19:22:36.344160Z",
     "iopub.status.busy": "2023-10-13T19:22:36.343424Z",
     "iopub.status.idle": "2023-10-13T19:22:36.355867Z",
     "shell.execute_reply": "2023-10-13T19:22:36.355138Z"
    },
    "papermill": {
     "duration": 0.062014,
     "end_time": "2023-10-13T19:22:36.357781",
     "exception": false,
     "start_time": "2023-10-13T19:22:36.295767",
     "status": "completed"
    },
    "tags": []
   },
   "outputs": [
    {
     "data": {
      "text/html": [
       "<div>\n",
       "<style scoped>\n",
       "    .dataframe tbody tr th:only-of-type {\n",
       "        vertical-align: middle;\n",
       "    }\n",
       "\n",
       "    .dataframe tbody tr th {\n",
       "        vertical-align: top;\n",
       "    }\n",
       "\n",
       "    .dataframe thead th {\n",
       "        text-align: right;\n",
       "    }\n",
       "</style>\n",
       "<table border=\"1\" class=\"dataframe\">\n",
       "  <thead>\n",
       "    <tr style=\"text-align: right;\">\n",
       "      <th></th>\n",
       "      <th>Age</th>\n",
       "      <th>SibSp</th>\n",
       "      <th>Parch</th>\n",
       "      <th>Fare</th>\n",
       "      <th>male</th>\n",
       "      <th>Q</th>\n",
       "      <th>S</th>\n",
       "      <th>class_2</th>\n",
       "      <th>class_3</th>\n",
       "    </tr>\n",
       "    <tr>\n",
       "      <th>PassengerId</th>\n",
       "      <th></th>\n",
       "      <th></th>\n",
       "      <th></th>\n",
       "      <th></th>\n",
       "      <th></th>\n",
       "      <th></th>\n",
       "      <th></th>\n",
       "      <th></th>\n",
       "      <th></th>\n",
       "    </tr>\n",
       "  </thead>\n",
       "  <tbody>\n",
       "    <tr>\n",
       "      <th>892</th>\n",
       "      <td>34.5</td>\n",
       "      <td>0</td>\n",
       "      <td>0</td>\n",
       "      <td>7.8292</td>\n",
       "      <td>True</td>\n",
       "      <td>True</td>\n",
       "      <td>False</td>\n",
       "      <td>False</td>\n",
       "      <td>True</td>\n",
       "    </tr>\n",
       "    <tr>\n",
       "      <th>893</th>\n",
       "      <td>47.0</td>\n",
       "      <td>1</td>\n",
       "      <td>0</td>\n",
       "      <td>7.0000</td>\n",
       "      <td>False</td>\n",
       "      <td>False</td>\n",
       "      <td>True</td>\n",
       "      <td>False</td>\n",
       "      <td>True</td>\n",
       "    </tr>\n",
       "    <tr>\n",
       "      <th>894</th>\n",
       "      <td>62.0</td>\n",
       "      <td>0</td>\n",
       "      <td>0</td>\n",
       "      <td>9.6875</td>\n",
       "      <td>True</td>\n",
       "      <td>True</td>\n",
       "      <td>False</td>\n",
       "      <td>True</td>\n",
       "      <td>False</td>\n",
       "    </tr>\n",
       "    <tr>\n",
       "      <th>895</th>\n",
       "      <td>27.0</td>\n",
       "      <td>0</td>\n",
       "      <td>0</td>\n",
       "      <td>8.6625</td>\n",
       "      <td>True</td>\n",
       "      <td>False</td>\n",
       "      <td>True</td>\n",
       "      <td>False</td>\n",
       "      <td>True</td>\n",
       "    </tr>\n",
       "    <tr>\n",
       "      <th>896</th>\n",
       "      <td>22.0</td>\n",
       "      <td>1</td>\n",
       "      <td>1</td>\n",
       "      <td>12.2875</td>\n",
       "      <td>False</td>\n",
       "      <td>False</td>\n",
       "      <td>True</td>\n",
       "      <td>False</td>\n",
       "      <td>True</td>\n",
       "    </tr>\n",
       "  </tbody>\n",
       "</table>\n",
       "</div>"
      ],
      "text/plain": [
       "              Age  SibSp  Parch     Fare   male      Q      S  class_2  \\\n",
       "PassengerId                                                              \n",
       "892          34.5      0      0   7.8292   True   True  False    False   \n",
       "893          47.0      1      0   7.0000  False  False   True    False   \n",
       "894          62.0      0      0   9.6875   True   True  False     True   \n",
       "895          27.0      0      0   8.6625   True  False   True    False   \n",
       "896          22.0      1      1  12.2875  False  False   True    False   \n",
       "\n",
       "             class_3  \n",
       "PassengerId           \n",
       "892             True  \n",
       "893             True  \n",
       "894            False  \n",
       "895             True  \n",
       "896             True  "
      ]
     },
     "execution_count": 98,
     "metadata": {},
     "output_type": "execute_result"
    }
   ],
   "source": [
    "test_X.head()"
   ]
  },
  {
   "cell_type": "code",
   "execution_count": 99,
   "id": "4d6769be",
   "metadata": {
    "execution": {
     "iopub.execute_input": "2023-10-13T19:22:36.455845Z",
     "iopub.status.busy": "2023-10-13T19:22:36.455165Z",
     "iopub.status.idle": "2023-10-13T19:22:36.460270Z",
     "shell.execute_reply": "2023-10-13T19:22:36.459370Z"
    },
    "papermill": {
     "duration": 0.056408,
     "end_time": "2023-10-13T19:22:36.462295",
     "exception": false,
     "start_time": "2023-10-13T19:22:36.405887",
     "status": "completed"
    },
    "tags": []
   },
   "outputs": [],
   "source": [
    "test_X_num_cols = test_X[num_columns]"
   ]
  },
  {
   "cell_type": "code",
   "execution_count": 100,
   "id": "0a77de0c",
   "metadata": {
    "execution": {
     "iopub.execute_input": "2023-10-13T19:22:36.559185Z",
     "iopub.status.busy": "2023-10-13T19:22:36.558543Z",
     "iopub.status.idle": "2023-10-13T19:22:36.564665Z",
     "shell.execute_reply": "2023-10-13T19:22:36.563976Z"
    },
    "papermill": {
     "duration": 0.055748,
     "end_time": "2023-10-13T19:22:36.566449",
     "exception": false,
     "start_time": "2023-10-13T19:22:36.510701",
     "status": "completed"
    },
    "tags": []
   },
   "outputs": [],
   "source": [
    "test_scaled_num_array = scalar.transform(test_X_num_cols)"
   ]
  },
  {
   "cell_type": "code",
   "execution_count": 101,
   "id": "d08ec2ec",
   "metadata": {
    "execution": {
     "iopub.execute_input": "2023-10-13T19:22:36.663419Z",
     "iopub.status.busy": "2023-10-13T19:22:36.662720Z",
     "iopub.status.idle": "2023-10-13T19:22:36.669999Z",
     "shell.execute_reply": "2023-10-13T19:22:36.668808Z"
    },
    "papermill": {
     "duration": 0.059233,
     "end_time": "2023-10-13T19:22:36.672261",
     "exception": false,
     "start_time": "2023-10-13T19:22:36.613028",
     "status": "completed"
    },
    "tags": []
   },
   "outputs": [],
   "source": [
    "test_X = test_X.drop(num_columns, axis=1)\n",
    "test_data_submission  = np.c_[test_scaled_num_array, np.array(test_X)]"
   ]
  },
  {
   "cell_type": "code",
   "execution_count": 102,
   "id": "22514a0c",
   "metadata": {
    "execution": {
     "iopub.execute_input": "2023-10-13T19:22:36.768123Z",
     "iopub.status.busy": "2023-10-13T19:22:36.767291Z",
     "iopub.status.idle": "2023-10-13T19:22:36.785757Z",
     "shell.execute_reply": "2023-10-13T19:22:36.784878Z"
    },
    "papermill": {
     "duration": 0.068306,
     "end_time": "2023-10-13T19:22:36.787599",
     "exception": false,
     "start_time": "2023-10-13T19:22:36.719293",
     "status": "completed"
    },
    "tags": []
   },
   "outputs": [
    {
     "data": {
      "text/html": [
       "<div>\n",
       "<style scoped>\n",
       "    .dataframe tbody tr th:only-of-type {\n",
       "        vertical-align: middle;\n",
       "    }\n",
       "\n",
       "    .dataframe tbody tr th {\n",
       "        vertical-align: top;\n",
       "    }\n",
       "\n",
       "    .dataframe thead th {\n",
       "        text-align: right;\n",
       "    }\n",
       "</style>\n",
       "<table border=\"1\" class=\"dataframe\">\n",
       "  <thead>\n",
       "    <tr style=\"text-align: right;\">\n",
       "      <th></th>\n",
       "      <th>Age</th>\n",
       "      <th>SibSp</th>\n",
       "      <th>Parch</th>\n",
       "      <th>Fare</th>\n",
       "      <th>male</th>\n",
       "      <th>Q</th>\n",
       "      <th>S</th>\n",
       "      <th>class_2</th>\n",
       "      <th>class_3</th>\n",
       "    </tr>\n",
       "  </thead>\n",
       "  <tbody>\n",
       "    <tr>\n",
       "      <th>0</th>\n",
       "      <td>0.416162</td>\n",
       "      <td>-0.469837</td>\n",
       "      <td>-0.463993</td>\n",
       "      <td>-0.468208</td>\n",
       "      <td>1.0</td>\n",
       "      <td>1.0</td>\n",
       "      <td>0.0</td>\n",
       "      <td>0.0</td>\n",
       "      <td>1.0</td>\n",
       "    </tr>\n",
       "    <tr>\n",
       "      <th>1</th>\n",
       "      <td>1.368792</td>\n",
       "      <td>0.344183</td>\n",
       "      <td>-0.463993</td>\n",
       "      <td>-0.484329</td>\n",
       "      <td>0.0</td>\n",
       "      <td>0.0</td>\n",
       "      <td>1.0</td>\n",
       "      <td>0.0</td>\n",
       "      <td>1.0</td>\n",
       "    </tr>\n",
       "    <tr>\n",
       "      <th>2</th>\n",
       "      <td>2.511948</td>\n",
       "      <td>-0.469837</td>\n",
       "      <td>-0.463993</td>\n",
       "      <td>-0.432081</td>\n",
       "      <td>1.0</td>\n",
       "      <td>1.0</td>\n",
       "      <td>0.0</td>\n",
       "      <td>1.0</td>\n",
       "      <td>0.0</td>\n",
       "    </tr>\n",
       "    <tr>\n",
       "      <th>3</th>\n",
       "      <td>-0.155415</td>\n",
       "      <td>-0.469837</td>\n",
       "      <td>-0.463993</td>\n",
       "      <td>-0.452008</td>\n",
       "      <td>1.0</td>\n",
       "      <td>0.0</td>\n",
       "      <td>1.0</td>\n",
       "      <td>0.0</td>\n",
       "      <td>1.0</td>\n",
       "    </tr>\n",
       "    <tr>\n",
       "      <th>4</th>\n",
       "      <td>-0.536467</td>\n",
       "      <td>0.344183</td>\n",
       "      <td>0.776095</td>\n",
       "      <td>-0.381535</td>\n",
       "      <td>0.0</td>\n",
       "      <td>0.0</td>\n",
       "      <td>1.0</td>\n",
       "      <td>0.0</td>\n",
       "      <td>1.0</td>\n",
       "    </tr>\n",
       "    <tr>\n",
       "      <th>...</th>\n",
       "      <td>...</td>\n",
       "      <td>...</td>\n",
       "      <td>...</td>\n",
       "      <td>...</td>\n",
       "      <td>...</td>\n",
       "      <td>...</td>\n",
       "      <td>...</td>\n",
       "      <td>...</td>\n",
       "      <td>...</td>\n",
       "    </tr>\n",
       "    <tr>\n",
       "      <th>413</th>\n",
       "      <td>-0.307836</td>\n",
       "      <td>-0.469837</td>\n",
       "      <td>-0.463993</td>\n",
       "      <td>-0.463916</td>\n",
       "      <td>1.0</td>\n",
       "      <td>0.0</td>\n",
       "      <td>1.0</td>\n",
       "      <td>0.0</td>\n",
       "      <td>1.0</td>\n",
       "    </tr>\n",
       "    <tr>\n",
       "      <th>414</th>\n",
       "      <td>0.759109</td>\n",
       "      <td>-0.469837</td>\n",
       "      <td>-0.463993</td>\n",
       "      <td>1.496706</td>\n",
       "      <td>0.0</td>\n",
       "      <td>0.0</td>\n",
       "      <td>0.0</td>\n",
       "      <td>0.0</td>\n",
       "      <td>0.0</td>\n",
       "    </tr>\n",
       "    <tr>\n",
       "      <th>415</th>\n",
       "      <td>0.721004</td>\n",
       "      <td>-0.469837</td>\n",
       "      <td>-0.463993</td>\n",
       "      <td>-0.479469</td>\n",
       "      <td>1.0</td>\n",
       "      <td>0.0</td>\n",
       "      <td>1.0</td>\n",
       "      <td>0.0</td>\n",
       "      <td>1.0</td>\n",
       "    </tr>\n",
       "    <tr>\n",
       "      <th>416</th>\n",
       "      <td>-0.307836</td>\n",
       "      <td>-0.469837</td>\n",
       "      <td>-0.463993</td>\n",
       "      <td>-0.463916</td>\n",
       "      <td>1.0</td>\n",
       "      <td>0.0</td>\n",
       "      <td>1.0</td>\n",
       "      <td>0.0</td>\n",
       "      <td>1.0</td>\n",
       "    </tr>\n",
       "    <tr>\n",
       "      <th>417</th>\n",
       "      <td>-0.307836</td>\n",
       "      <td>0.344183</td>\n",
       "      <td>0.776095</td>\n",
       "      <td>-0.185749</td>\n",
       "      <td>1.0</td>\n",
       "      <td>0.0</td>\n",
       "      <td>0.0</td>\n",
       "      <td>0.0</td>\n",
       "      <td>1.0</td>\n",
       "    </tr>\n",
       "  </tbody>\n",
       "</table>\n",
       "<p>418 rows × 9 columns</p>\n",
       "</div>"
      ],
      "text/plain": [
       "          Age     SibSp     Parch      Fare  male    Q    S  class_2  class_3\n",
       "0    0.416162 -0.469837 -0.463993 -0.468208   1.0  1.0  0.0      0.0      1.0\n",
       "1    1.368792  0.344183 -0.463993 -0.484329   0.0  0.0  1.0      0.0      1.0\n",
       "2    2.511948 -0.469837 -0.463993 -0.432081   1.0  1.0  0.0      1.0      0.0\n",
       "3   -0.155415 -0.469837 -0.463993 -0.452008   1.0  0.0  1.0      0.0      1.0\n",
       "4   -0.536467  0.344183  0.776095 -0.381535   0.0  0.0  1.0      0.0      1.0\n",
       "..        ...       ...       ...       ...   ...  ...  ...      ...      ...\n",
       "413 -0.307836 -0.469837 -0.463993 -0.463916   1.0  0.0  1.0      0.0      1.0\n",
       "414  0.759109 -0.469837 -0.463993  1.496706   0.0  0.0  0.0      0.0      0.0\n",
       "415  0.721004 -0.469837 -0.463993 -0.479469   1.0  0.0  1.0      0.0      1.0\n",
       "416 -0.307836 -0.469837 -0.463993 -0.463916   1.0  0.0  1.0      0.0      1.0\n",
       "417 -0.307836  0.344183  0.776095 -0.185749   1.0  0.0  0.0      0.0      1.0\n",
       "\n",
       "[418 rows x 9 columns]"
      ]
     },
     "execution_count": 102,
     "metadata": {},
     "output_type": "execute_result"
    }
   ],
   "source": [
    "pd.DataFrame(test_data_submission, columns=final_columns)"
   ]
  },
  {
   "cell_type": "markdown",
   "id": "5c0defa6",
   "metadata": {
    "papermill": {
     "duration": 0.046634,
     "end_time": "2023-10-13T19:22:36.881187",
     "exception": false,
     "start_time": "2023-10-13T19:22:36.834553",
     "status": "completed"
    },
    "tags": []
   },
   "source": [
    "### Save results:"
   ]
  },
  {
   "cell_type": "code",
   "execution_count": 103,
   "id": "989c28f6",
   "metadata": {
    "execution": {
     "iopub.execute_input": "2023-10-13T19:22:36.977177Z",
     "iopub.status.busy": "2023-10-13T19:22:36.976775Z",
     "iopub.status.idle": "2023-10-13T19:22:36.982125Z",
     "shell.execute_reply": "2023-10-13T19:22:36.981342Z"
    },
    "papermill": {
     "duration": 0.055634,
     "end_time": "2023-10-13T19:22:36.983776",
     "exception": false,
     "start_time": "2023-10-13T19:22:36.928142",
     "status": "completed"
    },
    "tags": []
   },
   "outputs": [],
   "source": [
    "result_xgb, result_rfc = pd.DataFrame(), pd.DataFrame()"
   ]
  },
  {
   "cell_type": "code",
   "execution_count": 104,
   "id": "2de4f6b7",
   "metadata": {
    "execution": {
     "iopub.execute_input": "2023-10-13T19:22:37.079433Z",
     "iopub.status.busy": "2023-10-13T19:22:37.079068Z",
     "iopub.status.idle": "2023-10-13T19:22:37.087205Z",
     "shell.execute_reply": "2023-10-13T19:22:37.086208Z"
    },
    "papermill": {
     "duration": 0.058156,
     "end_time": "2023-10-13T19:22:37.089044",
     "exception": false,
     "start_time": "2023-10-13T19:22:37.030888",
     "status": "completed"
    },
    "tags": []
   },
   "outputs": [],
   "source": [
    "test_df = pd.read_csv('/kaggle/input/titanic/test.csv')"
   ]
  },
  {
   "cell_type": "code",
   "execution_count": 105,
   "id": "80468802",
   "metadata": {
    "execution": {
     "iopub.execute_input": "2023-10-13T19:22:37.185792Z",
     "iopub.status.busy": "2023-10-13T19:22:37.184645Z",
     "iopub.status.idle": "2023-10-13T19:22:37.191118Z",
     "shell.execute_reply": "2023-10-13T19:22:37.190353Z"
    },
    "papermill": {
     "duration": 0.056492,
     "end_time": "2023-10-13T19:22:37.192975",
     "exception": false,
     "start_time": "2023-10-13T19:22:37.136483",
     "status": "completed"
    },
    "tags": []
   },
   "outputs": [],
   "source": [
    "result_xgb['PassengerId'], result_rfc['PassengerId'] = test_df['PassengerId'], test_df['PassengerId']"
   ]
  },
  {
   "cell_type": "code",
   "execution_count": 106,
   "id": "7e628389",
   "metadata": {
    "execution": {
     "iopub.execute_input": "2023-10-13T19:22:37.289158Z",
     "iopub.status.busy": "2023-10-13T19:22:37.288487Z",
     "iopub.status.idle": "2023-10-13T19:22:37.308571Z",
     "shell.execute_reply": "2023-10-13T19:22:37.307705Z"
    },
    "papermill": {
     "duration": 0.071117,
     "end_time": "2023-10-13T19:22:37.310870",
     "exception": false,
     "start_time": "2023-10-13T19:22:37.239753",
     "status": "completed"
    },
    "tags": []
   },
   "outputs": [],
   "source": [
    "result_xgb['Survived'] = best_model_xgb.predict(test_data_submission)\n",
    "result_rfc['Survived'] = best_model_rfc.predict(test_data_submission)"
   ]
  },
  {
   "cell_type": "code",
   "execution_count": 107,
   "id": "00f9ddd9",
   "metadata": {
    "execution": {
     "iopub.execute_input": "2023-10-13T19:22:37.407861Z",
     "iopub.status.busy": "2023-10-13T19:22:37.406964Z",
     "iopub.status.idle": "2023-10-13T19:22:37.412854Z",
     "shell.execute_reply": "2023-10-13T19:22:37.411955Z"
    },
    "papermill": {
     "duration": 0.056247,
     "end_time": "2023-10-13T19:22:37.414710",
     "exception": false,
     "start_time": "2023-10-13T19:22:37.358463",
     "status": "completed"
    },
    "tags": []
   },
   "outputs": [],
   "source": [
    "result_xgb.set_index('PassengerId', inplace=True)\n",
    "result_rfc.set_index('PassengerId', inplace=True)"
   ]
  },
  {
   "cell_type": "code",
   "execution_count": 108,
   "id": "f6b4b0c6",
   "metadata": {
    "execution": {
     "iopub.execute_input": "2023-10-13T19:22:37.511876Z",
     "iopub.status.busy": "2023-10-13T19:22:37.511158Z",
     "iopub.status.idle": "2023-10-13T19:22:37.519010Z",
     "shell.execute_reply": "2023-10-13T19:22:37.518086Z"
    },
    "papermill": {
     "duration": 0.058908,
     "end_time": "2023-10-13T19:22:37.520749",
     "exception": false,
     "start_time": "2023-10-13T19:22:37.461841",
     "status": "completed"
    },
    "tags": []
   },
   "outputs": [
    {
     "data": {
      "text/html": [
       "<div>\n",
       "<style scoped>\n",
       "    .dataframe tbody tr th:only-of-type {\n",
       "        vertical-align: middle;\n",
       "    }\n",
       "\n",
       "    .dataframe tbody tr th {\n",
       "        vertical-align: top;\n",
       "    }\n",
       "\n",
       "    .dataframe thead th {\n",
       "        text-align: right;\n",
       "    }\n",
       "</style>\n",
       "<table border=\"1\" class=\"dataframe\">\n",
       "  <thead>\n",
       "    <tr style=\"text-align: right;\">\n",
       "      <th></th>\n",
       "      <th>Survived</th>\n",
       "    </tr>\n",
       "    <tr>\n",
       "      <th>PassengerId</th>\n",
       "      <th></th>\n",
       "    </tr>\n",
       "  </thead>\n",
       "  <tbody>\n",
       "    <tr>\n",
       "      <th>892</th>\n",
       "      <td>0</td>\n",
       "    </tr>\n",
       "    <tr>\n",
       "      <th>893</th>\n",
       "      <td>0</td>\n",
       "    </tr>\n",
       "    <tr>\n",
       "      <th>894</th>\n",
       "      <td>0</td>\n",
       "    </tr>\n",
       "    <tr>\n",
       "      <th>895</th>\n",
       "      <td>0</td>\n",
       "    </tr>\n",
       "    <tr>\n",
       "      <th>896</th>\n",
       "      <td>1</td>\n",
       "    </tr>\n",
       "  </tbody>\n",
       "</table>\n",
       "</div>"
      ],
      "text/plain": [
       "             Survived\n",
       "PassengerId          \n",
       "892                 0\n",
       "893                 0\n",
       "894                 0\n",
       "895                 0\n",
       "896                 1"
      ]
     },
     "execution_count": 108,
     "metadata": {},
     "output_type": "execute_result"
    }
   ],
   "source": [
    "result_xgb.head()"
   ]
  },
  {
   "cell_type": "code",
   "execution_count": 109,
   "id": "702c1032",
   "metadata": {
    "execution": {
     "iopub.execute_input": "2023-10-13T19:22:37.620155Z",
     "iopub.status.busy": "2023-10-13T19:22:37.619497Z",
     "iopub.status.idle": "2023-10-13T19:22:37.627403Z",
     "shell.execute_reply": "2023-10-13T19:22:37.626414Z"
    },
    "papermill": {
     "duration": 0.059535,
     "end_time": "2023-10-13T19:22:37.629509",
     "exception": false,
     "start_time": "2023-10-13T19:22:37.569974",
     "status": "completed"
    },
    "tags": []
   },
   "outputs": [
    {
     "data": {
      "text/html": [
       "<div>\n",
       "<style scoped>\n",
       "    .dataframe tbody tr th:only-of-type {\n",
       "        vertical-align: middle;\n",
       "    }\n",
       "\n",
       "    .dataframe tbody tr th {\n",
       "        vertical-align: top;\n",
       "    }\n",
       "\n",
       "    .dataframe thead th {\n",
       "        text-align: right;\n",
       "    }\n",
       "</style>\n",
       "<table border=\"1\" class=\"dataframe\">\n",
       "  <thead>\n",
       "    <tr style=\"text-align: right;\">\n",
       "      <th></th>\n",
       "      <th>Survived</th>\n",
       "    </tr>\n",
       "    <tr>\n",
       "      <th>PassengerId</th>\n",
       "      <th></th>\n",
       "    </tr>\n",
       "  </thead>\n",
       "  <tbody>\n",
       "    <tr>\n",
       "      <th>892</th>\n",
       "      <td>0</td>\n",
       "    </tr>\n",
       "    <tr>\n",
       "      <th>893</th>\n",
       "      <td>0</td>\n",
       "    </tr>\n",
       "    <tr>\n",
       "      <th>894</th>\n",
       "      <td>0</td>\n",
       "    </tr>\n",
       "    <tr>\n",
       "      <th>895</th>\n",
       "      <td>0</td>\n",
       "    </tr>\n",
       "    <tr>\n",
       "      <th>896</th>\n",
       "      <td>0</td>\n",
       "    </tr>\n",
       "  </tbody>\n",
       "</table>\n",
       "</div>"
      ],
      "text/plain": [
       "             Survived\n",
       "PassengerId          \n",
       "892                 0\n",
       "893                 0\n",
       "894                 0\n",
       "895                 0\n",
       "896                 0"
      ]
     },
     "execution_count": 109,
     "metadata": {},
     "output_type": "execute_result"
    }
   ],
   "source": [
    "result_rfc.head()"
   ]
  },
  {
   "cell_type": "code",
   "execution_count": 110,
   "id": "0227038d",
   "metadata": {
    "execution": {
     "iopub.execute_input": "2023-10-13T19:22:37.732102Z",
     "iopub.status.busy": "2023-10-13T19:22:37.731681Z",
     "iopub.status.idle": "2023-10-13T19:22:37.740674Z",
     "shell.execute_reply": "2023-10-13T19:22:37.739773Z"
    },
    "papermill": {
     "duration": 0.061672,
     "end_time": "2023-10-13T19:22:37.743123",
     "exception": false,
     "start_time": "2023-10-13T19:22:37.681451",
     "status": "completed"
    },
    "tags": []
   },
   "outputs": [],
   "source": [
    "result_xgb.to_csv('titanic_kaggle_submission_xgboost_v1.csv')"
   ]
  },
  {
   "cell_type": "code",
   "execution_count": 111,
   "id": "37e25695",
   "metadata": {
    "execution": {
     "iopub.execute_input": "2023-10-13T19:22:37.841850Z",
     "iopub.status.busy": "2023-10-13T19:22:37.841062Z",
     "iopub.status.idle": "2023-10-13T19:22:37.848196Z",
     "shell.execute_reply": "2023-10-13T19:22:37.847046Z"
    },
    "papermill": {
     "duration": 0.059088,
     "end_time": "2023-10-13T19:22:37.850480",
     "exception": false,
     "start_time": "2023-10-13T19:22:37.791392",
     "status": "completed"
    },
    "tags": []
   },
   "outputs": [],
   "source": [
    "result_rfc.to_csv('titanic_kaggle_submission_rfc_v1.csv')"
   ]
  }
 ],
 "metadata": {
  "kernelspec": {
   "display_name": "Python 3",
   "language": "python",
   "name": "python3"
  },
  "language_info": {
   "codemirror_mode": {
    "name": "ipython",
    "version": 3
   },
   "file_extension": ".py",
   "mimetype": "text/x-python",
   "name": "python",
   "nbconvert_exporter": "python",
   "pygments_lexer": "ipython3",
   "version": "3.10.12"
  },
  "papermill": {
   "default_parameters": {},
   "duration": 115.288383,
   "end_time": "2023-10-13T19:22:38.619051",
   "environment_variables": {},
   "exception": null,
   "input_path": "__notebook__.ipynb",
   "output_path": "__notebook__.ipynb",
   "parameters": {},
   "start_time": "2023-10-13T19:20:43.330668",
   "version": "2.4.0"
  }
 },
 "nbformat": 4,
 "nbformat_minor": 5
}
